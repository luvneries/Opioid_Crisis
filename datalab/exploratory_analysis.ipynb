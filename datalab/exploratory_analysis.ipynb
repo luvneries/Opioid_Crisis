{
 "cells": [
  {
   "cell_type": "markdown",
   "metadata": {},
   "source": [
    "<h1><center> Hackathon Opioid Care </h1>\n",
    "\n",
    "First let's undestand opioids crisis.\n",
    "\n",
    "Opioid is group of drugs that are painkiller for severe pains. Some of well known opioids are morphine, codeine, heroin and fenatanyl. United States is confronting the most fatal drug crisis in U.S. history.\n",
    "* 11 millions people misused an opioid pain reliever in past year (2017).\n",
    "* 63,600 families lost loved ones to a drug overdose in 2016.\n",
    "* U.S lifespan estimate declined for the second year in a row.\n",
    "* Opioid over prescribing affecting economy by reducing number of workers.\n",
    "\n",
    "\n",
    "<br><h2> Findings ( Factors that are driving growing opioid epidemic ) </h2>\n",
    "\n",
    "* Male has more deaths due to drug abuse as compared to female but in both cases age-group which is highly affected due to this is between 25-34, 35-44 and 45-54 respectively.\n",
    "* **West Virginia, Maryland, Ohio** are 3 most vulnerable states. All Top 10 states are from northeast region.\n",
    "* **White and African American** between age of **25-54** are more prone to drug abuse and overdose.\n",
    "* People who are affected most of the times are due to injuries or accidents, post surgery to treat severe pain.\n",
    "* Individual who take opioids and don't have history of depression, anxiety and other mental illness are less likely to become addicted.\n",
    "* Pain management and post surgery (hospitalization data), people don't realize how easy it can be to become addicted.\n",
    "* Recreational drug use by youths.\n",
    "\n",
    "\n",
    "<br><h2> Identified below key actions to overcome this epidemic ( Recommended actions to reduce opioid overdoses). </h2>\n",
    "\n",
    "* Continuous education for prescriber and Implementing opioid prescribing guidelines.\n",
    "* Improving data integartion platform for  drug monitonoring, collection and sharing program.\n",
    "* Avaialability of opioid use disorder treatment. Medication Assisted Treatment should be available near area at high risk of opioid abuse.\n",
    "* Implement programs and laws to expand access to Naloxone, a drug to treat opioid overdose.\n",
    "* Availability of good education and Access to excercise facilities keep your brain free from mental pressure and reduce risk of opioid use.\n",
    "* Low cost health care providers and care for children helps to overcome tension related to family.\n",
    "\n",
    "\n",
    "<br><h2> Use case: Simulate opioid usage growth in different regions. </h2>\n",
    "\n",
    "* Identify county or state which are at high risk based on demographics data, to open more Opioid Treatment centers. \n",
    "* Find out demographic and socio-economic factors which are good indicators of probability an individual abuse opioids such as Race and ethinicty, Gender and Age group, Employment status, Mariatal Status, Income, Education.\n",
    "* Predict mortality rate based on different factors."
   ]
  },
  {
   "cell_type": "markdown",
   "metadata": {},
   "source": [
    "## Let's start exploring dataset..."
   ]
  },
  {
   "cell_type": "code",
   "execution_count": 1,
   "metadata": {},
   "outputs": [
    {
     "name": "stdout",
     "output_type": "stream",
     "text": [
      "Collecting xlrd\n",
      "\u001b[33m  Cache entry deserialization failed, entry ignored\u001b[0m\n",
      "  Using cached https://files.pythonhosted.org/packages/07/e6/e95c4eec6221bfd8528bcc4ea252a850bffcc4be88ebc367e23a1a84b0bb/xlrd-1.1.0-py2.py3-none-any.whl\n",
      "Installing collected packages: xlrd\n",
      "Successfully installed xlrd-1.1.0\n"
     ]
    }
   ],
   "source": [
    "#echo \"pip install xlrd\" >> /content/datalab/.config/startup.sh\n",
    "\n",
    "# xlrd module is required to read data from excel. \n",
    "# Run it from below commented section if it is not installed already \n",
    "!pip install xlrd"
   ]
  },
  {
   "cell_type": "code",
   "execution_count": 2,
   "metadata": {},
   "outputs": [],
   "source": [
    "# Import required libraries\n",
    "import pandas as pd\n",
    "pd.options.display.max_columns=75\n",
    "pd.options.display.max_rows=75\n",
    "pd.options.display.float_format='{:,.2f}'.format\n",
    "\n",
    "import numpy as np\n",
    "np.random.seed(0)\n",
    "import matplotlib.pyplot as plt\n",
    "%matplotlib inline\n",
    "\n",
    "import seaborn as sns\n",
    "sns.set()\n",
    "\n",
    "import google.datalab.storage as storage\n",
    "bucket = storage.Bucket('opioid-care')\n",
    "\n",
    "import google.datalab.bigquery as bq\n",
    "\n",
    "from io import BytesIO\n",
    "import os, sys\n",
    "\n",
    "from IPython.core.interactiveshell import InteractiveShell\n",
    "InteractiveShell.ast_node_interactivity = \"all\""
   ]
  },
  {
   "cell_type": "code",
   "execution_count": 3,
   "metadata": {},
   "outputs": [
    {
     "data": {
      "text/html": [
       "<table><tr><th>Name</th><th>Type</th><th>Size</th><th>Updated</th></tr><tr><td>raw-data/Cause-of-Death/</td><td>application/x-www-form-urlencoded;charset=UTF-8</td><td>0</td><td>2018-10-30 17:58:52.513000+00:00</td></tr><tr><td>raw-data/Cause-of-Death/CDC_cause_of_death_by_demographics_and_state_20180606.xlsx</td><td>application/vnd.openxmlformats-officedocument.spreadsheetml.sheet</td><td>2036990</td><td>2018-10-31 03:07:27.219000+00:00</td></tr><tr><td>raw-data/Cause-of-Death/National_Opioid_Mortality_CDC_Wonder_2010-2016_20180430.csv</td><td>application/vnd.ms-excel</td><td>43204</td><td>2018-10-31 03:07:58.636000+00:00</td></tr><tr><td>raw-data/Cause-of-Death/State_Opioid_Mortality_Rates_byDrug_2010-2016.xlsx</td><td>application/vnd.openxmlformats-officedocument.spreadsheetml.sheet</td><td>423049</td><td>2018-10-30 18:05:52.578000+00:00</td></tr></table>"
      ],
      "text/plain": [
       "<IPython.core.display.HTML object>"
      ]
     },
     "execution_count": 3,
     "metadata": {},
     "output_type": "execute_result"
    }
   ],
   "source": [
    "# List out files for Cause of Death dataset\n",
    "%gcs list --objects gs://opioid-care/raw-data/Cause-of-Death"
   ]
  },
  {
   "cell_type": "code",
   "execution_count": 4,
   "metadata": {},
   "outputs": [],
   "source": [
    "# Write resuable function to read from storage\n",
    "def read_from_storage(object_name, delimiter=','):\n",
    "  \"\"\"\n",
    "  object_name: Full path of file, e.g 'raw-data/Cause-of-Death/CDC_cause_of_death_by_demographics_and_state_20180606.xlsx')\n",
    "  delimiter: Based on file e.g Default ',' '\\t' '|'\n",
    "  \"\"\"\n",
    "  global data, uri\n",
    "  data = bucket.object(object_name)\n",
    "  uri = data.uri\n",
    "  %gcs read --object $uri --variable data\n",
    "  if object_name.endswith('xlsx') or object_name.endswith('xls'):\n",
    "    return pd.read_excel(BytesIO(data))\n",
    "  return pd.read_csv(BytesIO(data), delimiter=delimiter)"
   ]
  },
  {
   "cell_type": "code",
   "execution_count": 5,
   "metadata": {},
   "outputs": [
    {
     "data": {
      "text/plain": [
       "(2356, 8)"
      ]
     },
     "execution_count": 5,
     "metadata": {},
     "output_type": "execute_result"
    },
    {
     "data": {
      "text/html": [
       "<div>\n",
       "<style scoped>\n",
       "    .dataframe tbody tr th:only-of-type {\n",
       "        vertical-align: middle;\n",
       "    }\n",
       "\n",
       "    .dataframe tbody tr th {\n",
       "        vertical-align: top;\n",
       "    }\n",
       "\n",
       "    .dataframe thead th {\n",
       "        text-align: right;\n",
       "    }\n",
       "</style>\n",
       "<table border=\"1\" class=\"dataframe\">\n",
       "  <thead>\n",
       "    <tr style=\"text-align: right;\">\n",
       "      <th></th>\n",
       "      <th>STATE_NAME</th>\n",
       "      <th>STATE_ABBREV</th>\n",
       "      <th>STATE_FIPS</th>\n",
       "      <th>YEAR</th>\n",
       "      <th>GENDER</th>\n",
       "      <th>GROUP</th>\n",
       "      <th>POPULATION</th>\n",
       "      <th>OPD_DRUGDEATHS</th>\n",
       "    </tr>\n",
       "  </thead>\n",
       "  <tbody>\n",
       "    <tr>\n",
       "      <th>0</th>\n",
       "      <td>Alabama</td>\n",
       "      <td>AL</td>\n",
       "      <td>1</td>\n",
       "      <td>2010</td>\n",
       "      <td>Male</td>\n",
       "      <td>25-34 years</td>\n",
       "      <td>300140</td>\n",
       "      <td>26</td>\n",
       "    </tr>\n",
       "    <tr>\n",
       "      <th>1</th>\n",
       "      <td>Alabama</td>\n",
       "      <td>AL</td>\n",
       "      <td>1</td>\n",
       "      <td>2010</td>\n",
       "      <td>Male</td>\n",
       "      <td>35-44 years</td>\n",
       "      <td>303785</td>\n",
       "      <td>11</td>\n",
       "    </tr>\n",
       "    <tr>\n",
       "      <th>2</th>\n",
       "      <td>Alabama</td>\n",
       "      <td>AL</td>\n",
       "      <td>1</td>\n",
       "      <td>2010</td>\n",
       "      <td>Male</td>\n",
       "      <td>45-54 years</td>\n",
       "      <td>337828</td>\n",
       "      <td>14</td>\n",
       "    </tr>\n",
       "    <tr>\n",
       "      <th>3</th>\n",
       "      <td>Alabama</td>\n",
       "      <td>AL</td>\n",
       "      <td>1</td>\n",
       "      <td>2011</td>\n",
       "      <td>Female</td>\n",
       "      <td>45-54 years</td>\n",
       "      <td>352123</td>\n",
       "      <td>17</td>\n",
       "    </tr>\n",
       "    <tr>\n",
       "      <th>4</th>\n",
       "      <td>Alabama</td>\n",
       "      <td>AL</td>\n",
       "      <td>1</td>\n",
       "      <td>2011</td>\n",
       "      <td>Male</td>\n",
       "      <td>25-34 years</td>\n",
       "      <td>302589</td>\n",
       "      <td>15</td>\n",
       "    </tr>\n",
       "  </tbody>\n",
       "</table>\n",
       "</div>"
      ],
      "text/plain": [
       "  STATE_NAME STATE_ABBREV  STATE_FIPS  YEAR  GENDER        GROUP  POPULATION  \\\n",
       "0    Alabama           AL           1  2010    Male  25-34 years      300140   \n",
       "1    Alabama           AL           1  2010    Male  35-44 years      303785   \n",
       "2    Alabama           AL           1  2010    Male  45-54 years      337828   \n",
       "3    Alabama           AL           1  2011  Female  45-54 years      352123   \n",
       "4    Alabama           AL           1  2011    Male  25-34 years      302589   \n",
       "\n",
       "   OPD_DRUGDEATHS  \n",
       "0              26  \n",
       "1              11  \n",
       "2              14  \n",
       "3              17  \n",
       "4              15  "
      ]
     },
     "execution_count": 5,
     "metadata": {},
     "output_type": "execute_result"
    }
   ],
   "source": [
    "# Read demographics data\n",
    "death_by_demographics_df = read_from_storage('raw-data/Cause-of-Death/CDC_cause_of_death_by_demographics_and_state_20180606.xlsx')\n",
    "death_by_demographics_df.shape\n",
    "death_by_demographics_df.head(5)"
   ]
  },
  {
   "cell_type": "code",
   "execution_count": 6,
   "metadata": {},
   "outputs": [
    {
     "data": {
      "text/html": [
       "<div>\n",
       "<style scoped>\n",
       "    .dataframe tbody tr th:only-of-type {\n",
       "        vertical-align: middle;\n",
       "    }\n",
       "\n",
       "    .dataframe tbody tr th {\n",
       "        vertical-align: top;\n",
       "    }\n",
       "\n",
       "    .dataframe thead th {\n",
       "        text-align: right;\n",
       "    }\n",
       "</style>\n",
       "<table border=\"1\" class=\"dataframe\">\n",
       "  <thead>\n",
       "    <tr style=\"text-align: right;\">\n",
       "      <th></th>\n",
       "      <th>STATE_NAME</th>\n",
       "      <th>STATE_ABBREV</th>\n",
       "      <th>STATE_FIPS</th>\n",
       "      <th>YEAR</th>\n",
       "      <th>GENDER</th>\n",
       "      <th>GROUP</th>\n",
       "      <th>POPULATION</th>\n",
       "      <th>OPD_DRUGDEATHS</th>\n",
       "      <th>DEATH_RATE_PER_10000</th>\n",
       "      <th>MORTALITY_RATE</th>\n",
       "    </tr>\n",
       "  </thead>\n",
       "  <tbody>\n",
       "    <tr>\n",
       "      <th>0</th>\n",
       "      <td>Alabama</td>\n",
       "      <td>AL</td>\n",
       "      <td>1</td>\n",
       "      <td>2010</td>\n",
       "      <td>Male</td>\n",
       "      <td>25-34 years</td>\n",
       "      <td>300140</td>\n",
       "      <td>26</td>\n",
       "      <td>0.87</td>\n",
       "      <td>0.09</td>\n",
       "    </tr>\n",
       "    <tr>\n",
       "      <th>1</th>\n",
       "      <td>Alabama</td>\n",
       "      <td>AL</td>\n",
       "      <td>1</td>\n",
       "      <td>2010</td>\n",
       "      <td>Male</td>\n",
       "      <td>35-44 years</td>\n",
       "      <td>303785</td>\n",
       "      <td>11</td>\n",
       "      <td>0.36</td>\n",
       "      <td>0.04</td>\n",
       "    </tr>\n",
       "    <tr>\n",
       "      <th>2</th>\n",
       "      <td>Alabama</td>\n",
       "      <td>AL</td>\n",
       "      <td>1</td>\n",
       "      <td>2010</td>\n",
       "      <td>Male</td>\n",
       "      <td>45-54 years</td>\n",
       "      <td>337828</td>\n",
       "      <td>14</td>\n",
       "      <td>0.41</td>\n",
       "      <td>0.04</td>\n",
       "    </tr>\n",
       "    <tr>\n",
       "      <th>3</th>\n",
       "      <td>Alabama</td>\n",
       "      <td>AL</td>\n",
       "      <td>1</td>\n",
       "      <td>2011</td>\n",
       "      <td>Female</td>\n",
       "      <td>45-54 years</td>\n",
       "      <td>352123</td>\n",
       "      <td>17</td>\n",
       "      <td>0.48</td>\n",
       "      <td>0.05</td>\n",
       "    </tr>\n",
       "    <tr>\n",
       "      <th>4</th>\n",
       "      <td>Alabama</td>\n",
       "      <td>AL</td>\n",
       "      <td>1</td>\n",
       "      <td>2011</td>\n",
       "      <td>Male</td>\n",
       "      <td>25-34 years</td>\n",
       "      <td>302589</td>\n",
       "      <td>15</td>\n",
       "      <td>0.50</td>\n",
       "      <td>0.05</td>\n",
       "    </tr>\n",
       "  </tbody>\n",
       "</table>\n",
       "</div>"
      ],
      "text/plain": [
       "  STATE_NAME STATE_ABBREV  STATE_FIPS  YEAR  GENDER        GROUP  POPULATION  \\\n",
       "0    Alabama           AL           1  2010    Male  25-34 years      300140   \n",
       "1    Alabama           AL           1  2010    Male  35-44 years      303785   \n",
       "2    Alabama           AL           1  2010    Male  45-54 years      337828   \n",
       "3    Alabama           AL           1  2011  Female  45-54 years      352123   \n",
       "4    Alabama           AL           1  2011    Male  25-34 years      302589   \n",
       "\n",
       "   OPD_DRUGDEATHS  DEATH_RATE_PER_10000  MORTALITY_RATE  \n",
       "0              26                  0.87            0.09  \n",
       "1              11                  0.36            0.04  \n",
       "2              14                  0.41            0.04  \n",
       "3              17                  0.48            0.05  \n",
       "4              15                  0.50            0.05  "
      ]
     },
     "execution_count": 6,
     "metadata": {},
     "output_type": "execute_result"
    }
   ],
   "source": [
    "# Adding another variable to calculate deathrate_per_10000 = OPD_DRUGDEATHS/POPULATION\n",
    "death_by_demographics_df['DEATH_RATE_PER_10000'] = (death_by_demographics_df.OPD_DRUGDEATHS/death_by_demographics_df.POPULATION)*10000\n",
    "death_by_demographics_df['MORTALITY_RATE'] = (death_by_demographics_df.OPD_DRUGDEATHS/death_by_demographics_df.POPULATION)*1000\n",
    "death_by_demographics_df.head(5)"
   ]
  },
  {
   "cell_type": "code",
   "execution_count": 7,
   "metadata": {},
   "outputs": [
    {
     "name": "stderr",
     "output_type": "stream",
     "text": [
      "/usr/local/envs/py3env/lib/python3.5/site-packages/matplotlib/font_manager.py:1320: UserWarning: findfont: Font family ['sans-serif'] not found. Falling back to DejaVu Sans\n",
      "  (prop.get_family(), self.defaultFamily[fontext]))\n"
     ]
    },
    {
     "data": {
      "image/png": "[encoded data removed]",
      "text/plain": [
       "<matplotlib.figure.Figure at 0x7f1628151ba8>"
      ]
     },
     "metadata": {},
     "output_type": "display_data"
    }
   ],
   "source": [
    "# Plot Avg Death Per year and Group based deaths\n",
    "female_average_death_rate = pd.pivot_table(death_by_demographics_df[death_by_demographics_df['GENDER']=='Female'], ['DEATH_RATE_PER_10000'], index='YEAR', columns='GROUP')\n",
    "male_average_death_rate = pd.pivot_table(death_by_demographics_df[death_by_demographics_df['GENDER']=='Male'], ['DEATH_RATE_PER_10000'], index='YEAR', columns='GROUP')\n",
    "\n",
    "fig, axes = plt.subplots(nrows=1, ncols=3, figsize=(24, 8))\n",
    "ax1 = death_by_demographics_df.groupby('YEAR').mean()['OPD_DRUGDEATHS'].plot(ax = axes[0], kind='bar',\n",
    "                                                                             title = 'Avg Death per Year')\n",
    "ax2 = male_average_death_rate.plot(ax = axes[1], kind='line', title = 'Male Death per 10000', )\n",
    "ax3 = female_average_death_rate.plot(ax = axes[2], kind='line', title = 'Female Death per 10000')"
   ]
  },
  {
   "cell_type": "markdown",
   "metadata": {},
   "source": [
    "These chart shows that clear trend of increase in epidemic year by year. <br> \n",
    "Male has more deaths due to drug abuse as compared to female but in both cases age-group which is highly affected due to this is between 25-34, 35-44 and 45-54 respectively."
   ]
  },
  {
   "cell_type": "code",
   "execution_count": 8,
   "metadata": {},
   "outputs": [
    {
     "name": "stderr",
     "output_type": "stream",
     "text": [
      "/usr/local/envs/py3env/lib/python3.5/site-packages/matplotlib/font_manager.py:1320: UserWarning: findfont: Font family ['sans-serif'] not found. Falling back to DejaVu Sans\n",
      "  (prop.get_family(), self.defaultFamily[fontext]))\n"
     ]
    },
    {
     "data": {
      "image/png": "[encoded data removed]",
      "text/plain": [
       "<matplotlib.figure.Figure at 0x7f1624b48438>"
      ]
     },
     "metadata": {},
     "output_type": "display_data"
    }
   ],
   "source": [
    "# Top 10 states in death rates\n",
    "fig, axes = plt.subplots(nrows=1, ncols=2, figsize=(14, 6))\n",
    "ax1 = death_by_demographics_df.groupby(['STATE_NAME']).mean()['OPD_DRUGDEATHS'].sort_values(ascending=False)[:10].plot(ax = axes[0],\n",
    "                                                                                                                       kind='barh', \n",
    "                                                                                                                       title = 'Death by State')\n",
    "\n",
    "ax2 = death_by_demographics_df.groupby(['STATE_NAME']).mean()['MORTALITY_RATE'].sort_values(ascending=False)[:10].plot(ax = axes[1], \n",
    "                                                                                                                            kind='barh',\n",
    "                                                                                                                             title = 'Mortality Rate by State')"
   ]
  },
  {
   "cell_type": "markdown",
   "metadata": {},
   "source": [
    "Can we say Ohio, NewYork and California has more numbers because they are densely populated as compared to other state so a good crietria to check would be death per population. <br>\n",
    "Based on density, we can say **West Virginia, Maryland, Ohio** are 3 most vulnerable states. All Top 10 states are from northeast region."
   ]
  },
  {
   "cell_type": "code",
   "execution_count": 9,
   "metadata": {},
   "outputs": [
    {
     "data": {
      "text/plain": [
       "<matplotlib.axes._subplots.AxesSubplot at 0x7f16246ff2e8>"
      ]
     },
     "execution_count": 9,
     "metadata": {},
     "output_type": "execute_result"
    },
    {
     "name": "stderr",
     "output_type": "stream",
     "text": [
      "/usr/local/envs/py3env/lib/python3.5/site-packages/matplotlib/font_manager.py:1320: UserWarning: findfont: Font family ['sans-serif'] not found. Falling back to DejaVu Sans\n",
      "  (prop.get_family(), self.defaultFamily[fontext]))\n"
     ]
    },
    {
     "data": {
      "image/png": "[encoded data removed]",
      "text/plain": [
       "<matplotlib.figure.Figure at 0x7f1624aafa90>"
      ]
     },
     "metadata": {},
     "output_type": "display_data"
    }
   ],
   "source": [
    "death_by_demographics_df.groupby(['STATE_NAME','YEAR']).mean()['DEATH_RATE_PER_10000'].sort_values(ascending=False)[:20].plot(kind='barh')"
   ]
  },
  {
   "cell_type": "code",
   "execution_count": 10,
   "metadata": {},
   "outputs": [
    {
     "data": {
      "text/plain": [
       "(517, 12)"
      ]
     },
     "execution_count": 10,
     "metadata": {},
     "output_type": "execute_result"
    },
    {
     "data": {
      "text/html": [
       "<div>\n",
       "<style scoped>\n",
       "    .dataframe tbody tr th:only-of-type {\n",
       "        vertical-align: middle;\n",
       "    }\n",
       "\n",
       "    .dataframe tbody tr th {\n",
       "        vertical-align: top;\n",
       "    }\n",
       "\n",
       "    .dataframe thead th {\n",
       "        text-align: right;\n",
       "    }\n",
       "</style>\n",
       "<table border=\"1\" class=\"dataframe\">\n",
       "  <thead>\n",
       "    <tr style=\"text-align: right;\">\n",
       "      <th></th>\n",
       "      <th>Ten-Year Age Groups</th>\n",
       "      <th>Ten-Year Age Groups Code</th>\n",
       "      <th>Gender</th>\n",
       "      <th>Gender Code</th>\n",
       "      <th>Race</th>\n",
       "      <th>Race Code</th>\n",
       "      <th>Year</th>\n",
       "      <th>Year Code</th>\n",
       "      <th>Deaths</th>\n",
       "      <th>Population</th>\n",
       "      <th>Crude Rate</th>\n",
       "      <th>Unnamed: 11</th>\n",
       "    </tr>\n",
       "  </thead>\n",
       "  <tbody>\n",
       "    <tr>\n",
       "      <th>0</th>\n",
       "      <td>&lt; 1 year</td>\n",
       "      <td>1</td>\n",
       "      <td>Female</td>\n",
       "      <td>F</td>\n",
       "      <td>American Indian or Alaska Native</td>\n",
       "      <td>1002-5</td>\n",
       "      <td>2015</td>\n",
       "      <td>2015</td>\n",
       "      <td>1</td>\n",
       "      <td>38745</td>\n",
       "      <td>Unreliable</td>\n",
       "      <td>nan</td>\n",
       "    </tr>\n",
       "    <tr>\n",
       "      <th>1</th>\n",
       "      <td>&lt; 1 year</td>\n",
       "      <td>1</td>\n",
       "      <td>Female</td>\n",
       "      <td>F</td>\n",
       "      <td>Black or African American</td>\n",
       "      <td>2054-5</td>\n",
       "      <td>2010</td>\n",
       "      <td>2010</td>\n",
       "      <td>3</td>\n",
       "      <td>330352</td>\n",
       "      <td>Unreliable</td>\n",
       "      <td>nan</td>\n",
       "    </tr>\n",
       "    <tr>\n",
       "      <th>2</th>\n",
       "      <td>&lt; 1 year</td>\n",
       "      <td>1</td>\n",
       "      <td>Female</td>\n",
       "      <td>F</td>\n",
       "      <td>Black or African American</td>\n",
       "      <td>2054-5</td>\n",
       "      <td>2011</td>\n",
       "      <td>2011</td>\n",
       "      <td>1</td>\n",
       "      <td>335326</td>\n",
       "      <td>Unreliable</td>\n",
       "      <td>nan</td>\n",
       "    </tr>\n",
       "    <tr>\n",
       "      <th>3</th>\n",
       "      <td>&lt; 1 year</td>\n",
       "      <td>1</td>\n",
       "      <td>Female</td>\n",
       "      <td>F</td>\n",
       "      <td>Black or African American</td>\n",
       "      <td>2054-5</td>\n",
       "      <td>2012</td>\n",
       "      <td>2012</td>\n",
       "      <td>3</td>\n",
       "      <td>330701</td>\n",
       "      <td>Unreliable</td>\n",
       "      <td>nan</td>\n",
       "    </tr>\n",
       "    <tr>\n",
       "      <th>4</th>\n",
       "      <td>&lt; 1 year</td>\n",
       "      <td>1</td>\n",
       "      <td>Female</td>\n",
       "      <td>F</td>\n",
       "      <td>Black or African American</td>\n",
       "      <td>2054-5</td>\n",
       "      <td>2013</td>\n",
       "      <td>2013</td>\n",
       "      <td>3</td>\n",
       "      <td>330884</td>\n",
       "      <td>Unreliable</td>\n",
       "      <td>nan</td>\n",
       "    </tr>\n",
       "  </tbody>\n",
       "</table>\n",
       "</div>"
      ],
      "text/plain": [
       "  Ten-Year Age Groups Ten-Year Age Groups Code  Gender Gender Code  \\\n",
       "0            < 1 year                        1  Female           F   \n",
       "1            < 1 year                        1  Female           F   \n",
       "2            < 1 year                        1  Female           F   \n",
       "3            < 1 year                        1  Female           F   \n",
       "4            < 1 year                        1  Female           F   \n",
       "\n",
       "                               Race Race Code  Year  Year Code  Deaths  \\\n",
       "0  American Indian or Alaska Native    1002-5  2015       2015       1   \n",
       "1         Black or African American    2054-5  2010       2010       3   \n",
       "2         Black or African American    2054-5  2011       2011       1   \n",
       "3         Black or African American    2054-5  2012       2012       3   \n",
       "4         Black or African American    2054-5  2013       2013       3   \n",
       "\n",
       "  Population  Crude Rate  Unnamed: 11  \n",
       "0      38745  Unreliable          nan  \n",
       "1     330352  Unreliable          nan  \n",
       "2     335326  Unreliable          nan  \n",
       "3     330701  Unreliable          nan  \n",
       "4     330884  Unreliable          nan  "
      ]
     },
     "execution_count": 10,
     "metadata": {},
     "output_type": "execute_result"
    }
   ],
   "source": [
    "# Let's ingest another dataset from storage\n",
    "mortality_df = read_from_storage('raw-data/Cause-of-Death/National_Opioid_Mortality_CDC_Wonder_2010-2016_20180430.csv')\n",
    "mortality_df['Population'].dropna(inplace=True)\n",
    "mortality_df.shape\n",
    "mortality_df.head(5)"
   ]
  },
  {
   "cell_type": "code",
   "execution_count": 11,
   "metadata": {},
   "outputs": [],
   "source": [
    "#mortality_df[mortality_df.Population != 'Not Applicable']['Population'].astype('int').mean()\n",
    "#4307559.869822485\n",
    "\n",
    "mortality_df.loc[mortality_df.Population == 'Not Applicable','Population'] = 4300000\n",
    "mortality_df['Death_Rate'] = mortality_df.Deaths / mortality_df.Population.astype('int')"
   ]
  },
  {
   "cell_type": "code",
   "execution_count": 12,
   "metadata": {},
   "outputs": [
    {
     "data": {
      "text/plain": [
       "{'1-4 years': '4-Jan',\n",
       " '15-24 years': '15-24',\n",
       " '25-34 years': '25-34',\n",
       " '35-44 years': '35-44',\n",
       " '45-54 years': '45-54',\n",
       " '5-14 years': '14-May',\n",
       " '55-64 years': '55-64',\n",
       " '65-74 years': '65-74',\n",
       " '75-84 years': '75-84',\n",
       " '85+ years': '85+',\n",
       " '< 1 year': '1',\n",
       " 'Not Stated': 'NS'}"
      ]
     },
     "execution_count": 12,
     "metadata": {},
     "output_type": "execute_result"
    },
    {
     "data": {
      "text/plain": [
       "{'American Indian or Alaska Native': '1002-5',\n",
       " 'Asian or Pacific Islander': 'A-PI',\n",
       " 'Black or African American': '2054-5',\n",
       " 'White': '2106-3'}"
      ]
     },
     "execution_count": 12,
     "metadata": {},
     "output_type": "execute_result"
    },
    {
     "data": {
      "text/plain": [
       "{2010: 2010,\n",
       " 2011: 2011,\n",
       " 2012: 2012,\n",
       " 2013: 2013,\n",
       " 2014: 2014,\n",
       " 2015: 2015,\n",
       " 2016: 2016}"
      ]
     },
     "execution_count": 12,
     "metadata": {},
     "output_type": "execute_result"
    },
    {
     "data": {
      "text/plain": [
       "array([nan])"
      ]
     },
     "execution_count": 12,
     "metadata": {},
     "output_type": "execute_result"
    }
   ],
   "source": [
    "dict(zip(mortality_df['Ten-Year Age Groups'], mortality_df['Ten-Year Age Groups Code']))\n",
    "dict(zip(mortality_df['Race'], mortality_df['Race Code']))\n",
    "dict(zip(mortality_df['Year'], mortality_df['Year Code']))\n",
    "mortality_df['Unnamed: 11'].unique()"
   ]
  },
  {
   "cell_type": "code",
   "execution_count": 13,
   "metadata": {},
   "outputs": [
    {
     "data": {
      "text/plain": [
       "<matplotlib.axes._subplots.AxesSubplot at 0x7f16249f7a20>"
      ]
     },
     "execution_count": 13,
     "metadata": {},
     "output_type": "execute_result"
    },
    {
     "name": "stderr",
     "output_type": "stream",
     "text": [
      "/usr/local/envs/py3env/lib/python3.5/site-packages/matplotlib/font_manager.py:1320: UserWarning: findfont: Font family ['sans-serif'] not found. Falling back to DejaVu Sans\n",
      "  (prop.get_family(), self.defaultFamily[fontext]))\n"
     ]
    },
    {
     "data": {
      "image/png": "[encoded data removed]",
      "text/plain": [
       "<matplotlib.figure.Figure at 0x7f1624aa0ef0>"
      ]
     },
     "metadata": {},
     "output_type": "display_data"
    }
   ],
   "source": [
    "death_by_race = pd.pivot_table(mortality_df, ['Death_Rate'], index='Year', columns=['Race'])\n",
    "death_by_race.plot(kind='bar',figsize=(10,6), label='Race') #, style='.-', markerfacecolor='black')"
   ]
  },
  {
   "cell_type": "code",
   "execution_count": 14,
   "metadata": {},
   "outputs": [
    {
     "data": {
      "text/plain": [
       "<matplotlib.legend.Legend at 0x7f16281aabe0>"
      ]
     },
     "execution_count": 14,
     "metadata": {},
     "output_type": "execute_result"
    },
    {
     "data": {
      "text/plain": [
       "<matplotlib.legend.Legend at 0x7f1627c4fcc0>"
      ]
     },
     "execution_count": 14,
     "metadata": {},
     "output_type": "execute_result"
    },
    {
     "name": "stderr",
     "output_type": "stream",
     "text": [
      "/usr/local/envs/py3env/lib/python3.5/site-packages/matplotlib/font_manager.py:1320: UserWarning: findfont: Font family ['sans-serif'] not found. Falling back to DejaVu Sans\n",
      "  (prop.get_family(), self.defaultFamily[fontext]))\n"
     ]
    },
    {
     "data": {
      "image/png": "[encoded data removed]",
      "text/plain": [
       "<matplotlib.figure.Figure at 0x7f1624a08ba8>"
      ]
     },
     "metadata": {},
     "output_type": "display_data"
    }
   ],
   "source": [
    "death_by_race = pd.pivot_table(mortality_df, ['Deaths'], index='Year', columns=['Ten-Year Age Groups'])\n",
    "death_rate_by_race = pd.pivot_table(mortality_df, ['Death_Rate'], index='Year', columns=['Ten-Year Age Groups'])\n",
    "\n",
    "fig, axes = plt.subplots(nrows=1, ncols=2, figsize=(18, 8))\n",
    "ax1 = death_by_race.plot(ax = axes[0], kind='line', label='Age Group', fontsize=10, title = 'Death by Age', legend=True, colormap='Dark2', style='.-', markerfacecolor='black')\n",
    "ax1.legend(loc='upper left', ncol=2)\n",
    "ax2 = death_rate_by_race.plot(ax = axes[1], kind='line',label='Age Group', fontsize=10, title = 'Death Per 100000 by Age', legend=True, colormap='Dark2', style='.-', markerfacecolor='black')\n",
    "ax2.legend(loc='upper left', ncol=2)\n",
    "plt.show()"
   ]
  },
  {
   "cell_type": "markdown",
   "metadata": {},
   "source": [
    "Based on above analysis, we can say that **White and African American** between age of **25-54** are more prone to drug abuse and overdose."
   ]
  },
  {
   "cell_type": "code",
   "execution_count": 15,
   "metadata": {},
   "outputs": [
    {
     "data": {
      "text/plain": [
       "(5508, 17)"
      ]
     },
     "execution_count": 15,
     "metadata": {},
     "output_type": "execute_result"
    },
    {
     "data": {
      "text/html": [
       "<div>\n",
       "<style scoped>\n",
       "    .dataframe tbody tr th:only-of-type {\n",
       "        vertical-align: middle;\n",
       "    }\n",
       "\n",
       "    .dataframe tbody tr th {\n",
       "        vertical-align: top;\n",
       "    }\n",
       "\n",
       "    .dataframe thead th {\n",
       "        text-align: right;\n",
       "    }\n",
       "</style>\n",
       "<table border=\"1\" class=\"dataframe\">\n",
       "  <thead>\n",
       "    <tr style=\"text-align: right;\">\n",
       "      <th></th>\n",
       "      <th>State</th>\n",
       "      <th>State Code</th>\n",
       "      <th>Year</th>\n",
       "      <th>Year Code</th>\n",
       "      <th>Multiple Cause of death</th>\n",
       "      <th>Multiple Cause of death Code</th>\n",
       "      <th>Deaths</th>\n",
       "      <th>Population</th>\n",
       "      <th>Crude Rate</th>\n",
       "      <th>Crude Rate Lower 95% Confidence Interval</th>\n",
       "      <th>Crude Rate Upper 95% Confidence Interval</th>\n",
       "      <th>Crude Rate Standard Error</th>\n",
       "      <th>Age Adjusted Rate</th>\n",
       "      <th>Age Adjusted Rate Lower 95% Confidence Interval</th>\n",
       "      <th>Age Adjusted Rate Upper 95% Confidence Interval</th>\n",
       "      <th>Age Adjusted Rate Standard Error</th>\n",
       "      <th>% of Total Deaths</th>\n",
       "    </tr>\n",
       "  </thead>\n",
       "  <tbody>\n",
       "    <tr>\n",
       "      <th>0</th>\n",
       "      <td>Alabama</td>\n",
       "      <td>1</td>\n",
       "      <td>1999</td>\n",
       "      <td>1999</td>\n",
       "      <td>Opium</td>\n",
       "      <td>T40.0</td>\n",
       "      <td>Suppressed</td>\n",
       "      <td>4430141</td>\n",
       "      <td>Suppressed</td>\n",
       "      <td>Suppressed</td>\n",
       "      <td>Suppressed</td>\n",
       "      <td>Suppressed</td>\n",
       "      <td>Suppressed</td>\n",
       "      <td>Suppressed</td>\n",
       "      <td>Suppressed</td>\n",
       "      <td>Suppressed</td>\n",
       "      <td>Suppressed</td>\n",
       "    </tr>\n",
       "    <tr>\n",
       "      <th>1</th>\n",
       "      <td>Alabama</td>\n",
       "      <td>1</td>\n",
       "      <td>1999</td>\n",
       "      <td>1999</td>\n",
       "      <td>Heroin</td>\n",
       "      <td>T40.1</td>\n",
       "      <td>Suppressed</td>\n",
       "      <td>4430141</td>\n",
       "      <td>Suppressed</td>\n",
       "      <td>Suppressed</td>\n",
       "      <td>Suppressed</td>\n",
       "      <td>Suppressed</td>\n",
       "      <td>Suppressed</td>\n",
       "      <td>Suppressed</td>\n",
       "      <td>Suppressed</td>\n",
       "      <td>Suppressed</td>\n",
       "      <td>Suppressed</td>\n",
       "    </tr>\n",
       "    <tr>\n",
       "      <th>2</th>\n",
       "      <td>Alabama</td>\n",
       "      <td>1</td>\n",
       "      <td>1999</td>\n",
       "      <td>1999</td>\n",
       "      <td>Other opioids</td>\n",
       "      <td>T40.2</td>\n",
       "      <td>10</td>\n",
       "      <td>4430141</td>\n",
       "      <td>Unreliable</td>\n",
       "      <td>0.10</td>\n",
       "      <td>0.40</td>\n",
       "      <td>0.10</td>\n",
       "      <td>Unreliable</td>\n",
       "      <td>0.10</td>\n",
       "      <td>0.40</td>\n",
       "      <td>0.10</td>\n",
       "      <td>0</td>\n",
       "    </tr>\n",
       "    <tr>\n",
       "      <th>3</th>\n",
       "      <td>Alabama</td>\n",
       "      <td>1</td>\n",
       "      <td>1999</td>\n",
       "      <td>1999</td>\n",
       "      <td>Methadone</td>\n",
       "      <td>T40.3</td>\n",
       "      <td>16</td>\n",
       "      <td>4430141</td>\n",
       "      <td>Unreliable</td>\n",
       "      <td>0.20</td>\n",
       "      <td>0.60</td>\n",
       "      <td>0.10</td>\n",
       "      <td>Unreliable</td>\n",
       "      <td>0.20</td>\n",
       "      <td>0.60</td>\n",
       "      <td>0.10</td>\n",
       "      <td>0</td>\n",
       "    </tr>\n",
       "    <tr>\n",
       "      <th>4</th>\n",
       "      <td>Alabama</td>\n",
       "      <td>1</td>\n",
       "      <td>1999</td>\n",
       "      <td>1999</td>\n",
       "      <td>Other synthetic narcotics</td>\n",
       "      <td>T40.4</td>\n",
       "      <td>10</td>\n",
       "      <td>4430141</td>\n",
       "      <td>Unreliable</td>\n",
       "      <td>0.10</td>\n",
       "      <td>0.40</td>\n",
       "      <td>0.10</td>\n",
       "      <td>Unreliable</td>\n",
       "      <td>0.10</td>\n",
       "      <td>0.40</td>\n",
       "      <td>0.10</td>\n",
       "      <td>0</td>\n",
       "    </tr>\n",
       "  </tbody>\n",
       "</table>\n",
       "</div>"
      ],
      "text/plain": [
       "     State  State Code  Year  Year Code    Multiple Cause of death  \\\n",
       "0  Alabama           1  1999       1999                      Opium   \n",
       "1  Alabama           1  1999       1999                     Heroin   \n",
       "2  Alabama           1  1999       1999              Other opioids   \n",
       "3  Alabama           1  1999       1999                  Methadone   \n",
       "4  Alabama           1  1999       1999  Other synthetic narcotics   \n",
       "\n",
       "  Multiple Cause of death Code      Deaths  Population  Crude Rate  \\\n",
       "0                        T40.0  Suppressed     4430141  Suppressed   \n",
       "1                        T40.1  Suppressed     4430141  Suppressed   \n",
       "2                        T40.2          10     4430141  Unreliable   \n",
       "3                        T40.3          16     4430141  Unreliable   \n",
       "4                        T40.4          10     4430141  Unreliable   \n",
       "\n",
       "  Crude Rate Lower 95% Confidence Interval  \\\n",
       "0                               Suppressed   \n",
       "1                               Suppressed   \n",
       "2                                     0.10   \n",
       "3                                     0.20   \n",
       "4                                     0.10   \n",
       "\n",
       "  Crude Rate Upper 95% Confidence Interval Crude Rate Standard Error  \\\n",
       "0                               Suppressed                Suppressed   \n",
       "1                               Suppressed                Suppressed   \n",
       "2                                     0.40                      0.10   \n",
       "3                                     0.60                      0.10   \n",
       "4                                     0.40                      0.10   \n",
       "\n",
       "  Age Adjusted Rate Age Adjusted Rate Lower 95% Confidence Interval  \\\n",
       "0        Suppressed                                      Suppressed   \n",
       "1        Suppressed                                      Suppressed   \n",
       "2        Unreliable                                            0.10   \n",
       "3        Unreliable                                            0.20   \n",
       "4        Unreliable                                            0.10   \n",
       "\n",
       "  Age Adjusted Rate Upper 95% Confidence Interval  \\\n",
       "0                                      Suppressed   \n",
       "1                                      Suppressed   \n",
       "2                                            0.40   \n",
       "3                                            0.60   \n",
       "4                                            0.40   \n",
       "\n",
       "  Age Adjusted Rate Standard Error % of Total Deaths  \n",
       "0                       Suppressed        Suppressed  \n",
       "1                       Suppressed        Suppressed  \n",
       "2                             0.10                 0  \n",
       "3                             0.10                 0  \n",
       "4                             0.10                 0  "
      ]
     },
     "execution_count": 15,
     "metadata": {},
     "output_type": "execute_result"
    }
   ],
   "source": [
    "# Let's ingest another dataset from storage\n",
    "drugs_df = read_from_storage('raw-data/Cause-of-Death/State_Opioid_Mortality_Rates_byDrug_2010-2016.xlsx')\n",
    "drugs_df.shape\n",
    "drugs_df.head(5)"
   ]
  },
  {
   "cell_type": "code",
   "execution_count": 16,
   "metadata": {},
   "outputs": [
    {
     "data": {
      "text/html": [
       "<div>\n",
       "<style scoped>\n",
       "    .dataframe tbody tr th:only-of-type {\n",
       "        vertical-align: middle;\n",
       "    }\n",
       "\n",
       "    .dataframe tbody tr th {\n",
       "        vertical-align: top;\n",
       "    }\n",
       "\n",
       "    .dataframe thead th {\n",
       "        text-align: right;\n",
       "    }\n",
       "</style>\n",
       "<table border=\"1\" class=\"dataframe\">\n",
       "  <thead>\n",
       "    <tr style=\"text-align: right;\">\n",
       "      <th></th>\n",
       "      <th>State</th>\n",
       "      <th>State Code</th>\n",
       "      <th>Year</th>\n",
       "      <th>Year Code</th>\n",
       "      <th>Multiple Cause of death Code</th>\n",
       "      <th>Deaths</th>\n",
       "      <th>Population</th>\n",
       "      <th>Crude Rate</th>\n",
       "      <th>Crude Rate Lower 95% Confidence Interval</th>\n",
       "      <th>Crude Rate Upper 95% Confidence Interval</th>\n",
       "      <th>Crude Rate Standard Error</th>\n",
       "      <th>Age Adjusted Rate</th>\n",
       "      <th>Age Adjusted Rate Lower 95% Confidence Interval</th>\n",
       "      <th>Age Adjusted Rate Upper 95% Confidence Interval</th>\n",
       "      <th>Age Adjusted Rate Standard Error</th>\n",
       "      <th>% of Total Deaths</th>\n",
       "    </tr>\n",
       "    <tr>\n",
       "      <th>Multiple Cause of death</th>\n",
       "      <th></th>\n",
       "      <th></th>\n",
       "      <th></th>\n",
       "      <th></th>\n",
       "      <th></th>\n",
       "      <th></th>\n",
       "      <th></th>\n",
       "      <th></th>\n",
       "      <th></th>\n",
       "      <th></th>\n",
       "      <th></th>\n",
       "      <th></th>\n",
       "      <th></th>\n",
       "      <th></th>\n",
       "      <th></th>\n",
       "      <th></th>\n",
       "    </tr>\n",
       "  </thead>\n",
       "  <tbody>\n",
       "    <tr>\n",
       "      <th>Heroin</th>\n",
       "      <td>918</td>\n",
       "      <td>918</td>\n",
       "      <td>918</td>\n",
       "      <td>918</td>\n",
       "      <td>918</td>\n",
       "      <td>918</td>\n",
       "      <td>918</td>\n",
       "      <td>918</td>\n",
       "      <td>918</td>\n",
       "      <td>918</td>\n",
       "      <td>918</td>\n",
       "      <td>918</td>\n",
       "      <td>918</td>\n",
       "      <td>918</td>\n",
       "      <td>918</td>\n",
       "      <td>918</td>\n",
       "    </tr>\n",
       "    <tr>\n",
       "      <th>Methadone</th>\n",
       "      <td>918</td>\n",
       "      <td>918</td>\n",
       "      <td>918</td>\n",
       "      <td>918</td>\n",
       "      <td>918</td>\n",
       "      <td>918</td>\n",
       "      <td>918</td>\n",
       "      <td>918</td>\n",
       "      <td>918</td>\n",
       "      <td>918</td>\n",
       "      <td>918</td>\n",
       "      <td>918</td>\n",
       "      <td>918</td>\n",
       "      <td>918</td>\n",
       "      <td>918</td>\n",
       "      <td>918</td>\n",
       "    </tr>\n",
       "    <tr>\n",
       "      <th>Opium</th>\n",
       "      <td>918</td>\n",
       "      <td>918</td>\n",
       "      <td>918</td>\n",
       "      <td>918</td>\n",
       "      <td>918</td>\n",
       "      <td>918</td>\n",
       "      <td>918</td>\n",
       "      <td>918</td>\n",
       "      <td>918</td>\n",
       "      <td>918</td>\n",
       "      <td>918</td>\n",
       "      <td>918</td>\n",
       "      <td>918</td>\n",
       "      <td>918</td>\n",
       "      <td>918</td>\n",
       "      <td>918</td>\n",
       "    </tr>\n",
       "    <tr>\n",
       "      <th>Other and unspecified narcotics</th>\n",
       "      <td>918</td>\n",
       "      <td>918</td>\n",
       "      <td>918</td>\n",
       "      <td>918</td>\n",
       "      <td>918</td>\n",
       "      <td>918</td>\n",
       "      <td>918</td>\n",
       "      <td>918</td>\n",
       "      <td>918</td>\n",
       "      <td>918</td>\n",
       "      <td>918</td>\n",
       "      <td>918</td>\n",
       "      <td>918</td>\n",
       "      <td>918</td>\n",
       "      <td>918</td>\n",
       "      <td>918</td>\n",
       "    </tr>\n",
       "    <tr>\n",
       "      <th>Other opioids</th>\n",
       "      <td>918</td>\n",
       "      <td>918</td>\n",
       "      <td>918</td>\n",
       "      <td>918</td>\n",
       "      <td>918</td>\n",
       "      <td>918</td>\n",
       "      <td>918</td>\n",
       "      <td>918</td>\n",
       "      <td>918</td>\n",
       "      <td>918</td>\n",
       "      <td>918</td>\n",
       "      <td>918</td>\n",
       "      <td>918</td>\n",
       "      <td>918</td>\n",
       "      <td>918</td>\n",
       "      <td>918</td>\n",
       "    </tr>\n",
       "    <tr>\n",
       "      <th>Other synthetic narcotics</th>\n",
       "      <td>918</td>\n",
       "      <td>918</td>\n",
       "      <td>918</td>\n",
       "      <td>918</td>\n",
       "      <td>918</td>\n",
       "      <td>918</td>\n",
       "      <td>918</td>\n",
       "      <td>918</td>\n",
       "      <td>918</td>\n",
       "      <td>918</td>\n",
       "      <td>918</td>\n",
       "      <td>918</td>\n",
       "      <td>918</td>\n",
       "      <td>918</td>\n",
       "      <td>918</td>\n",
       "      <td>918</td>\n",
       "    </tr>\n",
       "  </tbody>\n",
       "</table>\n",
       "</div>"
      ],
      "text/plain": [
       "                                 State  State Code  Year  Year Code  \\\n",
       "Multiple Cause of death                                               \n",
       "Heroin                             918         918   918        918   \n",
       "Methadone                          918         918   918        918   \n",
       "Opium                              918         918   918        918   \n",
       "Other and unspecified narcotics    918         918   918        918   \n",
       "Other opioids                      918         918   918        918   \n",
       "Other synthetic narcotics          918         918   918        918   \n",
       "\n",
       "                                 Multiple Cause of death Code  Deaths  \\\n",
       "Multiple Cause of death                                                 \n",
       "Heroin                                                    918     918   \n",
       "Methadone                                                 918     918   \n",
       "Opium                                                     918     918   \n",
       "Other and unspecified narcotics                           918     918   \n",
       "Other opioids                                             918     918   \n",
       "Other synthetic narcotics                                 918     918   \n",
       "\n",
       "                                 Population  Crude Rate  \\\n",
       "Multiple Cause of death                                   \n",
       "Heroin                                  918         918   \n",
       "Methadone                               918         918   \n",
       "Opium                                   918         918   \n",
       "Other and unspecified narcotics         918         918   \n",
       "Other opioids                           918         918   \n",
       "Other synthetic narcotics               918         918   \n",
       "\n",
       "                                 Crude Rate Lower 95% Confidence Interval  \\\n",
       "Multiple Cause of death                                                     \n",
       "Heroin                                                                918   \n",
       "Methadone                                                             918   \n",
       "Opium                                                                 918   \n",
       "Other and unspecified narcotics                                       918   \n",
       "Other opioids                                                         918   \n",
       "Other synthetic narcotics                                             918   \n",
       "\n",
       "                                 Crude Rate Upper 95% Confidence Interval  \\\n",
       "Multiple Cause of death                                                     \n",
       "Heroin                                                                918   \n",
       "Methadone                                                             918   \n",
       "Opium                                                                 918   \n",
       "Other and unspecified narcotics                                       918   \n",
       "Other opioids                                                         918   \n",
       "Other synthetic narcotics                                             918   \n",
       "\n",
       "                                 Crude Rate Standard Error  Age Adjusted Rate  \\\n",
       "Multiple Cause of death                                                         \n",
       "Heroin                                                 918                918   \n",
       "Methadone                                              918                918   \n",
       "Opium                                                  918                918   \n",
       "Other and unspecified narcotics                        918                918   \n",
       "Other opioids                                          918                918   \n",
       "Other synthetic narcotics                              918                918   \n",
       "\n",
       "                                 Age Adjusted Rate Lower 95% Confidence Interval  \\\n",
       "Multiple Cause of death                                                            \n",
       "Heroin                                                                       918   \n",
       "Methadone                                                                    918   \n",
       "Opium                                                                        918   \n",
       "Other and unspecified narcotics                                              918   \n",
       "Other opioids                                                                918   \n",
       "Other synthetic narcotics                                                    918   \n",
       "\n",
       "                                 Age Adjusted Rate Upper 95% Confidence Interval  \\\n",
       "Multiple Cause of death                                                            \n",
       "Heroin                                                                       918   \n",
       "Methadone                                                                    918   \n",
       "Opium                                                                        918   \n",
       "Other and unspecified narcotics                                              918   \n",
       "Other opioids                                                                918   \n",
       "Other synthetic narcotics                                                    918   \n",
       "\n",
       "                                 Age Adjusted Rate Standard Error  \\\n",
       "Multiple Cause of death                                             \n",
       "Heroin                                                        918   \n",
       "Methadone                                                     918   \n",
       "Opium                                                         918   \n",
       "Other and unspecified narcotics                               918   \n",
       "Other opioids                                                 918   \n",
       "Other synthetic narcotics                                     918   \n",
       "\n",
       "                                 % of Total Deaths  \n",
       "Multiple Cause of death                             \n",
       "Heroin                                         918  \n",
       "Methadone                                      918  \n",
       "Opium                                          918  \n",
       "Other and unspecified narcotics                918  \n",
       "Other opioids                                  918  \n",
       "Other synthetic narcotics                      918  "
      ]
     },
     "execution_count": 16,
     "metadata": {},
     "output_type": "execute_result"
    }
   ],
   "source": [
    "drugs_df.groupby('Multiple Cause of death').count()"
   ]
  },
  {
   "cell_type": "code",
   "execution_count": 17,
   "metadata": {},
   "outputs": [
    {
     "data": {
      "text/plain": [
       "False    3548\n",
       "True     1960\n",
       "Name: Deaths, dtype: int64"
      ]
     },
     "execution_count": 17,
     "metadata": {},
     "output_type": "execute_result"
    },
    {
     "name": "stdout",
     "output_type": "stream",
     "text": [
      "<class 'pandas.core.frame.DataFrame'>\n",
      "Int64Index: 3548 entries, 2 to 5507\n",
      "Data columns (total 2 columns):\n",
      "Multiple Cause of death    3548 non-null object\n",
      "Deaths                     3548 non-null object\n",
      "dtypes: object(2)\n",
      "memory usage: 83.2+ KB\n"
     ]
    }
   ],
   "source": [
    "(drugs_df['Deaths']=='Suppressed').value_counts()\n",
    "drugs_df_filtered = drugs_df.loc[drugs_df.Deaths !='Suppressed', ['Multiple Cause of death', 'Deaths']]\n",
    "drugs_df_filtered.info()"
   ]
  },
  {
   "cell_type": "code",
   "execution_count": 18,
   "metadata": {},
   "outputs": [
    {
     "data": {
      "text/plain": [
       "<matplotlib.axes._subplots.AxesSubplot at 0x7f1624a85f60>"
      ]
     },
     "execution_count": 18,
     "metadata": {},
     "output_type": "execute_result"
    },
    {
     "name": "stderr",
     "output_type": "stream",
     "text": [
      "/usr/local/envs/py3env/lib/python3.5/site-packages/matplotlib/font_manager.py:1320: UserWarning: findfont: Font family ['sans-serif'] not found. Falling back to DejaVu Sans\n",
      "  (prop.get_family(), self.defaultFamily[fontext]))\n"
     ]
    },
    {
     "data": {
      "image/png": "[encoded data removed]",
      "text/plain": [
       "<matplotlib.figure.Figure at 0x7f1624a85160>"
      ]
     },
     "metadata": {},
     "output_type": "display_data"
    }
   ],
   "source": [
    "drugs_df_filtered.columns = ['Drugs', 'Deaths']\n",
    "drugs_df_filtered.groupby('Drugs').sum().sort_values(by='Deaths').plot(kind='barh')"
   ]
  },
  {
   "cell_type": "markdown",
   "metadata": {},
   "source": [
    "As you can see above highest death due to drug that is specified as **Other** :-) and second is Heroin.\n",
    "This data doesn't give much information as per my understanding or am i missing something out of it. Let's discuss with team and find out.<br><br>\n",
    "Now let's start exploring another dataset given."
   ]
  },
  {
   "cell_type": "code",
   "execution_count": 19,
   "metadata": {},
   "outputs": [
    {
     "data": {
      "text/html": [
       "<table><tr><th>Name</th><th>Type</th><th>Size</th><th>Updated</th></tr><tr><td>raw-data/Treatment-Locator/</td><td>application/x-www-form-urlencoded;charset=UTF-8</td><td>0</td><td>2018-10-30 18:00:35.489000+00:00</td></tr><tr><td>raw-data/Treatment-Locator/Physician_Locator_2017-12-21T14-44-58.csv</td><td>application/vnd.ms-excel</td><td>3686949</td><td>2018-10-30 18:28:24.890000+00:00</td></tr><tr><td>raw-data/Treatment-Locator/Physician_Locator_2018-05-16T08-29-48.csv</td><td>application/vnd.ms-excel</td><td>3436214</td><td>2018-10-30 18:28:39.585000+00:00</td></tr></table>"
      ],
      "text/plain": [
       "<IPython.core.display.HTML object>"
      ]
     },
     "execution_count": 19,
     "metadata": {},
     "output_type": "execute_result"
    }
   ],
   "source": [
    "%gcs list --objects gs://opioid-care/raw-data/Treatment-Locator"
   ]
  },
  {
   "cell_type": "code",
   "execution_count": 20,
   "metadata": {},
   "outputs": [
    {
     "data": {
      "text/plain": [
       "(26826, 11)"
      ]
     },
     "execution_count": 20,
     "metadata": {},
     "output_type": "execute_result"
    },
    {
     "data": {
      "text/html": [
       "<div>\n",
       "<style scoped>\n",
       "    .dataframe tbody tr th:only-of-type {\n",
       "        vertical-align: middle;\n",
       "    }\n",
       "\n",
       "    .dataframe tbody tr th {\n",
       "        vertical-align: top;\n",
       "    }\n",
       "\n",
       "    .dataframe thead th {\n",
       "        text-align: right;\n",
       "    }\n",
       "</style>\n",
       "<table border=\"1\" class=\"dataframe\">\n",
       "  <thead>\n",
       "    <tr style=\"text-align: right;\">\n",
       "      <th></th>\n",
       "      <th>Unnamed: 0</th>\n",
       "      <th>First</th>\n",
       "      <th>Last</th>\n",
       "      <th>Deg.</th>\n",
       "      <th>Address</th>\n",
       "      <th>City</th>\n",
       "      <th>County</th>\n",
       "      <th>State</th>\n",
       "      <th>Postal Code</th>\n",
       "      <th>Tele.</th>\n",
       "      <th>Fax</th>\n",
       "    </tr>\n",
       "  </thead>\n",
       "  <tbody>\n",
       "    <tr>\n",
       "      <th>0</th>\n",
       "      <td>NaN</td>\n",
       "      <td>Elizabeth</td>\n",
       "      <td>Alexander</td>\n",
       "      <td>NP</td>\n",
       "      <td>Keystone Substance Abuse Services195 S Herlong...</td>\n",
       "      <td>Rock Hill</td>\n",
       "      <td>NaN</td>\n",
       "      <td>South Carolina</td>\n",
       "      <td>29732</td>\n",
       "      <td>7818255752</td>\n",
       "      <td>NaN</td>\n",
       "    </tr>\n",
       "    <tr>\n",
       "      <th>1</th>\n",
       "      <td>NaN</td>\n",
       "      <td>Denise</td>\n",
       "      <td>Bouchard</td>\n",
       "      <td>NP</td>\n",
       "      <td>53 Schoodic Drive</td>\n",
       "      <td>Belfast</td>\n",
       "      <td>Waldo</td>\n",
       "      <td>Maine</td>\n",
       "      <td>04915</td>\n",
       "      <td>2073386900</td>\n",
       "      <td>2073386944</td>\n",
       "    </tr>\n",
       "    <tr>\n",
       "      <th>2</th>\n",
       "      <td>NaN</td>\n",
       "      <td>Beth</td>\n",
       "      <td>Canfield</td>\n",
       "      <td>NP</td>\n",
       "      <td>1320 Mercy Drive</td>\n",
       "      <td>Canton</td>\n",
       "      <td>Stark</td>\n",
       "      <td>Ohio</td>\n",
       "      <td>44708</td>\n",
       "      <td>330-479-1478</td>\n",
       "      <td>3304898162</td>\n",
       "    </tr>\n",
       "    <tr>\n",
       "      <th>3</th>\n",
       "      <td>NaN</td>\n",
       "      <td>Victoria</td>\n",
       "      <td>Habibi</td>\n",
       "      <td>NP</td>\n",
       "      <td>86-260 Farrington Hwy</td>\n",
       "      <td>Waianae</td>\n",
       "      <td>Honolulu County</td>\n",
       "      <td>Hawaii</td>\n",
       "      <td>96792</td>\n",
       "      <td>808-697-3300</td>\n",
       "      <td>NaN</td>\n",
       "    </tr>\n",
       "    <tr>\n",
       "      <th>4</th>\n",
       "      <td>Dr.</td>\n",
       "      <td>Mark</td>\n",
       "      <td>Ledesma</td>\n",
       "      <td>M.D.</td>\n",
       "      <td>11803 W North Avenue</td>\n",
       "      <td>Milwaukee</td>\n",
       "      <td>Milwaukee County</td>\n",
       "      <td>Wisconsin</td>\n",
       "      <td>53226</td>\n",
       "      <td>(414)258-5522</td>\n",
       "      <td>(414)258-1337</td>\n",
       "    </tr>\n",
       "  </tbody>\n",
       "</table>\n",
       "</div>"
      ],
      "text/plain": [
       "  Unnamed: 0      First        Last  Deg.  \\\n",
       "0        NaN  Elizabeth   Alexander    NP   \n",
       "1        NaN     Denise    Bouchard    NP   \n",
       "2        NaN       Beth    Canfield    NP   \n",
       "3        NaN   Victoria      Habibi    NP   \n",
       "4        Dr.       Mark     Ledesma  M.D.   \n",
       "\n",
       "                                             Address       City  \\\n",
       "0  Keystone Substance Abuse Services195 S Herlong...  Rock Hill   \n",
       "1                                  53 Schoodic Drive    Belfast   \n",
       "2                                   1320 Mercy Drive     Canton   \n",
       "3                              86-260 Farrington Hwy    Waianae   \n",
       "4                               11803 W North Avenue  Milwaukee   \n",
       "\n",
       "             County           State Postal Code          Tele.            Fax  \n",
       "0               NaN  South Carolina       29732     7818255752            NaN  \n",
       "1             Waldo           Maine       04915     2073386900     2073386944  \n",
       "2             Stark            Ohio       44708   330-479-1478     3304898162  \n",
       "3   Honolulu County          Hawaii       96792   808-697-3300            NaN  \n",
       "4  Milwaukee County       Wisconsin       53226  (414)258-5522  (414)258-1337  "
      ]
     },
     "execution_count": 20,
     "metadata": {},
     "output_type": "execute_result"
    }
   ],
   "source": [
    "treatment_loc_2017_df = read_from_storage(\"raw-data/Treatment-Locator/Physician_Locator_2017-12-21T14-44-58.csv\")\n",
    "treatment_loc_2017_df.shape\n",
    "treatment_loc_2017_df.head(5)"
   ]
  },
  {
   "cell_type": "code",
   "execution_count": 21,
   "metadata": {},
   "outputs": [
    {
     "data": {
      "text/plain": [
       "(26826, 11)"
      ]
     },
     "execution_count": 21,
     "metadata": {},
     "output_type": "execute_result"
    },
    {
     "data": {
      "text/html": [
       "<div>\n",
       "<style scoped>\n",
       "    .dataframe tbody tr th:only-of-type {\n",
       "        vertical-align: middle;\n",
       "    }\n",
       "\n",
       "    .dataframe tbody tr th {\n",
       "        vertical-align: top;\n",
       "    }\n",
       "\n",
       "    .dataframe thead th {\n",
       "        text-align: right;\n",
       "    }\n",
       "</style>\n",
       "<table border=\"1\" class=\"dataframe\">\n",
       "  <thead>\n",
       "    <tr style=\"text-align: right;\">\n",
       "      <th></th>\n",
       "      <th>Unnamed: 0</th>\n",
       "      <th>First</th>\n",
       "      <th>Last</th>\n",
       "      <th>Deg.</th>\n",
       "      <th>Address</th>\n",
       "      <th>City</th>\n",
       "      <th>County</th>\n",
       "      <th>State</th>\n",
       "      <th>Postal Code</th>\n",
       "      <th>Tele.</th>\n",
       "      <th>Fax</th>\n",
       "    </tr>\n",
       "  </thead>\n",
       "  <tbody>\n",
       "    <tr>\n",
       "      <th>0</th>\n",
       "      <td>NaN</td>\n",
       "      <td>Elizabeth</td>\n",
       "      <td>Alexander</td>\n",
       "      <td>NP</td>\n",
       "      <td>Keystone Substance Abuse Services195 S Herlong...</td>\n",
       "      <td>Rock Hill</td>\n",
       "      <td>NaN</td>\n",
       "      <td>South Carolina</td>\n",
       "      <td>29732</td>\n",
       "      <td>7818255752</td>\n",
       "      <td>NaN</td>\n",
       "    </tr>\n",
       "    <tr>\n",
       "      <th>1</th>\n",
       "      <td>NaN</td>\n",
       "      <td>Denise</td>\n",
       "      <td>Bouchard</td>\n",
       "      <td>NP</td>\n",
       "      <td>53 Schoodic Drive</td>\n",
       "      <td>Belfast</td>\n",
       "      <td>Waldo</td>\n",
       "      <td>Maine</td>\n",
       "      <td>04915</td>\n",
       "      <td>2073386900</td>\n",
       "      <td>2073386944</td>\n",
       "    </tr>\n",
       "    <tr>\n",
       "      <th>2</th>\n",
       "      <td>NaN</td>\n",
       "      <td>Beth</td>\n",
       "      <td>Canfield</td>\n",
       "      <td>NP</td>\n",
       "      <td>1320 Mercy Drive</td>\n",
       "      <td>Canton</td>\n",
       "      <td>Stark</td>\n",
       "      <td>Ohio</td>\n",
       "      <td>44708</td>\n",
       "      <td>330-479-1478</td>\n",
       "      <td>3304898162</td>\n",
       "    </tr>\n",
       "    <tr>\n",
       "      <th>3</th>\n",
       "      <td>NaN</td>\n",
       "      <td>Victoria</td>\n",
       "      <td>Habibi</td>\n",
       "      <td>NP</td>\n",
       "      <td>86-260 Farrington Hwy</td>\n",
       "      <td>Waianae</td>\n",
       "      <td>Honolulu County</td>\n",
       "      <td>Hawaii</td>\n",
       "      <td>96792</td>\n",
       "      <td>808-697-3300</td>\n",
       "      <td>NaN</td>\n",
       "    </tr>\n",
       "    <tr>\n",
       "      <th>4</th>\n",
       "      <td>Dr.</td>\n",
       "      <td>Mark</td>\n",
       "      <td>Ledesma</td>\n",
       "      <td>M.D.</td>\n",
       "      <td>11803 W North Avenue</td>\n",
       "      <td>Milwaukee</td>\n",
       "      <td>Milwaukee County</td>\n",
       "      <td>Wisconsin</td>\n",
       "      <td>53226</td>\n",
       "      <td>(414)258-5522</td>\n",
       "      <td>(414)258-1337</td>\n",
       "    </tr>\n",
       "  </tbody>\n",
       "</table>\n",
       "</div>"
      ],
      "text/plain": [
       "  Unnamed: 0      First        Last  Deg.  \\\n",
       "0        NaN  Elizabeth   Alexander    NP   \n",
       "1        NaN     Denise    Bouchard    NP   \n",
       "2        NaN       Beth    Canfield    NP   \n",
       "3        NaN   Victoria      Habibi    NP   \n",
       "4        Dr.       Mark     Ledesma  M.D.   \n",
       "\n",
       "                                             Address       City  \\\n",
       "0  Keystone Substance Abuse Services195 S Herlong...  Rock Hill   \n",
       "1                                  53 Schoodic Drive    Belfast   \n",
       "2                                   1320 Mercy Drive     Canton   \n",
       "3                              86-260 Farrington Hwy    Waianae   \n",
       "4                               11803 W North Avenue  Milwaukee   \n",
       "\n",
       "             County           State Postal Code          Tele.            Fax  \n",
       "0               NaN  South Carolina       29732     7818255752            NaN  \n",
       "1             Waldo           Maine       04915     2073386900     2073386944  \n",
       "2             Stark            Ohio       44708   330-479-1478     3304898162  \n",
       "3   Honolulu County          Hawaii       96792   808-697-3300            NaN  \n",
       "4  Milwaukee County       Wisconsin       53226  (414)258-5522  (414)258-1337  "
      ]
     },
     "execution_count": 21,
     "metadata": {},
     "output_type": "execute_result"
    }
   ],
   "source": [
    "treatment_loc_2018_df = read_from_storage(\"raw-data/Treatment-Locator/Physician_Locator_2017-12-21T14-44-58.csv\")\n",
    "treatment_loc_2018_df.shape\n",
    "treatment_loc_2018_df.head(5)"
   ]
  },
  {
   "cell_type": "code",
   "execution_count": 22,
   "metadata": {},
   "outputs": [
    {
     "data": {
      "text/plain": [
       "Unnamed: 0     12452\n",
       "First              0\n",
       "Last               0\n",
       "Deg.            2909\n",
       "Address            0\n",
       "City               0\n",
       "County          3855\n",
       "State              0\n",
       "Postal Code        0\n",
       "Tele.             48\n",
       "Fax             4479\n",
       "dtype: int64"
      ]
     },
     "execution_count": 22,
     "metadata": {},
     "output_type": "execute_result"
    },
    {
     "data": {
      "text/plain": [
       "Unnamed: 0     12452\n",
       "First              0\n",
       "Last               0\n",
       "Deg.            2909\n",
       "Address            0\n",
       "City               0\n",
       "County          3855\n",
       "State              0\n",
       "Postal Code        0\n",
       "Tele.             48\n",
       "Fax             4479\n",
       "dtype: int64"
      ]
     },
     "execution_count": 22,
     "metadata": {},
     "output_type": "execute_result"
    },
    {
     "data": {
      "text/html": [
       "<div>\n",
       "<style scoped>\n",
       "    .dataframe tbody tr th:only-of-type {\n",
       "        vertical-align: middle;\n",
       "    }\n",
       "\n",
       "    .dataframe tbody tr th {\n",
       "        vertical-align: top;\n",
       "    }\n",
       "\n",
       "    .dataframe thead th {\n",
       "        text-align: right;\n",
       "    }\n",
       "</style>\n",
       "<table border=\"1\" class=\"dataframe\">\n",
       "  <thead>\n",
       "    <tr style=\"text-align: right;\">\n",
       "      <th></th>\n",
       "      <th>Unnamed: 0</th>\n",
       "      <th>First</th>\n",
       "      <th>Last</th>\n",
       "      <th>Deg.</th>\n",
       "      <th>Address</th>\n",
       "      <th>City</th>\n",
       "      <th>County</th>\n",
       "      <th>State</th>\n",
       "      <th>Postal Code</th>\n",
       "      <th>Tele.</th>\n",
       "      <th>Fax</th>\n",
       "    </tr>\n",
       "  </thead>\n",
       "  <tbody>\n",
       "    <tr>\n",
       "      <th>count</th>\n",
       "      <td>14374</td>\n",
       "      <td>26826</td>\n",
       "      <td>26826</td>\n",
       "      <td>23917</td>\n",
       "      <td>26826</td>\n",
       "      <td>26826</td>\n",
       "      <td>22971</td>\n",
       "      <td>26826</td>\n",
       "      <td>26826</td>\n",
       "      <td>26778</td>\n",
       "      <td>22347</td>\n",
       "    </tr>\n",
       "    <tr>\n",
       "      <th>unique</th>\n",
       "      <td>2</td>\n",
       "      <td>6662</td>\n",
       "      <td>15220</td>\n",
       "      <td>249</td>\n",
       "      <td>23697</td>\n",
       "      <td>5190</td>\n",
       "      <td>1898</td>\n",
       "      <td>55</td>\n",
       "      <td>8095</td>\n",
       "      <td>22600</td>\n",
       "      <td>18778</td>\n",
       "    </tr>\n",
       "    <tr>\n",
       "      <th>top</th>\n",
       "      <td>Dr.</td>\n",
       "      <td>Michael</td>\n",
       "      <td>Patel</td>\n",
       "      <td>M.D.</td>\n",
       "      <td>2500 Alhambra Avenue</td>\n",
       "      <td>New York</td>\n",
       "      <td>Los Angeles County</td>\n",
       "      <td>California</td>\n",
       "      <td>94110</td>\n",
       "      <td>(724)591-5236</td>\n",
       "      <td>(724)591-5436</td>\n",
       "    </tr>\n",
       "    <tr>\n",
       "      <th>freq</th>\n",
       "      <td>14373</td>\n",
       "      <td>549</td>\n",
       "      <td>142</td>\n",
       "      <td>16015</td>\n",
       "      <td>20</td>\n",
       "      <td>579</td>\n",
       "      <td>499</td>\n",
       "      <td>2620</td>\n",
       "      <td>74</td>\n",
       "      <td>50</td>\n",
       "      <td>52</td>\n",
       "    </tr>\n",
       "  </tbody>\n",
       "</table>\n",
       "</div>"
      ],
      "text/plain": [
       "       Unnamed: 0    First   Last   Deg.               Address      City  \\\n",
       "count       14374    26826  26826  23917                 26826     26826   \n",
       "unique          2     6662  15220    249                 23697      5190   \n",
       "top           Dr.  Michael  Patel   M.D.  2500 Alhambra Avenue  New York   \n",
       "freq        14373      549    142  16015                    20       579   \n",
       "\n",
       "                    County       State Postal Code          Tele.  \\\n",
       "count                22971       26826       26826          26778   \n",
       "unique                1898          55        8095          22600   \n",
       "top     Los Angeles County  California       94110  (724)591-5236   \n",
       "freq                   499        2620          74             50   \n",
       "\n",
       "                  Fax  \n",
       "count           22347  \n",
       "unique          18778  \n",
       "top     (724)591-5436  \n",
       "freq               52  "
      ]
     },
     "execution_count": 22,
     "metadata": {},
     "output_type": "execute_result"
    },
    {
     "data": {
      "text/html": [
       "<div>\n",
       "<style scoped>\n",
       "    .dataframe tbody tr th:only-of-type {\n",
       "        vertical-align: middle;\n",
       "    }\n",
       "\n",
       "    .dataframe tbody tr th {\n",
       "        vertical-align: top;\n",
       "    }\n",
       "\n",
       "    .dataframe thead th {\n",
       "        text-align: right;\n",
       "    }\n",
       "</style>\n",
       "<table border=\"1\" class=\"dataframe\">\n",
       "  <thead>\n",
       "    <tr style=\"text-align: right;\">\n",
       "      <th></th>\n",
       "      <th>Unnamed: 0</th>\n",
       "      <th>First</th>\n",
       "      <th>Last</th>\n",
       "      <th>Deg.</th>\n",
       "      <th>Address</th>\n",
       "      <th>City</th>\n",
       "      <th>County</th>\n",
       "      <th>State</th>\n",
       "      <th>Postal Code</th>\n",
       "      <th>Tele.</th>\n",
       "      <th>Fax</th>\n",
       "    </tr>\n",
       "  </thead>\n",
       "  <tbody>\n",
       "    <tr>\n",
       "      <th>count</th>\n",
       "      <td>14374</td>\n",
       "      <td>26826</td>\n",
       "      <td>26826</td>\n",
       "      <td>23917</td>\n",
       "      <td>26826</td>\n",
       "      <td>26826</td>\n",
       "      <td>22971</td>\n",
       "      <td>26826</td>\n",
       "      <td>26826</td>\n",
       "      <td>26778</td>\n",
       "      <td>22347</td>\n",
       "    </tr>\n",
       "    <tr>\n",
       "      <th>unique</th>\n",
       "      <td>2</td>\n",
       "      <td>6662</td>\n",
       "      <td>15220</td>\n",
       "      <td>249</td>\n",
       "      <td>23697</td>\n",
       "      <td>5190</td>\n",
       "      <td>1898</td>\n",
       "      <td>55</td>\n",
       "      <td>8095</td>\n",
       "      <td>22600</td>\n",
       "      <td>18778</td>\n",
       "    </tr>\n",
       "    <tr>\n",
       "      <th>top</th>\n",
       "      <td>Dr.</td>\n",
       "      <td>Michael</td>\n",
       "      <td>Patel</td>\n",
       "      <td>M.D.</td>\n",
       "      <td>2500 Alhambra Avenue</td>\n",
       "      <td>New York</td>\n",
       "      <td>Los Angeles County</td>\n",
       "      <td>California</td>\n",
       "      <td>94110</td>\n",
       "      <td>(724)591-5236</td>\n",
       "      <td>(724)591-5436</td>\n",
       "    </tr>\n",
       "    <tr>\n",
       "      <th>freq</th>\n",
       "      <td>14373</td>\n",
       "      <td>549</td>\n",
       "      <td>142</td>\n",
       "      <td>16015</td>\n",
       "      <td>20</td>\n",
       "      <td>579</td>\n",
       "      <td>499</td>\n",
       "      <td>2620</td>\n",
       "      <td>74</td>\n",
       "      <td>50</td>\n",
       "      <td>52</td>\n",
       "    </tr>\n",
       "  </tbody>\n",
       "</table>\n",
       "</div>"
      ],
      "text/plain": [
       "       Unnamed: 0    First   Last   Deg.               Address      City  \\\n",
       "count       14374    26826  26826  23917                 26826     26826   \n",
       "unique          2     6662  15220    249                 23697      5190   \n",
       "top           Dr.  Michael  Patel   M.D.  2500 Alhambra Avenue  New York   \n",
       "freq        14373      549    142  16015                    20       579   \n",
       "\n",
       "                    County       State Postal Code          Tele.  \\\n",
       "count                22971       26826       26826          26778   \n",
       "unique                1898          55        8095          22600   \n",
       "top     Los Angeles County  California       94110  (724)591-5236   \n",
       "freq                   499        2620          74             50   \n",
       "\n",
       "                  Fax  \n",
       "count           22347  \n",
       "unique          18778  \n",
       "top     (724)591-5436  \n",
       "freq               52  "
      ]
     },
     "execution_count": 22,
     "metadata": {},
     "output_type": "execute_result"
    }
   ],
   "source": [
    "treatment_loc_2017_df.isnull().sum()\n",
    "treatment_loc_2018_df.isnull().sum()\n",
    "\n",
    "treatment_loc_2017_df.describe()\n",
    "treatment_loc_2018_df.describe()"
   ]
  },
  {
   "cell_type": "code",
   "execution_count": 23,
   "metadata": {},
   "outputs": [],
   "source": [
    "def diff_pd(df1, df2):\n",
    "    \"\"\"Identify differences between two pandas DataFrames\"\"\"\n",
    "    assert (df1.columns == df2.columns).all(), \\\n",
    "        \"DataFrame column names are different\"\n",
    "    if any(df1.dtypes != df2.dtypes):\n",
    "        \"Data Types are different, trying to convert\"\n",
    "        df2 = df2.astype(df1.dtypes)\n",
    "    if df1.equals(df2):\n",
    "        return None\n",
    "    else:\n",
    "        # need to account for np.nan != np.nan returning True\n",
    "        diff_mask = (df1 != df2) & ~(df1.isnull() & df2.isnull())\n",
    "        ne_stacked = diff_mask.stack()\n",
    "        changed = ne_stacked[ne_stacked]\n",
    "        changed.index.names = ['id', 'col']\n",
    "        difference_locations = np.where(diff_mask)\n",
    "        changed_from = df1.values[difference_locations]\n",
    "        changed_to = df2.values[difference_locations]\n",
    "        return pd.DataFrame({'from': changed_from, 'to': changed_to},\n",
    "                            index=changed.index)"
   ]
  },
  {
   "cell_type": "code",
   "execution_count": 24,
   "metadata": {},
   "outputs": [],
   "source": [
    "# Find difference between 2 dataframes if any it will return those values else nothing\n",
    "diff_pd(treatment_loc_2017_df, treatment_loc_2018_df)"
   ]
  },
  {
   "cell_type": "markdown",
   "metadata": {},
   "source": [
    "Based on above statistics we cay say, there is no change of data from 2017 and 2018.\n",
    "\n",
    "But me might need data from previous year to compare how treatment centers have been opened from last year.\n",
    "\n",
    "This data tell us only about number of treatment center access in city and state, County has number of Nulls so we need to figure about based on state and city. "
   ]
  },
  {
   "cell_type": "code",
   "execution_count": 25,
   "metadata": {},
   "outputs": [
    {
     "data": {
      "text/html": [
       "<div>\n",
       "<style scoped>\n",
       "    .dataframe tbody tr th:only-of-type {\n",
       "        vertical-align: middle;\n",
       "    }\n",
       "\n",
       "    .dataframe tbody tr th {\n",
       "        vertical-align: top;\n",
       "    }\n",
       "\n",
       "    .dataframe thead th {\n",
       "        text-align: right;\n",
       "    }\n",
       "</style>\n",
       "<table border=\"1\" class=\"dataframe\">\n",
       "  <thead>\n",
       "    <tr style=\"text-align: right;\">\n",
       "      <th></th>\n",
       "      <th>State</th>\n",
       "      <th>County</th>\n",
       "      <th>Treatment_Center_Count</th>\n",
       "    </tr>\n",
       "  </thead>\n",
       "  <tbody>\n",
       "    <tr>\n",
       "      <th>0</th>\n",
       "      <td>Alabama</td>\n",
       "      <td>Autauga County</td>\n",
       "      <td>2</td>\n",
       "    </tr>\n",
       "    <tr>\n",
       "      <th>1</th>\n",
       "      <td>Alabama</td>\n",
       "      <td>Baldwin</td>\n",
       "      <td>2</td>\n",
       "    </tr>\n",
       "    <tr>\n",
       "      <th>2</th>\n",
       "      <td>Alabama</td>\n",
       "      <td>Baldwin County</td>\n",
       "      <td>11</td>\n",
       "    </tr>\n",
       "    <tr>\n",
       "      <th>3</th>\n",
       "      <td>Alabama</td>\n",
       "      <td>Calhoun</td>\n",
       "      <td>1</td>\n",
       "    </tr>\n",
       "    <tr>\n",
       "      <th>4</th>\n",
       "      <td>Alabama</td>\n",
       "      <td>Calhoun County</td>\n",
       "      <td>6</td>\n",
       "    </tr>\n",
       "  </tbody>\n",
       "</table>\n",
       "</div>"
      ],
      "text/plain": [
       "     State          County  Treatment_Center_Count\n",
       "0  Alabama  Autauga County                       2\n",
       "1  Alabama         Baldwin                       2\n",
       "2  Alabama  Baldwin County                      11\n",
       "3  Alabama         Calhoun                       1\n",
       "4  Alabama  Calhoun County                       6"
      ]
     },
     "execution_count": 25,
     "metadata": {},
     "output_type": "execute_result"
    }
   ],
   "source": [
    "treatment_center_count = pd.DataFrame(treatment_loc_2018_df.groupby(['State','County'])['Postal Code'].count()).reset_index()\n",
    "treatment_center_count.columns = ['State', 'County', 'Treatment_Center_Count']\n",
    "treatment_center_count[:5]"
   ]
  },
  {
   "cell_type": "code",
   "execution_count": 26,
   "metadata": {},
   "outputs": [
    {
     "data": {
      "text/html": [
       "<table><tr><th>Name</th><th>Type</th><th>Size</th><th>Updated</th></tr><tr><td>raw-data/RWJF/</td><td>application/x-www-form-urlencoded;charset=UTF-8</td><td>0</td><td>2018-10-30 18:00:17.805000+00:00</td></tr><tr><td>raw-data/RWJF/county_health_rankings_2014.csv</td><td>application/vnd.ms-excel</td><td>1111337</td><td>2018-10-30 18:26:06.763000+00:00</td></tr><tr><td>raw-data/RWJF/county_health_rankings_2016.csv</td><td>application/vnd.ms-excel</td><td>2368831</td><td>2018-10-30 18:26:20.264000+00:00</td></tr></table>"
      ],
      "text/plain": [
       "<IPython.core.display.HTML object>"
      ]
     },
     "execution_count": 26,
     "metadata": {},
     "output_type": "execute_result"
    }
   ],
   "source": [
    "# Let's get started with Counties data\n",
    "%gcs list --objects gs://opioid-care/raw-data/RWJF"
   ]
  },
  {
   "cell_type": "code",
   "execution_count": 27,
   "metadata": {},
   "outputs": [
    {
     "data": {
      "text/plain": [
       "(3141, 119)"
      ]
     },
     "execution_count": 27,
     "metadata": {},
     "output_type": "execute_result"
    }
   ],
   "source": [
    "# Read data for 2016 county health ranking\n",
    "county_health_rankings_2016_df = read_from_storage('raw-data/RWJF/county_health_rankings_2016.csv')\n",
    "\n",
    "# Read data for 2014 health ranking\n",
    "county_health_rankings_2014_df = read_from_storage('raw-data/RWJF/county_health_rankings_2014.csv')\n",
    "\n",
    "county_health_rankings_2016_df.shape\n",
    "#county_health_rankings_2016_df.head(5)\n",
    "#county_health_rankings_2014_df.shape\n",
    "#county_health_rankings_2014_df.head(5)"
   ]
  },
  {
   "cell_type": "code",
   "execution_count": 28,
   "metadata": {},
   "outputs": [
    {
     "name": "stdout",
     "output_type": "stream",
     "text": [
      " Columns not present in 2016 dataframe\n"
     ]
    },
    {
     "data": {
      "text/plain": [
       "['Mortality_rank_within_state',\n",
       " 'Mortality_quartile_within_state',\n",
       " 'Mortality_pctile_within_state',\n",
       " 'Morbidity_rank_within_state',\n",
       " 'Morbidity_quartile_within_state',\n",
       " 'Morbidity_pctile_within_state',\n",
       " 'YPPL_rate',\n",
       " 'pct_No_Social_Emotional_Support',\n",
       " 'pct_Pop_Drinking_Water_Violations',\n",
       " 'pct_Couldnt_See_Doctor_Due_to_Cost']"
      ]
     },
     "execution_count": 28,
     "metadata": {},
     "output_type": "execute_result"
    },
    {
     "name": "stdout",
     "output_type": "stream",
     "text": [
      " Columns not present in 2014 dataframe\n"
     ]
    },
    {
     "data": {
      "text/plain": [
       "['Length_of_Life_rank_within_state',\n",
       " 'Length_of_Life_quartile_within_state',\n",
       " 'Length_of_Life_pctile_within_state',\n",
       " 'Quality_of_Life_rank_within_state',\n",
       " 'Quality_of_Life_quartile_within_state',\n",
       " 'Quality_of_Life_pctile_within_state',\n",
       " 'Income_80th_Percentile',\n",
       " 'Income_20th_Percentile',\n",
       " 'Income_Ratio',\n",
       " 'School_Association_Rate',\n",
       " 'Presence_of_Drinking_Water_Violation',\n",
       " 'num_Infant_Deaths',\n",
       " 'pct_Frequent_Physical_Distress',\n",
       " 'pct_Frequent_Mental_Distress',\n",
       " 'num_Food_Insecure',\n",
       " 'pct_Insufficient_Sleep',\n",
       " 'Residential_Segregation_Index_1',\n",
       " 'Residential_Segregation_Index_2',\n",
       " 'num_African_American',\n",
       " 'num_American_Indian',\n",
       " 'num_Asian',\n",
       " 'num_Pacific_Islander',\n",
       " 'num_Hispanic',\n",
       " 'num_Non_Hispanic_White',\n",
       " 'num_Rural']"
      ]
     },
     "execution_count": 28,
     "metadata": {},
     "output_type": "execute_result"
    }
   ],
   "source": [
    "# Let's start with preprocessing. As you see 2014 and 2016 dataframes have different shape.\n",
    "\n",
    "print(\" Columns not present in 2016 dataframe\")\n",
    "[col for col in county_health_rankings_2014_df.columns if col not in county_health_rankings_2016_df.columns]\n",
    "\n",
    "print(\" Columns not present in 2014 dataframe\")\n",
    "[col for col in county_health_rankings_2016_df.columns if col not in county_health_rankings_2014_df.columns]"
   ]
  },
  {
   "cell_type": "markdown",
   "metadata": {},
   "source": [
    "Mortality, Morbidity (Fequencey of diseases appear), YPPL Rate (Pre Mature death, age below 75), Percentage of couldn't see doctor due to cost are important variable in 2014 dataset but somehow directly related to deaths. Let's see if these are in some present in 2016 with other name.\n",
    "\n",
    "Length_of_Life_pctile_within_state, Quality_of_Life_pctile_within_state, pct_Frequent_Physical_Distress, pct_Frequent_Mental_Distress' and pct_Insufficient_Sleep' are important variables in 2016 dataset.\n",
    "\n",
    "Pct count't see doctor and HelathCare cost in 2016 dataset seems related.\n",
    "\n",
    "So conclusion is that we can drop columns from 2014 but not from 2016 to do union. So will be using 2016 data onwards as it has latest ratings.\n",
    "\n",
    "We will add treatment center count per county to counties dataframe."
   ]
  },
  {
   "cell_type": "code",
   "execution_count": 29,
   "metadata": {},
   "outputs": [],
   "source": [
    "counties_df = county_health_rankings_2016_df.merge(treatment_center_count, how='left', on=['State','County'])\n",
    "counties_df['Treatment_Center_Count'].fillna(0, inplace=True)\n"
   ]
  },
  {
   "cell_type": "code",
   "execution_count": 30,
   "metadata": {},
   "outputs": [
    {
     "data": {
      "text/html": [
       "<div>\n",
       "<style scoped>\n",
       "    .dataframe tbody tr th:only-of-type {\n",
       "        vertical-align: middle;\n",
       "    }\n",
       "\n",
       "    .dataframe tbody tr th {\n",
       "        vertical-align: top;\n",
       "    }\n",
       "\n",
       "    .dataframe thead th {\n",
       "        text-align: right;\n",
       "    }\n",
       "</style>\n",
       "<table border=\"1\" class=\"dataframe\">\n",
       "  <thead>\n",
       "    <tr style=\"text-align: right;\">\n",
       "      <th></th>\n",
       "      <th>Drug_Overdose_Mortality_Rate</th>\n",
       "      <th>num_Drug_Overdose_Deaths</th>\n",
       "    </tr>\n",
       "  </thead>\n",
       "  <tbody>\n",
       "    <tr>\n",
       "      <th>FIPS</th>\n",
       "      <td>0.06</td>\n",
       "      <td>-0.09</td>\n",
       "    </tr>\n",
       "    <tr>\n",
       "      <th>Num_ranked_counties_in_state</th>\n",
       "      <td>-0.09</td>\n",
       "      <td>-0.11</td>\n",
       "    </tr>\n",
       "    <tr>\n",
       "      <th>Health_Outcomes_rank_within_state</th>\n",
       "      <td>0.23</td>\n",
       "      <td>-0.12</td>\n",
       "    </tr>\n",
       "    <tr>\n",
       "      <th>Health_Outcomes_quartile_within_state</th>\n",
       "      <td>0.37</td>\n",
       "      <td>-0.07</td>\n",
       "    </tr>\n",
       "    <tr>\n",
       "      <th>Health_Outcomes_pctile_within_state</th>\n",
       "      <td>0.39</td>\n",
       "      <td>-0.06</td>\n",
       "    </tr>\n",
       "  </tbody>\n",
       "</table>\n",
       "</div>"
      ],
      "text/plain": [
       "                                       Drug_Overdose_Mortality_Rate  \\\n",
       "FIPS                                                           0.06   \n",
       "Num_ranked_counties_in_state                                  -0.09   \n",
       "Health_Outcomes_rank_within_state                              0.23   \n",
       "Health_Outcomes_quartile_within_state                          0.37   \n",
       "Health_Outcomes_pctile_within_state                            0.39   \n",
       "\n",
       "                                       num_Drug_Overdose_Deaths  \n",
       "FIPS                                                      -0.09  \n",
       "Num_ranked_counties_in_state                              -0.11  \n",
       "Health_Outcomes_rank_within_state                         -0.12  \n",
       "Health_Outcomes_quartile_within_state                     -0.07  \n",
       "Health_Outcomes_pctile_within_state                       -0.06  "
      ]
     },
     "execution_count": 30,
     "metadata": {},
     "output_type": "execute_result"
    }
   ],
   "source": [
    "counties_df.corr().loc[:,['Drug_Overdose_Mortality_Rate', 'num_Drug_Overdose_Deaths']].head(5)"
   ]
  },
  {
   "cell_type": "code",
   "execution_count": 31,
   "metadata": {},
   "outputs": [],
   "source": [
    "#!gsutil cp gs://opioid-care/eda_output/Dashboard_Counties_Cluster.png ./eda_output/"
   ]
  },
  {
   "cell_type": "markdown",
   "metadata": {},
   "source": [
    "Now let's plot counties based on different variables available to get good understanding of our dataset. <br>\n",
    "To better visualize these data we need some interactive modules such as plotly which can show label and data on graphs.\n",
    "\n",
    "I tried plotting counties data in Inteactive way using Plotly and Bokeh but they were taking more time and different module to install so i did my exploration in Tableau. Given below findings and link to dashboard.\n",
    "\n",
    "I have updated link of dashboard after model validation and added result of different alogorithms into this. \n",
    "\n",
    "**[Opioid Care Counties Clusters and Exploration Dashboard](https://public.tableau.com/profile/pankaj.sharma1347#!/vizhome/OpioidCareCountiesCluster/CountiesEDA)**\n",
    "<img src='./eda_output/Dashboard_Counties_Cluster.png' width=\"800\" height=\"800\" >\n",
    "\n",
    "\n",
    "\n",
    "\n",
    "There are number of factors a.k.a columns to explore and we can do that one by one with our dashboard easily and SELECT list of important features for clustering. Let's get started.\n",
    "\n",
    "**FIPS** Federal Information Processing Standards code which uniquely identified counties and county equivalents in the United States. We don't need this, it doesn't process any information just a sequence number for counties.\n",
    "\n",
    "**Num ranked counties in state** Counties ranked across U.S but we are not sure based on which factors, could be healthcare services, let's drop it for now.\n",
    "\n",
    "**Health Outcome Ranking within State** As you see in map, there are lot of amber in Texas bcoz there are more counties than other states so this variable would be useful if we do analysis with in state but not when clustering across U.S.\n",
    "\n",
    "**Health Outcome Quartile and Percentile** seems coorelated, we can use one of them. It resolves our ranking issue within state.\n",
    "\n",
    "**'Health_Outcomes_pctile_within_state', 'Health_Factors_rank_within_state','Health_Factors_quartile_within_state' OR<br>\n",
    "'Length_of_Life_rank_within_state', 'Length_of_Life_quartile_within_state', 'Length_of_Life_pctile_within_state' OR<br>\n",
    "'Quality_of_Life_rank_within_state', 'Quality_of_Life_quartile_within_state', 'Quality_of_Life_pctile_within_state' OR <br> 'Clinical_Care_rank_within_state','Clinical_Care_quartile_within_state', 'Clinical_Care_pctile_within_state' OR<br>\n",
    "'Social_and_Economic_Factors_rank_within_state', 'Social_and_Economic_Factors_quartile_within_state', 'Social_and_Economic_Factors_pctile_within_state' ** \n",
    "\n",
    "shares same analysis so will take percentile from them.\n",
    "\n",
    "**'Health_Behaviors_rank_within_state', 'Health_Behaviors_quartile_within_state', 'Health_Behaviors_pctile_within_state' OR\n",
    "'Physical_Environment_rank_within_state','Physical_Environment_quartile_within_state', 'Physical_Environment_pctile_within_state'** Not good for analysis.\n",
    "\n",
    "**Number of deaths** = California, Texas, Florida and New York are top 4 state in deaths. It could be due to population.\n",
    "California-Los Angles, Illinois-Cook and Texas-Harris counties are top 3 in deaths resepectively. We will take it and will see if we have any variable with death due to opioid so it will help us to create a fraction.\n",
    "\n",
    "**Percentage of Fair and Poor Health** Texas is surely not good in healthcare services :-). Will take it.\n",
    "\n",
    "**Physciall or Mentally Unhealthy Days** seems coorleated to each other. For now let's use both. People with low mental health or suffering from mental disorder are more affected due to drugs.\n",
    "\n",
    "**Low Birthweight** It might or might not be useful, let's our ML model decide on that. One more time Texas topped the list as State and Colrado-Jackson as county.\n",
    "\n",
    "**Percentage of Smokers** It should be high indicator. People smoke in anxiety, they start with smoking and evenetually leds to drugs.\n",
    "\n",
    "**Obese, Physically Inactive, access to excercise, excessive drinking** When you sit idle you will do something wrong. There is a saying in Hindi \"Khali dimag, shaitan ka ghar\":-) (Devil resides in empty mind).\n",
    "On other hand it you do excercise or drinking, there is less chance to fall for drugs.\n",
    "\n",
    "**Alcohol impaired  and Food Environment Index** Doesn't look a worthy variabales to me. Let's drop it.\n",
    "\n",
    "**Chalmydia Rate** It is STD, oftely occur in young women. Let's see if there is no strong relation to drug related deaths.\n",
    "\n",
    "**Teen Birth Rate** Low drug use when you have a child to play with, keeps you busy.\n",
    "\n",
    "**num_Uninsured                                       -0.114080<br>\n",
    "pct_Uninsured                                        0.116594<br>\n",
    "num_Primary_Care_Physicians                         -0.128475<br>\n",
    "Primary_Care_Physicians_rate                        -0.165460<br>\n",
    "num_Dentists                                        -0.119247<br>\n",
    "Dentists_rate                                       -0.177291<br>\n",
    "num_Mental_Health_Providers                         -0.097668<br>\n",
    "Mental_Health_Providers_rate                        -0.004453**\n",
    "\n",
    "Doesn't have any corelation with drug related death but which is bit skeptical. Will see once we move towards complex model\n",
    "but let's drop for now.\n",
    "\n",
    "**Preventable_Hospitalization_rate** Strong relation with drug addiction.\n",
    "\n",
    "**num_Diabetics & High_School_Graduation_rate** No relation\n",
    "\n",
    "**pct_Mammography** It is technique to detect Breast Cancer, people won't use drug if they are diagnosed with cancer and will be at doctor's survelliance. Let's take it.\n",
    "\n",
    "**pct_Some_College** Decrease of opioid use when people are educated.\n",
    "\n",
    "**pct_Unemployed** Unemployment increases chance of mental pressure, depression and inturn drug use.\n",
    "\n",
    "**pct_Children_in_Poverty** Poverty can also be a factor.\n",
    "\n",
    "**Income_80th_Percentile                              -0.318705<br>\n",
    "Income_20th_Percentile                              -0.316330<br>\n",
    "Income_Ratio                                         0.145766**\n",
    "I am not sure which basis these percentiles are and income ration doesn't show are relation so will take Income_80th and drop others.\n",
    "\n",
    "**pct_Single_Parent_Households                         0.102618<br>\n",
    "School_Association_Rate                             -0.025660<br>\n",
    "num_Violent_Crimes                                  -0.078352<br>\n",
    "Violent_Crime_rate                                  -0.016234**\n",
    "No realtion as such, let's drop them as well. My knowledge says, people do crime when they are high but that might be other drugs not opioid so there is little decrease in opioid death when crime is voilent. Let's drop them for now.\n",
    "\n",
    "**Average_Daily_PM2pt5                                 0.201380 # Not sure what is this<br>\n",
    "pct_Severe_Housing_Problems                         -0.162394<br>\n",
    "pct_Drive_Alone                                      0.115217<br>\n",
    "pct_Long_CommuteDrives_Alone                         0.099688** Drop them<br>\n",
    "\n",
    "**Child_Mortality_Rate                                 0.277945<br>\n",
    "pct_Frequent_Physical_Distress                       0.414351<br>\n",
    "pct_Frequent_Mental_Distress                         0.401079<br>\n",
    "pct_Diabetic                                         0.355054<br>\n",
    "num_Drug_Overdose_Deaths                             0.012274<br>\n",
    "Health_Care_Costs                                    0.247288<br>\n",
    "Median_Household_Income                             -0.332253<br>\n",
    "pct_Children_Eligible_Free_Lunch                     0.262955 # This is interesting<br>\n",
    "pct_African_American                                -0.200920<br>\n",
    "Population                                          -0.129630<br>\n",
    "pct_Under_18                                        -0.131835<br>\n",
    "pct_65_and_Older                                     0.236981<br>\n",
    "pct_Asian                                           -0.221506<br>\n",
    "pct_Rural                                            0.310179<br>\n",
    "pct_Insufficient_Sleep                               0.249238 # Lack of sleep, Insomaniac<br>\n",
    "pct_Not_Proficient_in_English                       -0.211951**<br>\n",
    "\n",
    "We will use above variables and drop rest below. Most of them are self explanatory.\n",
    "\n",
    "**Age_Adjusted_Mortality                               0.548278<br>\n",
    "Injury_Death_Rate                                    0.699089 # Doctor presribe medicine for major injuries which affect brain when use for a long time. <br>\n",
    "Motor_Vehicle_Mortality_Rate                         0.400859 # Again injury, related to prescription.<br>\n",
    "num_Child_Deaths                                    -0.093039<br>\n",
    "num_Infant_Deaths                                   -0.066123<br>\n",
    "Infant_Mortality_Rate                                0.190772<br>\n",
    "num_HIV_Cases                                       -0.087092<br>\n",
    "HIV_Prevalence_Rate                                 -0.122894<br>\n",
    "num_Food_Insecure                                   -0.112142<br>\n",
    "pct_Food_Insecure                                    0.156365<br>\n",
    "num_Limited_Access_Healthy_Food                     -0.131125<br>\n",
    "pct_Limited_Access_Healthy_Food                     -0.001876<br>\n",
    "pct_Rural                                            0.310179<br>\n",
    "pct_Non_Hispanic_White                               0.243280<br>\n",
    "num_Motor_Vehicle_Deaths                            -0.112516<br>\n",
    "num_Uninsured_Adults                                -0.112652<br>\n",
    "pct_Uninsured_Adults                                 0.109819<br>\n",
    "num_Uninsured_Children                              -0.120292<br>\n",
    "pct_Uninsured_Children                               0.022043<br>\n",
    "Residential_Segregation_Index_1                      0.078476<br>\n",
    "Residential_Segregation_Index_2                     -0.007473<br>\n",
    "Homicide_Rate                                        0.153161<br>\n",
    "num_African_American                                -0.108238<br>\n",
    "num_American_Indian                                 -0.071319<br>\n",
    "pct_American_Indian                                  0.061370<br>\n",
    "num_Asian                                           -0.106260<br>\n",
    "num_Pacific_Islander                                -0.065536<br>\n",
    "pct_Pacific_Islander                                -0.059146<br>\n",
    "num_Hispanic                                        -0.104656<br>\n",
    "pct_Hispanic                                        -0.127045<br>\n",
    "num_Non_Hispanic_White                              -0.127504<br>\n",
    "num_Not_Proficient_in_English                       -0.102750<br>\n",
    "pct_Female                                          -0.019480<br>\n",
    "num_Rural                                           -0.161628<br>\n",
    "**\n"
   ]
  },
  {
   "cell_type": "markdown",
   "metadata": {},
   "source": [
    "Based on dashboard and coorelation, we have selected features but there is always scope for feature engineering. But for now let's start building clustering model.\n",
    "\n",
    "After looking into heatmap, after our initial analysis, we caught some corelated variables and removed from our features and plotted again as below.\n",
    "Num of child Deaths and Number of Deaths,\n",
    "income_80 percentile \n",
    "Physical, Mental distress\n",
    "\n",
    "\n",
    "You know what this heatmap tells us that if you have **Good Education, Access to Excerices or Sport, Good Income and Drink Habits** :-), you are immune from opioid use.\n",
    "There is one more factor mammogrpahy which is kind of breast cancer, but this is neither we can build to improve opioid crisis nor we want to."
   ]
  },
  {
   "cell_type": "code",
   "execution_count": 32,
   "metadata": {},
   "outputs": [],
   "source": [
    "us_state_abbrev = {\n",
    "    'Alabama': 'AL',\n",
    "    'Alaska': 'AK',\n",
    "    'Arizona': 'AZ',\n",
    "    'Arkansas': 'AR',\n",
    "    'California': 'CA',\n",
    "    'Colorado': 'CO',\n",
    "    'Connecticut': 'CT',\n",
    "    'District of Columbia': 'DC',\n",
    "    'Delaware': 'DE',\n",
    "    'Florida': 'FL',\n",
    "    'Georgia': 'GA',\n",
    "    'Hawaii': 'HI',\n",
    "    'Idaho': 'ID',\n",
    "    'Illinois': 'IL',\n",
    "    'Indiana': 'IN',\n",
    "    'Iowa': 'IA',\n",
    "    'Kansas': 'KS',\n",
    "    'Kentucky': 'KY',\n",
    "    'Louisiana': 'LA',\n",
    "    'Maine': 'ME',\n",
    "    'Maryland': 'MD',\n",
    "    'Massachusetts': 'MA',\n",
    "    'Michigan': 'MI',\n",
    "    'Minnesota': 'MN',\n",
    "    'Mississippi': 'MS',\n",
    "    'Missouri': 'MO',\n",
    "    'Montana': 'MT',\n",
    "    'Nebraska': 'NE',\n",
    "    'Nevada': 'NV',\n",
    "    'New Hampshire': 'NH',\n",
    "    'New Jersey': 'NJ',\n",
    "    'New Mexico': 'NM',\n",
    "    'New York': 'NY',\n",
    "    'North Carolina': 'NC',\n",
    "    'North Dakota': 'ND',\n",
    "    'Ohio': 'OH',\n",
    "    'Oklahoma': 'OK',\n",
    "    'Oregon': 'OR',\n",
    "    'Pennsylvania': 'PA',\n",
    "    'Rhode Island': 'RI',\n",
    "    'South Carolina': 'SC',\n",
    "    'South Dakota': 'SD',\n",
    "    'Tennessee': 'TN',\n",
    "    'Texas': 'TX',\n",
    "    'Utah': 'UT',\n",
    "    'Vermont': 'VT',\n",
    "    'Virginia': 'VA',\n",
    "    'Washington': 'WA',\n",
    "    'West Virginia': 'WV',\n",
    "    'Wisconsin': 'WI',\n",
    "    'Wyoming': 'WY',\n",
    "}"
   ]
  },
  {
   "cell_type": "code",
   "execution_count": 33,
   "metadata": {},
   "outputs": [],
   "source": [
    "# Let's rename columns\n",
    "counties_df.columns = counties_df.columns.str.lower().str.replace(' ', '_').str.replace('(','_').str.replace(')','_').str.replace(';','_').str.replace('-','_')"
   ]
  },
  {
   "cell_type": "code",
   "execution_count": 34,
   "metadata": {},
   "outputs": [],
   "source": [
    "counties_df['state_name'] = counties_df['state']\n",
    "counties_df['state'] = counties_df['state'].map(us_state_abbrev)"
   ]
  },
  {
   "cell_type": "code",
   "execution_count": 35,
   "metadata": {},
   "outputs": [
    {
     "data": {
      "text/plain": [
       "['state', 'county', 'presence_of_drinking_water_violation', 'state_name']"
      ]
     },
     "execution_count": 35,
     "metadata": {},
     "output_type": "execute_result"
    }
   ],
   "source": [
    "numerical_cols = list(counties_df.select_dtypes(['number']))\n",
    "categorical_cols = list(counties_df.select_dtypes(['object']))\n",
    "categorical_cols"
   ]
  },
  {
   "cell_type": "code",
   "execution_count": 36,
   "metadata": {},
   "outputs": [],
   "source": [
    "# Find columns with nan, null in dataframe\n",
    "#counties_df[numerical_cols].loc[:, counties_df[numerical_cols].isna().any()]"
   ]
  },
  {
   "cell_type": "code",
   "execution_count": 37,
   "metadata": {},
   "outputs": [
    {
     "data": {
      "text/plain": [
       "array([False,  True])"
      ]
     },
     "execution_count": 37,
     "metadata": {},
     "output_type": "execute_result"
    }
   ],
   "source": [
    "np.unique(counties_df[numerical_cols].isin([np.nan, np.inf, -np.inf]).any(1))"
   ]
  },
  {
   "cell_type": "code",
   "execution_count": 38,
   "metadata": {},
   "outputs": [],
   "source": [
    "# Based on our EDA, feature engineering and multiple test we figured out below features are good representation of our data...\n",
    "target = ['drug_overdose_mortality_rate']\n",
    "categorical_cols = ['state']\n",
    "numerical_cols = [\n",
    "'mentally_unhealthy_days',\n",
    " 'physically_unhealthy_days',\n",
    " 'pct_frequent_mental_distress',\n",
    " 'pct_excessive_drinking',\n",
    " 'injury_death_rate',\n",
    " 'age_adjusted_mortality',\n",
    " 'pct_frequent_physical_distress',\n",
    " 'pct_smokers',\n",
    " 'pct_insufficient_sleep',\n",
    " 'preventable_hospitalization_rate',\n",
    " 'pct_some_college',\n",
    " 'pct_fair_or_poor_health',\n",
    " 'pct_unemployed',\n",
    " 'length_of_life_pctile_within_state',\n",
    " 'median_household_income',\n",
    " 'pct_physically_inactive',\n",
    "'length_of_life_quartile_within_state',\n",
    " 'pct_children_in_poverty',\n",
    " 'income_20th_percentile',\n",
    " 'pct_children_eligible_free_lunch',\n",
    " 'pct_diabetic']\n",
    "dropped_columns = [col for col in np.array(counties_df.select_dtypes(['number']).columns) if col not in numerical_cols + categorical_cols + target]"
   ]
  },
  {
   "cell_type": "code",
   "execution_count": 39,
   "metadata": {},
   "outputs": [],
   "source": [
    "# Remove outlier from columns \n",
    "def remove_outliers(df, numerical_cols):\n",
    "  for col in numerical_cols:\n",
    "    q1 = df[col].quantile(0.25)\n",
    "    q3 = df[col].quantile(0.75)\n",
    "    iqr = q3-q1 #Interquartile range\n",
    "\n",
    "    fence_low  = q1-1.5*iqr\n",
    "    fence_high = q3 + 1.5*iqr\n",
    "    \n",
    "    #print(col, \"Max:\",df[col].max(), \"Min:\",df[col].min(), \"q1:\", q1, \"q3:\", q3, \"iqr:\", iqr, \"low:\",fence_low, \"high:\", fence_high)\n",
    "    \n",
    "    df[col] = df[col].mask(df[col] > fence_high, fence_high)\n",
    "    df[col] = df[col].mask(df[col] < fence_low, fence_low)\n",
    "  return df\n",
    "  \n",
    "counties_df = remove_outliers(counties_df, numerical_cols + target)"
   ]
  },
  {
   "cell_type": "code",
   "execution_count": 40,
   "metadata": {},
   "outputs": [
    {
     "data": {
      "text/html": [
       "<div>\n",
       "<style scoped>\n",
       "    .dataframe tbody tr th:only-of-type {\n",
       "        vertical-align: middle;\n",
       "    }\n",
       "\n",
       "    .dataframe tbody tr th {\n",
       "        vertical-align: top;\n",
       "    }\n",
       "\n",
       "    .dataframe thead th {\n",
       "        text-align: right;\n",
       "    }\n",
       "</style>\n",
       "<table border=\"1\" class=\"dataframe\">\n",
       "  <thead>\n",
       "    <tr style=\"text-align: right;\">\n",
       "      <th></th>\n",
       "      <th>fips</th>\n",
       "      <th>state</th>\n",
       "      <th>county</th>\n",
       "      <th>num_ranked_counties_in_state</th>\n",
       "      <th>health_outcomes_rank_within_state</th>\n",
       "      <th>health_outcomes_quartile_within_state</th>\n",
       "      <th>health_outcomes_pctile_within_state</th>\n",
       "      <th>health_factors_rank_within_state</th>\n",
       "      <th>health_factors_quartile_within_state</th>\n",
       "      <th>health_factors_pctile_within_state</th>\n",
       "      <th>length_of_life_rank_within_state</th>\n",
       "      <th>length_of_life_quartile_within_state</th>\n",
       "      <th>length_of_life_pctile_within_state</th>\n",
       "      <th>quality_of_life_rank_within_state</th>\n",
       "      <th>quality_of_life_quartile_within_state</th>\n",
       "      <th>quality_of_life_pctile_within_state</th>\n",
       "      <th>health_behaviors_rank_within_state</th>\n",
       "      <th>health_behaviors_quartile_within_state</th>\n",
       "      <th>health_behaviors_pctile_within_state</th>\n",
       "      <th>clinical_care_rank_within_state</th>\n",
       "      <th>clinical_care_quartile_within_state</th>\n",
       "      <th>clinical_care_pctile_within_state</th>\n",
       "      <th>social_and_economic_factors_rank_within_state</th>\n",
       "      <th>social_and_economic_factors_quartile_within_state</th>\n",
       "      <th>social_and_economic_factors_pctile_within_state</th>\n",
       "      <th>physical_environment_rank_within_state</th>\n",
       "      <th>physical_environment_quartile_within_state</th>\n",
       "      <th>physical_environment_pctile_within_state</th>\n",
       "      <th>num_deaths</th>\n",
       "      <th>pct_fair_or_poor_health</th>\n",
       "      <th>physically_unhealthy_days</th>\n",
       "      <th>mentally_unhealthy_days</th>\n",
       "      <th>pct_low_birthweight</th>\n",
       "      <th>pct_smokers</th>\n",
       "      <th>pct_obese</th>\n",
       "      <th>food_environment_index</th>\n",
       "      <th>pct_physically_inactive</th>\n",
       "      <th>...</th>\n",
       "      <th>num_drug_overdose_deaths</th>\n",
       "      <th>drug_overdose_mortality_rate</th>\n",
       "      <th>num_motor_vehicle_deaths</th>\n",
       "      <th>motor_vehicle_mortality_rate</th>\n",
       "      <th>pct_insufficient_sleep</th>\n",
       "      <th>num_uninsured_adults</th>\n",
       "      <th>pct_uninsured_adults</th>\n",
       "      <th>num_uninsured_children</th>\n",
       "      <th>pct_uninsured_children</th>\n",
       "      <th>health_care_costs</th>\n",
       "      <th>median_household_income</th>\n",
       "      <th>pct_children_eligible_free_lunch</th>\n",
       "      <th>residential_segregation_index_1</th>\n",
       "      <th>residential_segregation_index_2</th>\n",
       "      <th>homicide_rate</th>\n",
       "      <th>population</th>\n",
       "      <th>pct_under_18</th>\n",
       "      <th>pct_65_and_older</th>\n",
       "      <th>num_african_american</th>\n",
       "      <th>pct_african_american</th>\n",
       "      <th>num_american_indian</th>\n",
       "      <th>pct_american_indian</th>\n",
       "      <th>num_asian</th>\n",
       "      <th>pct_asian</th>\n",
       "      <th>num_pacific_islander</th>\n",
       "      <th>pct_pacific_islander</th>\n",
       "      <th>num_hispanic</th>\n",
       "      <th>pct_hispanic</th>\n",
       "      <th>num_non_hispanic_white</th>\n",
       "      <th>pct_non_hispanic_white</th>\n",
       "      <th>num_not_proficient_in_english</th>\n",
       "      <th>pct_not_proficient_in_english</th>\n",
       "      <th>pct_female</th>\n",
       "      <th>num_rural</th>\n",
       "      <th>pct_rural</th>\n",
       "      <th>treatment_center_count</th>\n",
       "      <th>state_name</th>\n",
       "    </tr>\n",
       "  </thead>\n",
       "  <tbody>\n",
       "    <tr>\n",
       "      <th>0</th>\n",
       "      <td>1001</td>\n",
       "      <td>AL</td>\n",
       "      <td>Autauga</td>\n",
       "      <td>67</td>\n",
       "      <td>10.00</td>\n",
       "      <td>1.00</td>\n",
       "      <td>15.00</td>\n",
       "      <td>6.00</td>\n",
       "      <td>1.00</td>\n",
       "      <td>9.00</td>\n",
       "      <td>18.00</td>\n",
       "      <td>2.00</td>\n",
       "      <td>27.00</td>\n",
       "      <td>6.00</td>\n",
       "      <td>1.00</td>\n",
       "      <td>9.00</td>\n",
       "      <td>7.00</td>\n",
       "      <td>1.00</td>\n",
       "      <td>11.00</td>\n",
       "      <td>11.00</td>\n",
       "      <td>1.00</td>\n",
       "      <td>17.00</td>\n",
       "      <td>4.00</td>\n",
       "      <td>1.00</td>\n",
       "      <td>6.00</td>\n",
       "      <td>47.00</td>\n",
       "      <td>3.00</td>\n",
       "      <td>71.00</td>\n",
       "      <td>809.00</td>\n",
       "      <td>19.40</td>\n",
       "      <td>4.40</td>\n",
       "      <td>4.30</td>\n",
       "      <td>8.79</td>\n",
       "      <td>18.70</td>\n",
       "      <td>30.90</td>\n",
       "      <td>7.10</td>\n",
       "      <td>28.70</td>\n",
       "      <td>...</td>\n",
       "      <td>13.00</td>\n",
       "      <td>7.82</td>\n",
       "      <td>75.00</td>\n",
       "      <td>19.72</td>\n",
       "      <td>37.60</td>\n",
       "      <td>5,852.00</td>\n",
       "      <td>17.48</td>\n",
       "      <td>563.00</td>\n",
       "      <td>3.86</td>\n",
       "      <td>10,165.85</td>\n",
       "      <td>54,366.00</td>\n",
       "      <td>36.95</td>\n",
       "      <td>32.84</td>\n",
       "      <td>28.53</td>\n",
       "      <td>5.10</td>\n",
       "      <td>55,395.00</td>\n",
       "      <td>25.18</td>\n",
       "      <td>13.83</td>\n",
       "      <td>10,245.00</td>\n",
       "      <td>18.49</td>\n",
       "      <td>275.00</td>\n",
       "      <td>0.50</td>\n",
       "      <td>603.00</td>\n",
       "      <td>1.09</td>\n",
       "      <td>56.00</td>\n",
       "      <td>0.10</td>\n",
       "      <td>1,514.00</td>\n",
       "      <td>2.73</td>\n",
       "      <td>41,877.00</td>\n",
       "      <td>75.60</td>\n",
       "      <td>249.00</td>\n",
       "      <td>0.48</td>\n",
       "      <td>51.36</td>\n",
       "      <td>22921</td>\n",
       "      <td>42.00</td>\n",
       "      <td>0.00</td>\n",
       "      <td>Alabama</td>\n",
       "    </tr>\n",
       "    <tr>\n",
       "      <th>1</th>\n",
       "      <td>1003</td>\n",
       "      <td>AL</td>\n",
       "      <td>Baldwin</td>\n",
       "      <td>67</td>\n",
       "      <td>2.00</td>\n",
       "      <td>1.00</td>\n",
       "      <td>3.00</td>\n",
       "      <td>4.00</td>\n",
       "      <td>1.00</td>\n",
       "      <td>6.00</td>\n",
       "      <td>4.00</td>\n",
       "      <td>1.00</td>\n",
       "      <td>6.00</td>\n",
       "      <td>2.00</td>\n",
       "      <td>1.00</td>\n",
       "      <td>3.00</td>\n",
       "      <td>2.00</td>\n",
       "      <td>1.00</td>\n",
       "      <td>3.00</td>\n",
       "      <td>9.00</td>\n",
       "      <td>1.00</td>\n",
       "      <td>14.00</td>\n",
       "      <td>5.00</td>\n",
       "      <td>1.00</td>\n",
       "      <td>8.00</td>\n",
       "      <td>64.00</td>\n",
       "      <td>4.00</td>\n",
       "      <td>96.00</td>\n",
       "      <td>2,506.00</td>\n",
       "      <td>16.00</td>\n",
       "      <td>4.10</td>\n",
       "      <td>4.20</td>\n",
       "      <td>8.51</td>\n",
       "      <td>18.60</td>\n",
       "      <td>26.70</td>\n",
       "      <td>7.60</td>\n",
       "      <td>25.20</td>\n",
       "      <td>...</td>\n",
       "      <td>94.00</td>\n",
       "      <td>16.03</td>\n",
       "      <td>204.00</td>\n",
       "      <td>15.90</td>\n",
       "      <td>32.80</td>\n",
       "      <td>25,253.00</td>\n",
       "      <td>22.07</td>\n",
       "      <td>2,586.00</td>\n",
       "      <td>5.71</td>\n",
       "      <td>9,489.87</td>\n",
       "      <td>49,626.00</td>\n",
       "      <td>36.16</td>\n",
       "      <td>47.07</td>\n",
       "      <td>34.72</td>\n",
       "      <td>3.80</td>\n",
       "      <td>200,111.00</td>\n",
       "      <td>22.16</td>\n",
       "      <td>18.68</td>\n",
       "      <td>18,802.00</td>\n",
       "      <td>9.40</td>\n",
       "      <td>1,488.00</td>\n",
       "      <td>0.74</td>\n",
       "      <td>1,817.00</td>\n",
       "      <td>0.91</td>\n",
       "      <td>128.00</td>\n",
       "      <td>0.06</td>\n",
       "      <td>9,130.00</td>\n",
       "      <td>4.56</td>\n",
       "      <td>166,093.00</td>\n",
       "      <td>83.00</td>\n",
       "      <td>2,571.00</td>\n",
       "      <td>1.43</td>\n",
       "      <td>51.23</td>\n",
       "      <td>77060</td>\n",
       "      <td>42.28</td>\n",
       "      <td>2.00</td>\n",
       "      <td>Alabama</td>\n",
       "    </tr>\n",
       "    <tr>\n",
       "      <th>2</th>\n",
       "      <td>1005</td>\n",
       "      <td>AL</td>\n",
       "      <td>Barbour</td>\n",
       "      <td>67</td>\n",
       "      <td>24.00</td>\n",
       "      <td>2.00</td>\n",
       "      <td>36.00</td>\n",
       "      <td>55.00</td>\n",
       "      <td>4.00</td>\n",
       "      <td>83.00</td>\n",
       "      <td>10.00</td>\n",
       "      <td>1.00</td>\n",
       "      <td>15.00</td>\n",
       "      <td>46.00</td>\n",
       "      <td>3.00</td>\n",
       "      <td>69.00</td>\n",
       "      <td>57.00</td>\n",
       "      <td>4.00</td>\n",
       "      <td>86.00</td>\n",
       "      <td>25.00</td>\n",
       "      <td>2.00</td>\n",
       "      <td>38.00</td>\n",
       "      <td>56.00</td>\n",
       "      <td>4.00</td>\n",
       "      <td>84.00</td>\n",
       "      <td>48.00</td>\n",
       "      <td>3.00</td>\n",
       "      <td>72.00</td>\n",
       "      <td>410.00</td>\n",
       "      <td>25.70</td>\n",
       "      <td>4.90</td>\n",
       "      <td>4.70</td>\n",
       "      <td>12.15</td>\n",
       "      <td>21.40</td>\n",
       "      <td>40.80</td>\n",
       "      <td>5.10</td>\n",
       "      <td>32.90</td>\n",
       "      <td>...</td>\n",
       "      <td>nan</td>\n",
       "      <td>14.44</td>\n",
       "      <td>35.00</td>\n",
       "      <td>18.22</td>\n",
       "      <td>39.60</td>\n",
       "      <td>3,127.00</td>\n",
       "      <td>22.51</td>\n",
       "      <td>306.00</td>\n",
       "      <td>5.13</td>\n",
       "      <td>10,077.19</td>\n",
       "      <td>34,971.00</td>\n",
       "      <td>55.06</td>\n",
       "      <td>30.79</td>\n",
       "      <td>25.66</td>\n",
       "      <td>4.50</td>\n",
       "      <td>26,887.00</td>\n",
       "      <td>21.17</td>\n",
       "      <td>16.49</td>\n",
       "      <td>12,689.00</td>\n",
       "      <td>47.19</td>\n",
       "      <td>159.00</td>\n",
       "      <td>0.59</td>\n",
       "      <td>132.00</td>\n",
       "      <td>0.49</td>\n",
       "      <td>47.00</td>\n",
       "      <td>0.17</td>\n",
       "      <td>1,219.00</td>\n",
       "      <td>4.53</td>\n",
       "      <td>12,525.00</td>\n",
       "      <td>46.58</td>\n",
       "      <td>549.00</td>\n",
       "      <td>2.15</td>\n",
       "      <td>46.61</td>\n",
       "      <td>18613</td>\n",
       "      <td>67.79</td>\n",
       "      <td>0.00</td>\n",
       "      <td>Alabama</td>\n",
       "    </tr>\n",
       "    <tr>\n",
       "      <th>3</th>\n",
       "      <td>1007</td>\n",
       "      <td>AL</td>\n",
       "      <td>Bibb</td>\n",
       "      <td>67</td>\n",
       "      <td>43.00</td>\n",
       "      <td>3.00</td>\n",
       "      <td>65.00</td>\n",
       "      <td>31.00</td>\n",
       "      <td>2.00</td>\n",
       "      <td>47.00</td>\n",
       "      <td>44.00</td>\n",
       "      <td>3.00</td>\n",
       "      <td>66.00</td>\n",
       "      <td>41.00</td>\n",
       "      <td>3.00</td>\n",
       "      <td>62.00</td>\n",
       "      <td>46.00</td>\n",
       "      <td>3.00</td>\n",
       "      <td>69.00</td>\n",
       "      <td>29.00</td>\n",
       "      <td>2.00</td>\n",
       "      <td>44.00</td>\n",
       "      <td>25.00</td>\n",
       "      <td>2.00</td>\n",
       "      <td>38.00</td>\n",
       "      <td>25.00</td>\n",
       "      <td>2.00</td>\n",
       "      <td>38.00</td>\n",
       "      <td>414.00</td>\n",
       "      <td>22.00</td>\n",
       "      <td>4.80</td>\n",
       "      <td>4.60</td>\n",
       "      <td>12.42</td>\n",
       "      <td>21.00</td>\n",
       "      <td>40.10</td>\n",
       "      <td>7.40</td>\n",
       "      <td>33.20</td>\n",
       "      <td>...</td>\n",
       "      <td>10.00</td>\n",
       "      <td>14.79</td>\n",
       "      <td>38.00</td>\n",
       "      <td>23.92</td>\n",
       "      <td>40.60</td>\n",
       "      <td>2,388.00</td>\n",
       "      <td>19.01</td>\n",
       "      <td>209.00</td>\n",
       "      <td>4.25</td>\n",
       "      <td>10,674.38</td>\n",
       "      <td>39,546.00</td>\n",
       "      <td>54.96</td>\n",
       "      <td>40.56</td>\n",
       "      <td>40.01</td>\n",
       "      <td>7.40</td>\n",
       "      <td>22,506.00</td>\n",
       "      <td>21.02</td>\n",
       "      <td>14.79</td>\n",
       "      <td>4,931.00</td>\n",
       "      <td>21.91</td>\n",
       "      <td>95.00</td>\n",
       "      <td>0.42</td>\n",
       "      <td>50.00</td>\n",
       "      <td>0.22</td>\n",
       "      <td>29.00</td>\n",
       "      <td>0.13</td>\n",
       "      <td>474.00</td>\n",
       "      <td>2.11</td>\n",
       "      <td>16,772.00</td>\n",
       "      <td>74.52</td>\n",
       "      <td>112.00</td>\n",
       "      <td>0.52</td>\n",
       "      <td>45.93</td>\n",
       "      <td>15663</td>\n",
       "      <td>68.35</td>\n",
       "      <td>0.00</td>\n",
       "      <td>Alabama</td>\n",
       "    </tr>\n",
       "    <tr>\n",
       "      <th>4</th>\n",
       "      <td>1009</td>\n",
       "      <td>AL</td>\n",
       "      <td>Blount</td>\n",
       "      <td>67</td>\n",
       "      <td>8.00</td>\n",
       "      <td>1.00</td>\n",
       "      <td>12.00</td>\n",
       "      <td>18.00</td>\n",
       "      <td>2.00</td>\n",
       "      <td>27.00</td>\n",
       "      <td>12.00</td>\n",
       "      <td>1.00</td>\n",
       "      <td>18.00</td>\n",
       "      <td>7.00</td>\n",
       "      <td>1.00</td>\n",
       "      <td>11.00</td>\n",
       "      <td>9.00</td>\n",
       "      <td>1.00</td>\n",
       "      <td>14.00</td>\n",
       "      <td>39.00</td>\n",
       "      <td>3.00</td>\n",
       "      <td>59.00</td>\n",
       "      <td>13.00</td>\n",
       "      <td>1.00</td>\n",
       "      <td>20.00</td>\n",
       "      <td>19.00</td>\n",
       "      <td>2.00</td>\n",
       "      <td>29.00</td>\n",
       "      <td>876.00</td>\n",
       "      <td>20.70</td>\n",
       "      <td>4.60</td>\n",
       "      <td>4.50</td>\n",
       "      <td>7.47</td>\n",
       "      <td>19.40</td>\n",
       "      <td>32.40</td>\n",
       "      <td>8.30</td>\n",
       "      <td>28.50</td>\n",
       "      <td>...</td>\n",
       "      <td>42.00</td>\n",
       "      <td>24.22</td>\n",
       "      <td>99.00</td>\n",
       "      <td>24.67</td>\n",
       "      <td>36.20</td>\n",
       "      <td>7,693.00</td>\n",
       "      <td>22.29</td>\n",
       "      <td>864.00</td>\n",
       "      <td>6.04</td>\n",
       "      <td>10,092.80</td>\n",
       "      <td>45,567.00</td>\n",
       "      <td>45.00</td>\n",
       "      <td>62.47</td>\n",
       "      <td>34.35</td>\n",
       "      <td>3.30</td>\n",
       "      <td>57,719.00</td>\n",
       "      <td>23.59</td>\n",
       "      <td>17.00</td>\n",
       "      <td>945.00</td>\n",
       "      <td>1.64</td>\n",
       "      <td>363.00</td>\n",
       "      <td>0.63</td>\n",
       "      <td>168.00</td>\n",
       "      <td>0.29</td>\n",
       "      <td>66.00</td>\n",
       "      <td>0.11</td>\n",
       "      <td>5,042.00</td>\n",
       "      <td>8.74</td>\n",
       "      <td>50,652.00</td>\n",
       "      <td>87.76</td>\n",
       "      <td>954.00</td>\n",
       "      <td>1.77</td>\n",
       "      <td>50.53</td>\n",
       "      <td>51562</td>\n",
       "      <td>89.95</td>\n",
       "      <td>0.00</td>\n",
       "      <td>Alabama</td>\n",
       "    </tr>\n",
       "  </tbody>\n",
       "</table>\n",
       "<p>5 rows × 121 columns</p>\n",
       "</div>"
      ],
      "text/plain": [
       "   fips state   county  num_ranked_counties_in_state  \\\n",
       "0  1001    AL  Autauga                            67   \n",
       "1  1003    AL  Baldwin                            67   \n",
       "2  1005    AL  Barbour                            67   \n",
       "3  1007    AL     Bibb                            67   \n",
       "4  1009    AL   Blount                            67   \n",
       "\n",
       "   health_outcomes_rank_within_state  health_outcomes_quartile_within_state  \\\n",
       "0                              10.00                                   1.00   \n",
       "1                               2.00                                   1.00   \n",
       "2                              24.00                                   2.00   \n",
       "3                              43.00                                   3.00   \n",
       "4                               8.00                                   1.00   \n",
       "\n",
       "   health_outcomes_pctile_within_state  health_factors_rank_within_state  \\\n",
       "0                                15.00                              6.00   \n",
       "1                                 3.00                              4.00   \n",
       "2                                36.00                             55.00   \n",
       "3                                65.00                             31.00   \n",
       "4                                12.00                             18.00   \n",
       "\n",
       "   health_factors_quartile_within_state  health_factors_pctile_within_state  \\\n",
       "0                                  1.00                                9.00   \n",
       "1                                  1.00                                6.00   \n",
       "2                                  4.00                               83.00   \n",
       "3                                  2.00                               47.00   \n",
       "4                                  2.00                               27.00   \n",
       "\n",
       "   length_of_life_rank_within_state  length_of_life_quartile_within_state  \\\n",
       "0                             18.00                                  2.00   \n",
       "1                              4.00                                  1.00   \n",
       "2                             10.00                                  1.00   \n",
       "3                             44.00                                  3.00   \n",
       "4                             12.00                                  1.00   \n",
       "\n",
       "   length_of_life_pctile_within_state  quality_of_life_rank_within_state  \\\n",
       "0                               27.00                               6.00   \n",
       "1                                6.00                               2.00   \n",
       "2                               15.00                              46.00   \n",
       "3                               66.00                              41.00   \n",
       "4                               18.00                               7.00   \n",
       "\n",
       "   quality_of_life_quartile_within_state  quality_of_life_pctile_within_state  \\\n",
       "0                                   1.00                                 9.00   \n",
       "1                                   1.00                                 3.00   \n",
       "2                                   3.00                                69.00   \n",
       "3                                   3.00                                62.00   \n",
       "4                                   1.00                                11.00   \n",
       "\n",
       "   health_behaviors_rank_within_state  health_behaviors_quartile_within_state  \\\n",
       "0                                7.00                                    1.00   \n",
       "1                                2.00                                    1.00   \n",
       "2                               57.00                                    4.00   \n",
       "3                               46.00                                    3.00   \n",
       "4                                9.00                                    1.00   \n",
       "\n",
       "   health_behaviors_pctile_within_state  clinical_care_rank_within_state  \\\n",
       "0                                 11.00                            11.00   \n",
       "1                                  3.00                             9.00   \n",
       "2                                 86.00                            25.00   \n",
       "3                                 69.00                            29.00   \n",
       "4                                 14.00                            39.00   \n",
       "\n",
       "   clinical_care_quartile_within_state  clinical_care_pctile_within_state  \\\n",
       "0                                 1.00                              17.00   \n",
       "1                                 1.00                              14.00   \n",
       "2                                 2.00                              38.00   \n",
       "3                                 2.00                              44.00   \n",
       "4                                 3.00                              59.00   \n",
       "\n",
       "   social_and_economic_factors_rank_within_state  \\\n",
       "0                                           4.00   \n",
       "1                                           5.00   \n",
       "2                                          56.00   \n",
       "3                                          25.00   \n",
       "4                                          13.00   \n",
       "\n",
       "   social_and_economic_factors_quartile_within_state  \\\n",
       "0                                               1.00   \n",
       "1                                               1.00   \n",
       "2                                               4.00   \n",
       "3                                               2.00   \n",
       "4                                               1.00   \n",
       "\n",
       "   social_and_economic_factors_pctile_within_state  \\\n",
       "0                                             6.00   \n",
       "1                                             8.00   \n",
       "2                                            84.00   \n",
       "3                                            38.00   \n",
       "4                                            20.00   \n",
       "\n",
       "   physical_environment_rank_within_state  \\\n",
       "0                                   47.00   \n",
       "1                                   64.00   \n",
       "2                                   48.00   \n",
       "3                                   25.00   \n",
       "4                                   19.00   \n",
       "\n",
       "   physical_environment_quartile_within_state  \\\n",
       "0                                        3.00   \n",
       "1                                        4.00   \n",
       "2                                        3.00   \n",
       "3                                        2.00   \n",
       "4                                        2.00   \n",
       "\n",
       "   physical_environment_pctile_within_state  num_deaths  \\\n",
       "0                                     71.00      809.00   \n",
       "1                                     96.00    2,506.00   \n",
       "2                                     72.00      410.00   \n",
       "3                                     38.00      414.00   \n",
       "4                                     29.00      876.00   \n",
       "\n",
       "   pct_fair_or_poor_health  physically_unhealthy_days  \\\n",
       "0                    19.40                       4.40   \n",
       "1                    16.00                       4.10   \n",
       "2                    25.70                       4.90   \n",
       "3                    22.00                       4.80   \n",
       "4                    20.70                       4.60   \n",
       "\n",
       "   mentally_unhealthy_days  pct_low_birthweight  pct_smokers  pct_obese  \\\n",
       "0                     4.30                 8.79        18.70      30.90   \n",
       "1                     4.20                 8.51        18.60      26.70   \n",
       "2                     4.70                12.15        21.40      40.80   \n",
       "3                     4.60                12.42        21.00      40.10   \n",
       "4                     4.50                 7.47        19.40      32.40   \n",
       "\n",
       "   food_environment_index  pct_physically_inactive     ...      \\\n",
       "0                    7.10                    28.70     ...       \n",
       "1                    7.60                    25.20     ...       \n",
       "2                    5.10                    32.90     ...       \n",
       "3                    7.40                    33.20     ...       \n",
       "4                    8.30                    28.50     ...       \n",
       "\n",
       "   num_drug_overdose_deaths  drug_overdose_mortality_rate  \\\n",
       "0                     13.00                          7.82   \n",
       "1                     94.00                         16.03   \n",
       "2                       nan                         14.44   \n",
       "3                     10.00                         14.79   \n",
       "4                     42.00                         24.22   \n",
       "\n",
       "   num_motor_vehicle_deaths  motor_vehicle_mortality_rate  \\\n",
       "0                     75.00                         19.72   \n",
       "1                    204.00                         15.90   \n",
       "2                     35.00                         18.22   \n",
       "3                     38.00                         23.92   \n",
       "4                     99.00                         24.67   \n",
       "\n",
       "   pct_insufficient_sleep  num_uninsured_adults  pct_uninsured_adults  \\\n",
       "0                   37.60              5,852.00                 17.48   \n",
       "1                   32.80             25,253.00                 22.07   \n",
       "2                   39.60              3,127.00                 22.51   \n",
       "3                   40.60              2,388.00                 19.01   \n",
       "4                   36.20              7,693.00                 22.29   \n",
       "\n",
       "   num_uninsured_children  pct_uninsured_children  health_care_costs  \\\n",
       "0                  563.00                    3.86          10,165.85   \n",
       "1                2,586.00                    5.71           9,489.87   \n",
       "2                  306.00                    5.13          10,077.19   \n",
       "3                  209.00                    4.25          10,674.38   \n",
       "4                  864.00                    6.04          10,092.80   \n",
       "\n",
       "   median_household_income  pct_children_eligible_free_lunch  \\\n",
       "0                54,366.00                             36.95   \n",
       "1                49,626.00                             36.16   \n",
       "2                34,971.00                             55.06   \n",
       "3                39,546.00                             54.96   \n",
       "4                45,567.00                             45.00   \n",
       "\n",
       "   residential_segregation_index_1  residential_segregation_index_2  \\\n",
       "0                            32.84                            28.53   \n",
       "1                            47.07                            34.72   \n",
       "2                            30.79                            25.66   \n",
       "3                            40.56                            40.01   \n",
       "4                            62.47                            34.35   \n",
       "\n",
       "   homicide_rate  population  pct_under_18  pct_65_and_older  \\\n",
       "0           5.10   55,395.00         25.18             13.83   \n",
       "1           3.80  200,111.00         22.16             18.68   \n",
       "2           4.50   26,887.00         21.17             16.49   \n",
       "3           7.40   22,506.00         21.02             14.79   \n",
       "4           3.30   57,719.00         23.59             17.00   \n",
       "\n",
       "   num_african_american  pct_african_american  num_american_indian  \\\n",
       "0             10,245.00                 18.49               275.00   \n",
       "1             18,802.00                  9.40             1,488.00   \n",
       "2             12,689.00                 47.19               159.00   \n",
       "3              4,931.00                 21.91                95.00   \n",
       "4                945.00                  1.64               363.00   \n",
       "\n",
       "   pct_american_indian  num_asian  pct_asian  num_pacific_islander  \\\n",
       "0                 0.50     603.00       1.09                 56.00   \n",
       "1                 0.74   1,817.00       0.91                128.00   \n",
       "2                 0.59     132.00       0.49                 47.00   \n",
       "3                 0.42      50.00       0.22                 29.00   \n",
       "4                 0.63     168.00       0.29                 66.00   \n",
       "\n",
       "   pct_pacific_islander  num_hispanic  pct_hispanic  num_non_hispanic_white  \\\n",
       "0                  0.10      1,514.00          2.73               41,877.00   \n",
       "1                  0.06      9,130.00          4.56              166,093.00   \n",
       "2                  0.17      1,219.00          4.53               12,525.00   \n",
       "3                  0.13        474.00          2.11               16,772.00   \n",
       "4                  0.11      5,042.00          8.74               50,652.00   \n",
       "\n",
       "  pct_non_hispanic_white  num_not_proficient_in_english  \\\n",
       "0                  75.60                         249.00   \n",
       "1                  83.00                       2,571.00   \n",
       "2                  46.58                         549.00   \n",
       "3                  74.52                         112.00   \n",
       "4                  87.76                         954.00   \n",
       "\n",
       "   pct_not_proficient_in_english  pct_female  num_rural  pct_rural  \\\n",
       "0                           0.48       51.36      22921      42.00   \n",
       "1                           1.43       51.23      77060      42.28   \n",
       "2                           2.15       46.61      18613      67.79   \n",
       "3                           0.52       45.93      15663      68.35   \n",
       "4                           1.77       50.53      51562      89.95   \n",
       "\n",
       "   treatment_center_count  state_name  \n",
       "0                    0.00     Alabama  \n",
       "1                    2.00     Alabama  \n",
       "2                    0.00     Alabama  \n",
       "3                    0.00     Alabama  \n",
       "4                    0.00     Alabama  \n",
       "\n",
       "[5 rows x 121 columns]"
      ]
     },
     "execution_count": 40,
     "metadata": {},
     "output_type": "execute_result"
    }
   ],
   "source": [
    "# Let's impute value based on average by State\n",
    "def imputer(df, numerical_cols):\n",
    "  for col in numerical_cols:\n",
    "    grouped_dict = dict(df.groupby('state')[col].mean())\n",
    "    df[col].fillna(df['state'].map(grouped_dict), inplace=True)\n",
    "  return df\n",
    "\n",
    "counties_df = imputer(counties_df, numerical_cols + target)\n",
    "\n",
    "def target_imputer(df, col):\n",
    "  grouped_dict = dict(df.groupby('state')[col].median())\n",
    "  df[col].fillna(df['state'].map(grouped_dict), inplace=True)\n",
    "  return df\n",
    "\n",
    "counties_df = imputer(counties_df, numerical_cols)\n",
    "counties_df = target_imputer(counties_df, target)\n",
    "counties_df.head(5)"
   ]
  },
  {
   "cell_type": "code",
   "execution_count": 41,
   "metadata": {},
   "outputs": [],
   "source": [
    "#counties_df[['state','county', 'drug_overdose_mortality_rate']][counties_df['state'].isin(['KY'])].head(10)"
   ]
  },
  {
   "cell_type": "code",
   "execution_count": 42,
   "metadata": {},
   "outputs": [
    {
     "data": {
      "text/plain": [
       "\"\\ndel counties_df['average_daily_pm2pt5']\\ndel counties_df['num_hiv_cases']\\ndel counties_df['hiv_prevalence_rate']\\n\""
      ]
     },
     "execution_count": 42,
     "metadata": {},
     "output_type": "execute_result"
    }
   ],
   "source": [
    "# Something wrong with these columns even after impuatation these are having nan...let's delete them for now\n",
    "\"\"\"\n",
    "del counties_df['average_daily_pm2pt5']\n",
    "del counties_df['num_hiv_cases']\n",
    "del counties_df['hiv_prevalence_rate']\n",
    "\"\"\""
   ]
  },
  {
   "cell_type": "code",
   "execution_count": 43,
   "metadata": {},
   "outputs": [],
   "source": [
    "# Let's plot and find out variables distribution and anamoly detection\n",
    "# Scatter and density plots\n",
    "def plotScatterMatrix(df, plotSize, textSize):\n",
    "#  df = df.select_dtypes(include=[np.number])\n",
    "#  df = df[[col for col in df if df[col].nunique>1]] # Keep columns with continuous values\n",
    "#  columnNames = list(df)\n",
    "  \n",
    "  ax = pd.plotting.scatter_matrix(df, alpha=0.5, figsize=[plotSize, plotSize] , diagonal='kde', grid=True)\n",
    "  #Change label rotation\n",
    "  [s.xaxis.label.set_rotation(45) for s in ax.reshape(-1)]\n",
    "  [s.yaxis.label.set_rotation(0) for s in ax.reshape(-1)]\n",
    "\n",
    "  #May need to offset label when rotating to prevent overlap of figure\n",
    "  [s.get_yaxis().set_label_coords(-0.8,0.5) for s in ax.reshape(-1)]\n",
    "\n",
    "  #Hide all ticks\n",
    "  [s.set_xticks(()) for s in ax.reshape(-1)]\n",
    "  [s.set_yticks(()) for s in ax.reshape(-1)]\n",
    "  corrs = df.corr().values\n",
    "  for i, j in zip(*plt.np.triu_indices_from(ax, k=1)):\n",
    "    ax[i, j].annotate('%.3f' % corrs[i, j], (0.8, 0.2), xycoords='axes fraction', ha='center', va='center', size=textSize)\n",
    "  plt.suptitle('Scatter and Density Plot')\n",
    "  plt.savefig('eda_output/scatter_plot.png')\n",
    "  plt.show()\n",
    "\n",
    "#plotScatterMatrix(counties_df[numerical_cols + target], 20,8)"
   ]
  },
  {
   "cell_type": "markdown",
   "metadata": {},
   "source": [
    "<img src='eda_output/scatter_plot.png' width=\"1500\" height=\"1500\" >"
   ]
  },
  {
   "cell_type": "code",
   "execution_count": 44,
   "metadata": {},
   "outputs": [
    {
     "name": "stderr",
     "output_type": "stream",
     "text": [
      "/usr/local/envs/py3env/lib/python3.5/site-packages/matplotlib/font_manager.py:1320: UserWarning: findfont: Font family ['sans-serif'] not found. Falling back to DejaVu Sans\n",
      "  (prop.get_family(), self.defaultFamily[fontext]))\n"
     ]
    },
    {
     "data": {
      "image/png": "[encoded data removed]",
      "text/plain": [
       "<matplotlib.figure.Figure at 0x7f160f9bafd0>"
      ]
     },
     "metadata": {},
     "output_type": "display_data"
    },
    {
     "data": {
      "image/png": "[encoded data removed]",
      "text/plain": [
       "<matplotlib.figure.Figure at 0x7f1624a850b8>"
      ]
     },
     "metadata": {},
     "output_type": "display_data"
    },
    {
     "data": {
      "image/png": "[encoded data removed]",
      "text/plain": [
       "<matplotlib.figure.Figure at 0x7f160ff478d0>"
      ]
     },
     "metadata": {},
     "output_type": "display_data"
    },
    {
     "data": {
      "image/png": "[encoded data removed]",
      "text/plain": [
       "<matplotlib.figure.Figure at 0x7f160ff63ac8>"
      ]
     },
     "metadata": {},
     "output_type": "display_data"
    },
    {
     "data": {
      "image/png": "[encoded data removed]",
      "text/plain": [
       "<matplotlib.figure.Figure at 0x7f160ff3a160>"
      ]
     },
     "metadata": {},
     "output_type": "display_data"
    },
    {
     "data": {
      "image/png": "[encoded data removed]",
      "text/plain": [
       "<matplotlib.figure.Figure at 0x7f160fef2d30>"
      ]
     },
     "metadata": {},
     "output_type": "display_data"
    },
    {
     "data": {
      "image/png": "[encoded data removed]",
      "text/plain": [
       "<matplotlib.figure.Figure at 0x7f160fe8abe0>"
      ]
     },
     "metadata": {},
     "output_type": "display_data"
    },
    {
     "data": {
      "image/png": "[encoded data removed]",
      "text/plain": [
       "<matplotlib.figure.Figure at 0x7f160fe65390>"
      ]
     },
     "metadata": {},
     "output_type": "display_data"
    },
    {
     "data": {
      "image/png": "[encoded data removed]",
      "text/plain": [
       "<matplotlib.figure.Figure at 0x7f160fe54390>"
      ]
     },
     "metadata": {},
     "output_type": "display_data"
    },
    {
     "data": {
      "image/png": "[encoded data removed]",
      "text/plain": [
       "<matplotlib.figure.Figure at 0x7f1624a80a20>"
      ]
     },
     "metadata": {},
     "output_type": "display_data"
    },
    {
     "data": {
      "image/png": "[encoded data removed]",
      "text/plain": [
       "<matplotlib.figure.Figure at 0x7f1628148c18>"
      ]
     },
     "metadata": {},
     "output_type": "display_data"
    },
    {
     "data": {
      "image/png": "[encoded data removed]",
      "text/plain": [
       "<matplotlib.figure.Figure at 0x7f1625b77860>"
      ]
     },
     "metadata": {},
     "output_type": "display_data"
    },
    {
     "data": {
      "image/png": "[encoded data removed]",
      "text/plain": [
       "<matplotlib.figure.Figure at 0x7f160fe5dcf8>"
      ]
     },
     "metadata": {},
     "output_type": "display_data"
    },
    {
     "data": {
      "image/png": "[encoded data removed]",
      "text/plain": [
       "<matplotlib.figure.Figure at 0x7f1625a57160>"
      ]
     },
     "metadata": {},
     "output_type": "display_data"
    },
    {
     "data": {
      "image/png": "[encoded data removed]",
      "text/plain": [
       "<matplotlib.figure.Figure at 0x7f1625d23c50>"
      ]
     },
     "metadata": {},
     "output_type": "display_data"
    },
    {
     "data": {
      "image/png": "[encoded data removed]",
      "text/plain": [
       "<matplotlib.figure.Figure at 0x7f160fe9a780>"
      ]
     },
     "metadata": {},
     "output_type": "display_data"
    },
    {
     "data": {
      "image/png": "[encoded data removed]",
      "text/plain": [
       "<matplotlib.figure.Figure at 0x7f1625b0d128>"
      ]
     },
     "metadata": {},
     "output_type": "display_data"
    },
    {
     "data": {
      "image/png": "[encoded data removed]",
      "text/plain": [
       "<matplotlib.figure.Figure at 0x7f1627ac9c50>"
      ]
     },
     "metadata": {},
     "output_type": "display_data"
    },
    {
     "data": {
      "image/png": "[encoded data removed]",
      "text/plain": [
       "<matplotlib.figure.Figure at 0x7f1625ababe0>"
      ]
     },
     "metadata": {},
     "output_type": "display_data"
    },
    {
     "data": {
      "image/png": "[encoded data removed]",
      "text/plain": [
       "<matplotlib.figure.Figure at 0x7f1627baec88>"
      ]
     },
     "metadata": {},
     "output_type": "display_data"
    },
    {
     "data": {
      "image/png": "[encoded data removed]",
      "text/plain": [
       "<matplotlib.figure.Figure at 0x7f160ff2f390>"
      ]
     },
     "metadata": {},
     "output_type": "display_data"
    },
    {
     "data": {
      "image/png": "[encoded data removed]",
      "text/plain": [
       "<matplotlib.figure.Figure at 0x7f160ff6d358>"
      ]
     },
     "metadata": {},
     "output_type": "display_data"
    }
   ],
   "source": [
    "# plot outliers and find \n",
    "def plot_outliers(df, cols):\n",
    "  for i in list(df[cols]):\n",
    "    plt.figure(figsize=(10,2))\n",
    "    df[i].plot.box(return_type='both', layout=(3,5), vert=False)\n",
    "    plt.show()\n",
    "    \n",
    "plot_outliers(counties_df, numerical_cols + target)"
   ]
  },
  {
   "cell_type": "code",
   "execution_count": 45,
   "metadata": {},
   "outputs": [
    {
     "data": {
      "text/plain": [
       "\"\\nfig, ax = plt.subplots(figsize=(20,15)) \\nsns_plot = sns.heatmap(counties_df[numerical_cols + target].corr(), annot=True, linewidths=.5, ax=ax)\\nfig = sns_plot.get_figure()\\nfig.savefig('eda_output/coorelation_heatmap.png\\n\""
      ]
     },
     "execution_count": 45,
     "metadata": {},
     "output_type": "execute_result"
    }
   ],
   "source": [
    "#Caution:  **AUTOSAVE** will not work when you generate heatmap so i saved it into file and load that...\n",
    "\"\"\"\n",
    "fig, ax = plt.subplots(figsize=(20,15)) \n",
    "sns_plot = sns.heatmap(counties_df[numerical_cols + target].corr(), annot=True, linewidths=.5, ax=ax)\n",
    "fig = sns_plot.get_figure()\n",
    "fig.savefig('eda_output/coorelation_heatmap.png\n",
    "\"\"\"\n"
   ]
  },
  {
   "cell_type": "markdown",
   "metadata": {},
   "source": [
    "<img src='eda_output/coorelation_heatmap.png'>"
   ]
  },
  {
   "cell_type": "code",
   "execution_count": 46,
   "metadata": {},
   "outputs": [
    {
     "data": {
      "text/plain": [
       "(3141, 21)"
      ]
     },
     "execution_count": 46,
     "metadata": {},
     "output_type": "execute_result"
    }
   ],
   "source": [
    "# Let's try with all cols and then selected features\n",
    "counties_data = counties_df[numerical_cols]\n",
    "train = counties_data.values\n",
    "train.shape"
   ]
  },
  {
   "cell_type": "code",
   "execution_count": 47,
   "metadata": {},
   "outputs": [
    {
     "data": {
      "text/plain": [
       "(3141, 21)"
      ]
     },
     "execution_count": 47,
     "metadata": {},
     "output_type": "execute_result"
    }
   ],
   "source": [
    "# Preprocess our data, we will we doing mean imputation and standarization\n",
    "def preprocessing(data, strategy='mean', scaling='std'):\n",
    "  from sklearn.preprocessing import Imputer, StandardScaler\n",
    "  data = Imputer(strategy=strategy).fit_transform(data)\n",
    "  if scaling=='std':\n",
    "    data = StandardScaler().fit_transform(data)\n",
    "  return data\n",
    "  \n",
    "prep_train = preprocessing(train)\n",
    "prep_train.shape"
   ]
  },
  {
   "cell_type": "code",
   "execution_count": 48,
   "metadata": {},
   "outputs": [
    {
     "data": {
      "text/plain": [
       "[<matplotlib.lines.Line2D at 0x7f160ff9b9e8>]"
      ]
     },
     "execution_count": 48,
     "metadata": {},
     "output_type": "execute_result"
    },
    {
     "data": {
      "text/plain": [
       "Text(0.5,1,'Elbow Method')"
      ]
     },
     "execution_count": 48,
     "metadata": {},
     "output_type": "execute_result"
    },
    {
     "data": {
      "text/plain": [
       "Text(0.5,0,'Number of Clusters')"
      ]
     },
     "execution_count": 48,
     "metadata": {},
     "output_type": "execute_result"
    },
    {
     "data": {
      "text/plain": [
       "Text(0,0.5,'WCSS')"
      ]
     },
     "execution_count": 48,
     "metadata": {},
     "output_type": "execute_result"
    },
    {
     "name": "stderr",
     "output_type": "stream",
     "text": [
      "/usr/local/envs/py3env/lib/python3.5/site-packages/matplotlib/font_manager.py:1320: UserWarning: findfont: Font family ['sans-serif'] not found. Falling back to DejaVu Sans\n",
      "  (prop.get_family(), self.defaultFamily[fontext]))\n"
     ]
    },
    {
     "data": {
      "image/png": "[encoded data removed]",
      "text/plain": [
       "<matplotlib.figure.Figure at 0x7f160ffb0f98>"
      ]
     },
     "metadata": {},
     "output_type": "display_data"
    }
   ],
   "source": [
    "# Determine right number of clusters\\\n",
    "from sklearn.cluster import KMeans\n",
    "\n",
    "wcss = []\n",
    "rng_clusters=20\n",
    "\n",
    "def find_nb_cluster(rng_clusters):\n",
    "  for i in range(1, rng_clusters):\n",
    "    kmeans = KMeans(n_clusters=i, \n",
    "                    init='k-means++', \n",
    "                    max_iter=300, \n",
    "                    n_init=10, \n",
    "                    random_state=0)\n",
    "    kmeans.fit(prep_train)\n",
    "    wcss.append(kmeans.inertia_)\n",
    "\n",
    "find_nb_cluster(rng_clusters)\n",
    "\n",
    "# Find optimized number of clusters\n",
    "plt.plot(range(1, rng_clusters), wcss)\n",
    "plt.title('Elbow Method')\n",
    "plt.xlabel('Number of Clusters')\n",
    "plt.ylabel('WCSS')\n",
    "plt.show()"
   ]
  },
  {
   "cell_type": "code",
   "execution_count": 49,
   "metadata": {},
   "outputs": [
    {
     "data": {
      "text/plain": [
       "array([0.60188163, 0.10410969])"
      ]
     },
     "execution_count": 49,
     "metadata": {},
     "output_type": "execute_result"
    },
    {
     "data": {
      "text/plain": [
       "<matplotlib.collections.PathCollection at 0x7f160fe9d630>"
      ]
     },
     "execution_count": 49,
     "metadata": {},
     "output_type": "execute_result"
    },
    {
     "data": {
      "text/plain": [
       "<matplotlib.collections.PathCollection at 0x7f16281489b0>"
      ]
     },
     "execution_count": 49,
     "metadata": {},
     "output_type": "execute_result"
    },
    {
     "data": {
      "text/plain": [
       "<matplotlib.collections.PathCollection at 0x7f16260d76a0>"
      ]
     },
     "execution_count": 49,
     "metadata": {},
     "output_type": "execute_result"
    },
    {
     "data": {
      "text/plain": [
       "<matplotlib.collections.PathCollection at 0x7f16260d7e80>"
      ]
     },
     "execution_count": 49,
     "metadata": {},
     "output_type": "execute_result"
    },
    {
     "data": {
      "text/plain": [
       "Text(0.5,1,'Counties Clusters')"
      ]
     },
     "execution_count": 49,
     "metadata": {},
     "output_type": "execute_result"
    },
    {
     "data": {
      "text/plain": [
       "Text(0.5,0,'PCA 1')"
      ]
     },
     "execution_count": 49,
     "metadata": {},
     "output_type": "execute_result"
    },
    {
     "data": {
      "text/plain": [
       "Text(0.5,0,'PCA 2')"
      ]
     },
     "execution_count": 49,
     "metadata": {},
     "output_type": "execute_result"
    },
    {
     "data": {
      "text/plain": [
       "<matplotlib.legend.Legend at 0x7f16260d7048>"
      ]
     },
     "execution_count": 49,
     "metadata": {},
     "output_type": "execute_result"
    },
    {
     "name": "stderr",
     "output_type": "stream",
     "text": [
      "/usr/local/envs/py3env/lib/python3.5/site-packages/matplotlib/font_manager.py:1320: UserWarning: findfont: Font family ['sans-serif'] not found. Falling back to DejaVu Sans\n",
      "  (prop.get_family(), self.defaultFamily[fontext]))\n"
     ]
    },
    {
     "data": {
      "image/png": "[encoded data removed]",
      "text/plain": [
       "<matplotlib.figure.Figure at 0x7f160ff40dd8>"
      ]
     },
     "metadata": {},
     "output_type": "display_data"
    }
   ],
   "source": [
    "# Let's decompose data for visualization\n",
    "from sklearn.decomposition import PCA\n",
    "\n",
    "pca = PCA(n_components=2)\n",
    "pca_train = pca.fit_transform(prep_train)\n",
    "explained_variance = pca.explained_variance_ratio_\n",
    "explained_variance\n",
    "\n",
    "pca_kmeans = KMeans(n_clusters=3, init='k-means++', max_iter=300, n_init=10, random_state=0)\n",
    "y_pca_kmeans = pca_kmeans.fit_predict(pca_train)\n",
    "\n",
    "\n",
    "plt.scatter(pca_train[y_pca_kmeans==0,0], pca_train[y_pca_kmeans == 0, 1], s=100, c='red', label='Cluster1')\n",
    "plt.scatter(pca_train[y_pca_kmeans==1,0], pca_train[y_pca_kmeans == 1, 1], s=100, c='blue', label='Cluster2')\n",
    "plt.scatter(pca_train[y_pca_kmeans==2,0], pca_train[y_pca_kmeans == 2, 1], s=100, c='green', label='Cluster3')\n",
    "plt.scatter(pca_kmeans.cluster_centers_[:,0], pca_kmeans.cluster_centers_[:,1], s=300, c='yellow', label = 'Centroids')\n",
    "plt.title('Counties Clusters')\n",
    "plt.xlabel('PCA 1')\n",
    "plt.xlabel('PCA 2')\n",
    "plt.legend()\n",
    "plt.show()"
   ]
  },
  {
   "cell_type": "code",
   "execution_count": 50,
   "metadata": {},
   "outputs": [],
   "source": [
    "# Function to write dataframe to cloud storage\n",
    "def write_to_storage(bucket_obj, df):\n",
    "    \"\"\"\n",
    "    This function is created to write data to storage\n",
    "    bucket_obj: Actual path of file\n",
    "    data: Dataframe or file\n",
    "    \"\"\"\n",
    "    try:\n",
    "        global bucket_object, data\n",
    "        bucket_object = bucket_obj\n",
    "        data = df\n",
    "        %storage write --object $bucket_object --variable data\n",
    "        print(\"Dataframe written successfully to storage\")\n",
    "    except IOError:\n",
    "        print(\"Write operation failed\")\n",
    "\n",
    "# I experienced some issue with writing dataframe directly to storage"
   ]
  },
  {
   "cell_type": "code",
   "execution_count": 51,
   "metadata": {},
   "outputs": [],
   "source": [
    "# Write features to storage\n",
    "#input_features_bucket_obj = 'gs://opioid-care/eda_output/master_data.csv'\n",
    "#write_to_storage(input_features_bucket_obj, features_df)"
   ]
  },
  {
   "cell_type": "code",
   "execution_count": 52,
   "metadata": {},
   "outputs": [
    {
     "name": "stdout",
     "output_type": "stream",
     "text": [
      "Copying file://eda_output/master_data.csv [Content-Type=text/csv]...\n",
      "/ [1 files][543.1 KiB/543.1 KiB]                                                \n",
      "Operation completed over 1 objects/543.1 KiB.                                    \n"
     ]
    }
   ],
   "source": [
    "master_df = counties_df[['state',  'state_name', 'county'] + numerical_cols + target]\n",
    "master_df.to_csv('eda_output/master_data.csv', index = False)\n",
    "\n",
    "!gsutil cp 'eda_output/master_data.csv' 'gs://opioid-care/eda_output/master_data.csv'"
   ]
  },
  {
   "cell_type": "code",
   "execution_count": 53,
   "metadata": {},
   "outputs": [],
   "source": [
    "# Write data to Bigquery\n",
    "\n",
    "project = 'opioid-care'\n",
    "bq_dataset = 'hackathon_opioid'\n",
    "\n",
    "def write_to_bigquery(df, project, bq_dataset, bq_table):\n",
    "    # Define BigQuery dataset and table\n",
    "    dataset = bq.Dataset(bq_dataset)\n",
    "    table = bq.Table(bq_dataset + '.' + bq_table)\n",
    "\n",
    "    # Create BigQuery dataset\n",
    "    if not dataset.exists():\n",
    "        dataset.create()\n",
    "\n",
    "    # Create or overwrite the existing table if it exists\n",
    "    table_schema = bq.Schema.from_data(df)\n",
    "    table.create(schema = table_schema, overwrite = True)\n",
    "\n",
    "    # Write the DataFrame to a BigQuery table\n",
    "    try:\n",
    "        table.insert(df)\n",
    "        print(\"Table successfully written to BigQuery\")\n",
    "    except IOError as e:\n",
    "        print(e, \"Write operation failed\")"
   ]
  },
  {
   "cell_type": "code",
   "execution_count": 54,
   "metadata": {},
   "outputs": [
    {
     "name": "stdout",
     "output_type": "stream",
     "text": [
      "Table successfully written to BigQuery\n"
     ]
    }
   ],
   "source": [
    "# Write features to bigquery table\n",
    "write_to_bigquery(master_df, project, bq_dataset, 'master_data')"
   ]
  },
  {
   "cell_type": "code",
   "execution_count": 55,
   "metadata": {},
   "outputs": [
    {
     "data": {
      "text/plain": [
       "(3141, 103)"
      ]
     },
     "execution_count": 55,
     "metadata": {},
     "output_type": "execute_result"
    }
   ],
   "source": [
    "# Data wrangling done by Yiqi writing into BQ\n",
    "best_features = pd.read_csv('eda_output/100_Best_Features.csv')\n",
    "best_features.columns = best_features.columns.str.lower().str.replace(' ', '_').str.replace('(','_').str.replace(')','_').str.replace(';','_').str.replace('-','_')\n",
    "best_features.shape"
   ]
  },
  {
   "cell_type": "code",
   "execution_count": 56,
   "metadata": {},
   "outputs": [
    {
     "name": "stdout",
     "output_type": "stream",
     "text": [
      "Table successfully written to BigQuery\n"
     ]
    }
   ],
   "source": [
    "write_to_bigquery(best_features, project, bq_dataset, 'best_features')"
   ]
  },
  {
   "cell_type": "code",
   "execution_count": 57,
   "metadata": {},
   "outputs": [],
   "source": [
    "normalized_df = master_df[numerical_cols + target].apply(lambda x: (x-x.min())/(x.max() - x.min()), axis = 0)"
   ]
  },
  {
   "cell_type": "code",
   "execution_count": 58,
   "metadata": {},
   "outputs": [
    {
     "name": "stdout",
     "output_type": "stream",
     "text": [
      "Table successfully written to BigQuery\n"
     ]
    }
   ],
   "source": [
    "write_to_bigquery(best_features, project, bq_dataset, 'normalized_master_data')"
   ]
  },
  {
   "cell_type": "markdown",
   "metadata": {},
   "source": [
    "This conclude our exploratory analysis we have marked down our research and ananlysis in starting on this notebook...."
   ]
  }
 ],
 "metadata": {
  "kernelspec": {
   "display_name": "Python 3",
   "language": "python",
   "name": "python3"
  },
  "language_info": {
   "codemirror_mode": {
    "name": "ipython",
    "version": 3
   },
   "file_extension": ".py",
   "mimetype": "text/x-python",
   "name": "python",
   "nbconvert_exporter": "python",
   "pygments_lexer": "ipython3",
   "version": "3.5.6"
  }
 },
 "nbformat": 4,
 "nbformat_minor": 2
}
