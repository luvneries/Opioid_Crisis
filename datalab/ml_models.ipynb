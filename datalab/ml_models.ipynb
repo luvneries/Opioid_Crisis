{
 "cells": [
  {
   "cell_type": "markdown",
   "metadata": {},
   "source": [
    "### Clustering and Regeression model\n",
    "\n",
    "We will use this notebook to derive weights from regression model to make light weight visualization and cluster counties.\n"
   ]
  },
  {
   "cell_type": "code",
   "execution_count": 1,
   "metadata": {},
   "outputs": [],
   "source": [
    "# Set parameters \n",
    "BUCKET = 'opioid-care'\n",
    "PROJECT = 'opioid-care'\n",
    "REGION = 'us-central1'\n",
    "\n",
    "import os\n",
    "os.environ['BUCKET'] = BUCKET\n",
    "os.environ['PROJECT'] = PROJECT\n",
    "os.environ['REGION'] = REGION"
   ]
  },
  {
   "cell_type": "code",
   "execution_count": 2,
   "metadata": {},
   "outputs": [
    {
     "name": "stderr",
     "output_type": "stream",
     "text": [
      "Updated property [core/project].\n",
      "Updated property [compute/region].\n"
     ]
    }
   ],
   "source": [
    "%bash\n",
    "gcloud config set project $PROJECT\n",
    "gcloud config set compute/region $REGION"
   ]
  },
  {
   "cell_type": "code",
   "execution_count": 3,
   "metadata": {},
   "outputs": [],
   "source": [
    "# Let's import libraries\n",
    "import pandas as pd\n",
    "pd.options.display.float_format='{:,.2f}'.format\n",
    "\n",
    "import numpy as np\n",
    "\n",
    "import matplotlib.pyplot as plt\n",
    "%matplotlib inline\n",
    "\n",
    "from google.datalab import bigquery as bq\n",
    "\n",
    "from sklearn.model_selection import train_test_split\n",
    "\n",
    "from sklearn.decomposition import PCA\n",
    "from sklearn.cluster import KMeans\n",
    "from sklearn.preprocessing import Imputer, StandardScaler\n",
    "\n",
    "from IPython.core.interactiveshell import InteractiveShell\n",
    "InteractiveShell.ast_node_interactivity = \"all\"\n",
    "\n",
    "from itertools import combinations"
   ]
  },
  {
   "cell_type": "markdown",
   "metadata": {},
   "source": [
    "### Let's ingest data"
   ]
  },
  {
   "cell_type": "code",
   "execution_count": 4,
   "metadata": {},
   "outputs": [
    {
     "data": {
      "text/plain": [
       "(3141, 103)"
      ]
     },
     "execution_count": 4,
     "metadata": {},
     "output_type": "execute_result"
    },
    {
     "data": {
      "text/html": [
       "<div>\n",
       "<style scoped>\n",
       "    .dataframe tbody tr th:only-of-type {\n",
       "        vertical-align: middle;\n",
       "    }\n",
       "\n",
       "    .dataframe tbody tr th {\n",
       "        vertical-align: top;\n",
       "    }\n",
       "\n",
       "    .dataframe thead th {\n",
       "        text-align: right;\n",
       "    }\n",
       "</style>\n",
       "<table border=\"1\" class=\"dataframe\">\n",
       "  <thead>\n",
       "    <tr style=\"text-align: right;\">\n",
       "      <th></th>\n",
       "      <th>health_factors_pctile_within_state</th>\n",
       "      <th>length_of_life_pctile_within_state</th>\n",
       "      <th>pct_smokers</th>\n",
       "      <th>pct_physically_inactive</th>\n",
       "      <th>pct_excessive_drinking</th>\n",
       "      <th>preventable_hospitalization_rate</th>\n",
       "      <th>pct_some_college</th>\n",
       "      <th>pct_frequent_mental_distress</th>\n",
       "      <th>pct_diabetic</th>\n",
       "      <th>median_household_income</th>\n",
       "      <th>...</th>\n",
       "      <th>tedsd_psyprob_1</th>\n",
       "      <th>retaildrug_amobarbital__schedule_2_</th>\n",
       "      <th>retaildrug_amphetamine</th>\n",
       "      <th>retaildrug_fentanyl_base</th>\n",
       "      <th>retaildrug_lisdexamfetamine</th>\n",
       "      <th>retaildrug_methylphenidate__dl_d_l_isomers_</th>\n",
       "      <th>retaildrug_tapentadol</th>\n",
       "      <th>drug_overdose_mortality_rate</th>\n",
       "      <th>state</th>\n",
       "      <th>county</th>\n",
       "    </tr>\n",
       "  </thead>\n",
       "  <tbody>\n",
       "    <tr>\n",
       "      <th>0</th>\n",
       "      <td>98.00</td>\n",
       "      <td>93.00</td>\n",
       "      <td>17.50</td>\n",
       "      <td>27.60</td>\n",
       "      <td>18.30</td>\n",
       "      <td>52.58</td>\n",
       "      <td>54.05</td>\n",
       "      <td>11.50</td>\n",
       "      <td>10.60</td>\n",
       "      <td>43,205.00</td>\n",
       "      <td>...</td>\n",
       "      <td>0.29</td>\n",
       "      <td>48.77</td>\n",
       "      <td>419,978.29</td>\n",
       "      <td>7,356.33</td>\n",
       "      <td>127,363.50</td>\n",
       "      <td>443,237.97</td>\n",
       "      <td>78,105.00</td>\n",
       "      <td>22.00</td>\n",
       "      <td>WA</td>\n",
       "      <td>Grays Harbor</td>\n",
       "    </tr>\n",
       "    <tr>\n",
       "      <th>1</th>\n",
       "      <td>75.00</td>\n",
       "      <td>83.00</td>\n",
       "      <td>17.00</td>\n",
       "      <td>22.00</td>\n",
       "      <td>19.40</td>\n",
       "      <td>38.08</td>\n",
       "      <td>57.86</td>\n",
       "      <td>11.30</td>\n",
       "      <td>10.20</td>\n",
       "      <td>44,235.00</td>\n",
       "      <td>...</td>\n",
       "      <td>0.29</td>\n",
       "      <td>48.77</td>\n",
       "      <td>419,978.29</td>\n",
       "      <td>7,356.33</td>\n",
       "      <td>127,363.50</td>\n",
       "      <td>443,237.97</td>\n",
       "      <td>78,105.00</td>\n",
       "      <td>23.20</td>\n",
       "      <td>WA</td>\n",
       "      <td>Cowlitz</td>\n",
       "    </tr>\n",
       "  </tbody>\n",
       "</table>\n",
       "<p>2 rows × 103 columns</p>\n",
       "</div>"
      ],
      "text/plain": [
       "   health_factors_pctile_within_state  length_of_life_pctile_within_state  \\\n",
       "0                               98.00                               93.00   \n",
       "1                               75.00                               83.00   \n",
       "\n",
       "   pct_smokers  pct_physically_inactive  pct_excessive_drinking  \\\n",
       "0        17.50                    27.60                   18.30   \n",
       "1        17.00                    22.00                   19.40   \n",
       "\n",
       "   preventable_hospitalization_rate  pct_some_college  \\\n",
       "0                             52.58             54.05   \n",
       "1                             38.08             57.86   \n",
       "\n",
       "   pct_frequent_mental_distress  pct_diabetic  median_household_income  \\\n",
       "0                         11.50         10.60                43,205.00   \n",
       "1                         11.30         10.20                44,235.00   \n",
       "\n",
       "       ...       tedsd_psyprob_1  retaildrug_amobarbital__schedule_2_  \\\n",
       "0      ...                  0.29                                48.77   \n",
       "1      ...                  0.29                                48.77   \n",
       "\n",
       "   retaildrug_amphetamine  retaildrug_fentanyl_base  \\\n",
       "0              419,978.29                  7,356.33   \n",
       "1              419,978.29                  7,356.33   \n",
       "\n",
       "   retaildrug_lisdexamfetamine  retaildrug_methylphenidate__dl_d_l_isomers_  \\\n",
       "0                   127,363.50                                   443,237.97   \n",
       "1                   127,363.50                                   443,237.97   \n",
       "\n",
       "   retaildrug_tapentadol  drug_overdose_mortality_rate  state        county  \n",
       "0              78,105.00                         22.00     WA  Grays Harbor  \n",
       "1              78,105.00                         23.20     WA       Cowlitz  \n",
       "\n",
       "[2 rows x 103 columns]"
      ]
     },
     "execution_count": 4,
     "metadata": {},
     "output_type": "execute_result"
    }
   ],
   "source": [
    "# this is final dataset to split into eval and train dataset\n",
    "query = 'select * from hackathon_opioid.best_features'\n",
    "best_features = bq.Query(query).execute().result().to_dataframe()\n",
    "best_features.shape\n",
    "best_features.head(2)"
   ]
  },
  {
   "cell_type": "code",
   "execution_count": 5,
   "metadata": {},
   "outputs": [
    {
     "data": {
      "text/plain": [
       "(3141, 25)"
      ]
     },
     "execution_count": 5,
     "metadata": {},
     "output_type": "execute_result"
    },
    {
     "data": {
      "text/html": [
       "<div>\n",
       "<style scoped>\n",
       "    .dataframe tbody tr th:only-of-type {\n",
       "        vertical-align: middle;\n",
       "    }\n",
       "\n",
       "    .dataframe tbody tr th {\n",
       "        vertical-align: top;\n",
       "    }\n",
       "\n",
       "    .dataframe thead th {\n",
       "        text-align: right;\n",
       "    }\n",
       "</style>\n",
       "<table border=\"1\" class=\"dataframe\">\n",
       "  <thead>\n",
       "    <tr style=\"text-align: right;\">\n",
       "      <th></th>\n",
       "      <th>state</th>\n",
       "      <th>state_name</th>\n",
       "      <th>county</th>\n",
       "      <th>mentally_unhealthy_days</th>\n",
       "      <th>physically_unhealthy_days</th>\n",
       "      <th>pct_frequent_mental_distress</th>\n",
       "      <th>pct_excessive_drinking</th>\n",
       "      <th>injury_death_rate</th>\n",
       "      <th>age_adjusted_mortality</th>\n",
       "      <th>pct_frequent_physical_distress</th>\n",
       "      <th>...</th>\n",
       "      <th>pct_unemployed</th>\n",
       "      <th>length_of_life_pctile_within_state</th>\n",
       "      <th>median_household_income</th>\n",
       "      <th>pct_physically_inactive</th>\n",
       "      <th>length_of_life_quartile_within_state</th>\n",
       "      <th>pct_children_in_poverty</th>\n",
       "      <th>income_20th_percentile</th>\n",
       "      <th>pct_children_eligible_free_lunch</th>\n",
       "      <th>pct_diabetic</th>\n",
       "      <th>drug_overdose_mortality_rate</th>\n",
       "    </tr>\n",
       "  </thead>\n",
       "  <tbody>\n",
       "    <tr>\n",
       "      <th>0</th>\n",
       "      <td>AK</td>\n",
       "      <td>Alaska</td>\n",
       "      <td>Skagway-Hoonah-Angoon</td>\n",
       "      <td>3.17</td>\n",
       "      <td>3.63</td>\n",
       "      <td>10.07</td>\n",
       "      <td>20.53</td>\n",
       "      <td>103.15</td>\n",
       "      <td>314.50</td>\n",
       "      <td>10.97</td>\n",
       "      <td>...</td>\n",
       "      <td>11.78</td>\n",
       "      <td>5.00</td>\n",
       "      <td>57,495.98</td>\n",
       "      <td>20.00</td>\n",
       "      <td>1.00</td>\n",
       "      <td>24.50</td>\n",
       "      <td>26,594.53</td>\n",
       "      <td>35.36</td>\n",
       "      <td>10.67</td>\n",
       "      <td>17.58</td>\n",
       "    </tr>\n",
       "    <tr>\n",
       "      <th>1</th>\n",
       "      <td>AK</td>\n",
       "      <td>Alaska</td>\n",
       "      <td>Wrangell-Petersburg</td>\n",
       "      <td>2.99</td>\n",
       "      <td>3.33</td>\n",
       "      <td>9.30</td>\n",
       "      <td>20.63</td>\n",
       "      <td>71.13</td>\n",
       "      <td>328.20</td>\n",
       "      <td>9.80</td>\n",
       "      <td>...</td>\n",
       "      <td>9.37</td>\n",
       "      <td>9.00</td>\n",
       "      <td>54,748.91</td>\n",
       "      <td>20.80</td>\n",
       "      <td>1.00</td>\n",
       "      <td>13.11</td>\n",
       "      <td>24,149.91</td>\n",
       "      <td>41.26</td>\n",
       "      <td>9.33</td>\n",
       "      <td>17.58</td>\n",
       "    </tr>\n",
       "    <tr>\n",
       "      <th>2</th>\n",
       "      <td>AL</td>\n",
       "      <td>Alabama</td>\n",
       "      <td>Macon</td>\n",
       "      <td>5.20</td>\n",
       "      <td>5.60</td>\n",
       "      <td>16.90</td>\n",
       "      <td>10.10</td>\n",
       "      <td>83.62</td>\n",
       "      <td>530.50</td>\n",
       "      <td>18.10</td>\n",
       "      <td>...</td>\n",
       "      <td>9.13</td>\n",
       "      <td>77.00</td>\n",
       "      <td>28,518.00</td>\n",
       "      <td>31.10</td>\n",
       "      <td>4.00</td>\n",
       "      <td>44.40</td>\n",
       "      <td>11,981.00</td>\n",
       "      <td>87.61</td>\n",
       "      <td>16.85</td>\n",
       "      <td>14.44</td>\n",
       "    </tr>\n",
       "    <tr>\n",
       "      <th>3</th>\n",
       "      <td>AL</td>\n",
       "      <td>Alabama</td>\n",
       "      <td>Pickens</td>\n",
       "      <td>5.00</td>\n",
       "      <td>5.10</td>\n",
       "      <td>15.90</td>\n",
       "      <td>11.40</td>\n",
       "      <td>94.15</td>\n",
       "      <td>515.50</td>\n",
       "      <td>16.40</td>\n",
       "      <td>...</td>\n",
       "      <td>8.22</td>\n",
       "      <td>56.00</td>\n",
       "      <td>31,933.00</td>\n",
       "      <td>33.60</td>\n",
       "      <td>3.00</td>\n",
       "      <td>34.50</td>\n",
       "      <td>11,224.00</td>\n",
       "      <td>55.06</td>\n",
       "      <td>15.50</td>\n",
       "      <td>14.44</td>\n",
       "    </tr>\n",
       "    <tr>\n",
       "      <th>4</th>\n",
       "      <td>AL</td>\n",
       "      <td>Alabama</td>\n",
       "      <td>Conecuh</td>\n",
       "      <td>5.30</td>\n",
       "      <td>5.80</td>\n",
       "      <td>17.10</td>\n",
       "      <td>10.30</td>\n",
       "      <td>97.75</td>\n",
       "      <td>542.60</td>\n",
       "      <td>18.45</td>\n",
       "      <td>...</td>\n",
       "      <td>10.74</td>\n",
       "      <td>81.00</td>\n",
       "      <td>29,101.00</td>\n",
       "      <td>33.50</td>\n",
       "      <td>4.00</td>\n",
       "      <td>41.20</td>\n",
       "      <td>10,693.00</td>\n",
       "      <td>82.91</td>\n",
       "      <td>16.85</td>\n",
       "      <td>14.44</td>\n",
       "    </tr>\n",
       "  </tbody>\n",
       "</table>\n",
       "<p>5 rows × 25 columns</p>\n",
       "</div>"
      ],
      "text/plain": [
       "  state state_name                 county  mentally_unhealthy_days  \\\n",
       "0    AK     Alaska  Skagway-Hoonah-Angoon                     3.17   \n",
       "1    AK     Alaska    Wrangell-Petersburg                     2.99   \n",
       "2    AL    Alabama                  Macon                     5.20   \n",
       "3    AL    Alabama                Pickens                     5.00   \n",
       "4    AL    Alabama                Conecuh                     5.30   \n",
       "\n",
       "   physically_unhealthy_days  pct_frequent_mental_distress  \\\n",
       "0                       3.63                         10.07   \n",
       "1                       3.33                          9.30   \n",
       "2                       5.60                         16.90   \n",
       "3                       5.10                         15.90   \n",
       "4                       5.80                         17.10   \n",
       "\n",
       "   pct_excessive_drinking  injury_death_rate  age_adjusted_mortality  \\\n",
       "0                   20.53             103.15                  314.50   \n",
       "1                   20.63              71.13                  328.20   \n",
       "2                   10.10              83.62                  530.50   \n",
       "3                   11.40              94.15                  515.50   \n",
       "4                   10.30              97.75                  542.60   \n",
       "\n",
       "   pct_frequent_physical_distress              ...               \\\n",
       "0                           10.97              ...                \n",
       "1                            9.80              ...                \n",
       "2                           18.10              ...                \n",
       "3                           16.40              ...                \n",
       "4                           18.45              ...                \n",
       "\n",
       "   pct_unemployed  length_of_life_pctile_within_state  \\\n",
       "0           11.78                                5.00   \n",
       "1            9.37                                9.00   \n",
       "2            9.13                               77.00   \n",
       "3            8.22                               56.00   \n",
       "4           10.74                               81.00   \n",
       "\n",
       "   median_household_income  pct_physically_inactive  \\\n",
       "0                57,495.98                    20.00   \n",
       "1                54,748.91                    20.80   \n",
       "2                28,518.00                    31.10   \n",
       "3                31,933.00                    33.60   \n",
       "4                29,101.00                    33.50   \n",
       "\n",
       "   length_of_life_quartile_within_state  pct_children_in_poverty  \\\n",
       "0                                  1.00                    24.50   \n",
       "1                                  1.00                    13.11   \n",
       "2                                  4.00                    44.40   \n",
       "3                                  3.00                    34.50   \n",
       "4                                  4.00                    41.20   \n",
       "\n",
       "   income_20th_percentile  pct_children_eligible_free_lunch  pct_diabetic  \\\n",
       "0               26,594.53                             35.36         10.67   \n",
       "1               24,149.91                             41.26          9.33   \n",
       "2               11,981.00                             87.61         16.85   \n",
       "3               11,224.00                             55.06         15.50   \n",
       "4               10,693.00                             82.91         16.85   \n",
       "\n",
       "   drug_overdose_mortality_rate  \n",
       "0                         17.58  \n",
       "1                         17.58  \n",
       "2                         14.44  \n",
       "3                         14.44  \n",
       "4                         14.44  \n",
       "\n",
       "[5 rows x 25 columns]"
      ]
     },
     "execution_count": 5,
     "metadata": {},
     "output_type": "execute_result"
    }
   ],
   "source": [
    "query = 'select * from hackathon_opioid.master_data'\n",
    "master_df = bq.Query(query).execute().result().to_dataframe()\n",
    "master_df.shape\n",
    "master_df.head()"
   ]
  },
  {
   "cell_type": "code",
   "execution_count": 6,
   "metadata": {},
   "outputs": [
    {
     "data": {
      "text/plain": [
       "(3141, 116)"
      ]
     },
     "execution_count": 6,
     "metadata": {},
     "output_type": "execute_result"
    },
    {
     "data": {
      "text/html": [
       "<div>\n",
       "<style scoped>\n",
       "    .dataframe tbody tr th:only-of-type {\n",
       "        vertical-align: middle;\n",
       "    }\n",
       "\n",
       "    .dataframe tbody tr th {\n",
       "        vertical-align: top;\n",
       "    }\n",
       "\n",
       "    .dataframe thead th {\n",
       "        text-align: right;\n",
       "    }\n",
       "</style>\n",
       "<table border=\"1\" class=\"dataframe\">\n",
       "  <thead>\n",
       "    <tr style=\"text-align: right;\">\n",
       "      <th></th>\n",
       "      <th>state</th>\n",
       "      <th>state_name</th>\n",
       "      <th>county</th>\n",
       "      <th>mentally_unhealthy_days</th>\n",
       "      <th>physically_unhealthy_days</th>\n",
       "      <th>pct_frequent_mental_distress</th>\n",
       "      <th>pct_excessive_drinking</th>\n",
       "      <th>injury_death_rate</th>\n",
       "      <th>age_adjusted_mortality</th>\n",
       "      <th>pct_frequent_physical_distress</th>\n",
       "      <th>...</th>\n",
       "      <th>tedsd_sub2_7</th>\n",
       "      <th>tedsd_sub3_7</th>\n",
       "      <th>tedsd_dsmcrit_14</th>\n",
       "      <th>tedsd_psyprob_1</th>\n",
       "      <th>retaildrug_amobarbital__schedule_2_</th>\n",
       "      <th>retaildrug_amphetamine</th>\n",
       "      <th>retaildrug_fentanyl_base</th>\n",
       "      <th>retaildrug_lisdexamfetamine</th>\n",
       "      <th>retaildrug_methylphenidate__dl_d_l_isomers_</th>\n",
       "      <th>retaildrug_tapentadol</th>\n",
       "    </tr>\n",
       "  </thead>\n",
       "  <tbody>\n",
       "    <tr>\n",
       "      <th>0</th>\n",
       "      <td>AK</td>\n",
       "      <td>Alaska</td>\n",
       "      <td>Skagway-Hoonah-Angoon</td>\n",
       "      <td>3.17</td>\n",
       "      <td>3.63</td>\n",
       "      <td>10.07</td>\n",
       "      <td>20.53</td>\n",
       "      <td>103.15</td>\n",
       "      <td>314.50</td>\n",
       "      <td>10.97</td>\n",
       "      <td>...</td>\n",
       "      <td>0.03</td>\n",
       "      <td>0.02</td>\n",
       "      <td>0.02</td>\n",
       "      <td>0.39</td>\n",
       "      <td>10.15</td>\n",
       "      <td>31,327.52</td>\n",
       "      <td>1,059.96</td>\n",
       "      <td>9,784.34</td>\n",
       "      <td>32,818.62</td>\n",
       "      <td>7,749.50</td>\n",
       "    </tr>\n",
       "    <tr>\n",
       "      <th>1</th>\n",
       "      <td>AK</td>\n",
       "      <td>Alaska</td>\n",
       "      <td>Wrangell-Petersburg</td>\n",
       "      <td>2.99</td>\n",
       "      <td>3.33</td>\n",
       "      <td>9.30</td>\n",
       "      <td>20.63</td>\n",
       "      <td>71.13</td>\n",
       "      <td>328.20</td>\n",
       "      <td>9.80</td>\n",
       "      <td>...</td>\n",
       "      <td>0.03</td>\n",
       "      <td>0.02</td>\n",
       "      <td>0.02</td>\n",
       "      <td>0.39</td>\n",
       "      <td>10.15</td>\n",
       "      <td>31,327.52</td>\n",
       "      <td>1,059.96</td>\n",
       "      <td>9,784.34</td>\n",
       "      <td>32,818.62</td>\n",
       "      <td>7,749.50</td>\n",
       "    </tr>\n",
       "    <tr>\n",
       "      <th>2</th>\n",
       "      <td>AL</td>\n",
       "      <td>Alabama</td>\n",
       "      <td>Macon</td>\n",
       "      <td>5.20</td>\n",
       "      <td>5.60</td>\n",
       "      <td>16.90</td>\n",
       "      <td>10.10</td>\n",
       "      <td>83.62</td>\n",
       "      <td>530.50</td>\n",
       "      <td>18.10</td>\n",
       "      <td>...</td>\n",
       "      <td>0.06</td>\n",
       "      <td>0.03</td>\n",
       "      <td>0.00</td>\n",
       "      <td>0.05</td>\n",
       "      <td>5.47</td>\n",
       "      <td>507,395.33</td>\n",
       "      <td>7,558.55</td>\n",
       "      <td>285,042.66</td>\n",
       "      <td>290,860.23</td>\n",
       "      <td>262,860.00</td>\n",
       "    </tr>\n",
       "    <tr>\n",
       "      <th>3</th>\n",
       "      <td>AL</td>\n",
       "      <td>Alabama</td>\n",
       "      <td>Pickens</td>\n",
       "      <td>5.00</td>\n",
       "      <td>5.10</td>\n",
       "      <td>15.90</td>\n",
       "      <td>11.40</td>\n",
       "      <td>94.15</td>\n",
       "      <td>515.50</td>\n",
       "      <td>16.40</td>\n",
       "      <td>...</td>\n",
       "      <td>0.06</td>\n",
       "      <td>0.03</td>\n",
       "      <td>0.00</td>\n",
       "      <td>0.05</td>\n",
       "      <td>5.47</td>\n",
       "      <td>507,395.33</td>\n",
       "      <td>7,558.55</td>\n",
       "      <td>285,042.66</td>\n",
       "      <td>290,860.23</td>\n",
       "      <td>262,860.00</td>\n",
       "    </tr>\n",
       "    <tr>\n",
       "      <th>4</th>\n",
       "      <td>AL</td>\n",
       "      <td>Alabama</td>\n",
       "      <td>Conecuh</td>\n",
       "      <td>5.30</td>\n",
       "      <td>5.80</td>\n",
       "      <td>17.10</td>\n",
       "      <td>10.30</td>\n",
       "      <td>97.75</td>\n",
       "      <td>542.60</td>\n",
       "      <td>18.45</td>\n",
       "      <td>...</td>\n",
       "      <td>0.06</td>\n",
       "      <td>0.03</td>\n",
       "      <td>0.00</td>\n",
       "      <td>0.05</td>\n",
       "      <td>5.47</td>\n",
       "      <td>507,395.33</td>\n",
       "      <td>7,558.55</td>\n",
       "      <td>285,042.66</td>\n",
       "      <td>290,860.23</td>\n",
       "      <td>262,860.00</td>\n",
       "    </tr>\n",
       "  </tbody>\n",
       "</table>\n",
       "<p>5 rows × 116 columns</p>\n",
       "</div>"
      ],
      "text/plain": [
       "  state state_name                 county  mentally_unhealthy_days  \\\n",
       "0    AK     Alaska  Skagway-Hoonah-Angoon                     3.17   \n",
       "1    AK     Alaska    Wrangell-Petersburg                     2.99   \n",
       "2    AL    Alabama                  Macon                     5.20   \n",
       "3    AL    Alabama                Pickens                     5.00   \n",
       "4    AL    Alabama                Conecuh                     5.30   \n",
       "\n",
       "   physically_unhealthy_days  pct_frequent_mental_distress  \\\n",
       "0                       3.63                         10.07   \n",
       "1                       3.33                          9.30   \n",
       "2                       5.60                         16.90   \n",
       "3                       5.10                         15.90   \n",
       "4                       5.80                         17.10   \n",
       "\n",
       "   pct_excessive_drinking  injury_death_rate  age_adjusted_mortality  \\\n",
       "0                   20.53             103.15                  314.50   \n",
       "1                   20.63              71.13                  328.20   \n",
       "2                   10.10              83.62                  530.50   \n",
       "3                   11.40              94.15                  515.50   \n",
       "4                   10.30              97.75                  542.60   \n",
       "\n",
       "   pct_frequent_physical_distress          ...            tedsd_sub2_7  \\\n",
       "0                           10.97          ...                    0.03   \n",
       "1                            9.80          ...                    0.03   \n",
       "2                           18.10          ...                    0.06   \n",
       "3                           16.40          ...                    0.06   \n",
       "4                           18.45          ...                    0.06   \n",
       "\n",
       "   tedsd_sub3_7  tedsd_dsmcrit_14  tedsd_psyprob_1  \\\n",
       "0          0.02              0.02             0.39   \n",
       "1          0.02              0.02             0.39   \n",
       "2          0.03              0.00             0.05   \n",
       "3          0.03              0.00             0.05   \n",
       "4          0.03              0.00             0.05   \n",
       "\n",
       "   retaildrug_amobarbital__schedule_2_  retaildrug_amphetamine  \\\n",
       "0                                10.15               31,327.52   \n",
       "1                                10.15               31,327.52   \n",
       "2                                 5.47              507,395.33   \n",
       "3                                 5.47              507,395.33   \n",
       "4                                 5.47              507,395.33   \n",
       "\n",
       "   retaildrug_fentanyl_base  retaildrug_lisdexamfetamine  \\\n",
       "0                  1,059.96                     9,784.34   \n",
       "1                  1,059.96                     9,784.34   \n",
       "2                  7,558.55                   285,042.66   \n",
       "3                  7,558.55                   285,042.66   \n",
       "4                  7,558.55                   285,042.66   \n",
       "\n",
       "   retaildrug_methylphenidate__dl_d_l_isomers_  retaildrug_tapentadol  \n",
       "0                                    32,818.62               7,749.50  \n",
       "1                                    32,818.62               7,749.50  \n",
       "2                                   290,860.23             262,860.00  \n",
       "3                                   290,860.23             262,860.00  \n",
       "4                                   290,860.23             262,860.00  \n",
       "\n",
       "[5 rows x 116 columns]"
      ]
     },
     "execution_count": 6,
     "metadata": {},
     "output_type": "execute_result"
    }
   ],
   "source": [
    "def drop_duplicate_columns(df):\n",
    "    # list comprehension of the cols that end with '_y'\n",
    "    to_drop = [x for x in df if x.endswith('_y')]\n",
    "    df.drop(to_drop, axis=1, inplace=True)\n",
    "\n",
    "df = pd.merge(master_df, best_features,  how='inner', on=['state','county'], suffixes=('', '_y'))\n",
    "drop_duplicate_columns(df)\n",
    "\n",
    "df.shape\n",
    "df.head()"
   ]
  },
  {
   "cell_type": "code",
   "execution_count": 7,
   "metadata": {},
   "outputs": [],
   "source": [
    "# Based on our EDA and multiple test we figured out below features are good representation of our data...\n",
    "\n",
    "target = ['drug_overdose_mortality_rate']\n",
    "categorical_cols = ['state']\n",
    "numerical_cols = ['mentally_unhealthy_days',\n",
    " 'physically_unhealthy_days',\n",
    " 'pct_frequent_mental_distress',\n",
    " 'pct_excessive_drinking',\n",
    " 'injury_death_rate',\n",
    " 'age_adjusted_mortality',\n",
    " 'pct_frequent_physical_distress',\n",
    " 'pct_smokers',\n",
    " 'pct_insufficient_sleep',\n",
    " 'preventable_hospitalization_rate',\n",
    " 'pct_some_college',\n",
    " 'pct_fair_or_poor_health',\n",
    " 'pct_unemployed',\n",
    " 'length_of_life_pctile_within_state',\n",
    " 'median_household_income',\n",
    " 'pct_physically_inactive',\n",
    " 'length_of_life_quartile_within_state',\n",
    " 'pct_children_in_poverty',\n",
    " 'income_20th_percentile',\n",
    " 'pct_children_eligible_free_lunch',\n",
    " 'pct_diabetic']"
   ]
  },
  {
   "cell_type": "code",
   "execution_count": 8,
   "metadata": {},
   "outputs": [],
   "source": [
    "features_df = df[categorical_cols + numerical_cols + target]"
   ]
  },
  {
   "cell_type": "code",
   "execution_count": 9,
   "metadata": {},
   "outputs": [],
   "source": [
    "label_df = features_df[target]\n",
    "del features_df['drug_overdose_mortality_rate']\n",
    "\n",
    "input_values = features_df[numerical_cols].values\n",
    "labels = label_df.values"
   ]
  },
  {
   "cell_type": "code",
   "execution_count": 10,
   "metadata": {},
   "outputs": [],
   "source": [
    "# Split training data into train and validation set\n",
    "X_train, X_val, y_train, y_val = train_test_split(input_values, labels, random_state=0)"
   ]
  },
  {
   "cell_type": "code",
   "execution_count": 11,
   "metadata": {},
   "outputs": [],
   "source": [
    "def preprocessing(data, strategy='mean', scaling='std'):\n",
    "    data = Imputer(strategy=strategy).fit_transform(data)\n",
    "    if scaling=='std':\n",
    "        data = StandardScaler().fit_transform(data)\n",
    "    return data\n",
    "  \n",
    "prep_train = preprocessing(X_train)\n",
    "prep_val = preprocessing(X_val)"
   ]
  },
  {
   "cell_type": "code",
   "execution_count": 12,
   "metadata": {},
   "outputs": [
    {
     "data": {
      "text/plain": [
       "array([0.60192218, 0.10407381])"
      ]
     },
     "execution_count": 12,
     "metadata": {},
     "output_type": "execute_result"
    },
    {
     "data": {
      "text/plain": [
       "<matplotlib.collections.PathCollection at 0x7f7f6e161eb8>"
      ]
     },
     "execution_count": 12,
     "metadata": {},
     "output_type": "execute_result"
    },
    {
     "data": {
      "text/plain": [
       "<matplotlib.collections.PathCollection at 0x7f7f6e0e7390>"
      ]
     },
     "execution_count": 12,
     "metadata": {},
     "output_type": "execute_result"
    },
    {
     "data": {
      "text/plain": [
       "<matplotlib.collections.PathCollection at 0x7f7f6e0e7438>"
      ]
     },
     "execution_count": 12,
     "metadata": {},
     "output_type": "execute_result"
    },
    {
     "data": {
      "text/plain": [
       "<matplotlib.collections.PathCollection at 0x7f7f6e0e7ac8>"
      ]
     },
     "execution_count": 12,
     "metadata": {},
     "output_type": "execute_result"
    },
    {
     "data": {
      "text/plain": [
       "Text(0.5,1,'Counties Clusters')"
      ]
     },
     "execution_count": 12,
     "metadata": {},
     "output_type": "execute_result"
    },
    {
     "data": {
      "text/plain": [
       "Text(0.5,0,'PCA 1')"
      ]
     },
     "execution_count": 12,
     "metadata": {},
     "output_type": "execute_result"
    },
    {
     "data": {
      "text/plain": [
       "Text(0.5,0,'PCA 2')"
      ]
     },
     "execution_count": 12,
     "metadata": {},
     "output_type": "execute_result"
    },
    {
     "data": {
      "text/plain": [
       "<matplotlib.legend.Legend at 0x7f7f6e0e7eb8>"
      ]
     },
     "execution_count": 12,
     "metadata": {},
     "output_type": "execute_result"
    },
    {
     "name": "stderr",
     "output_type": "stream",
     "text": [
      "/usr/local/envs/py3env/lib/python3.5/site-packages/matplotlib/font_manager.py:1320: UserWarning: findfont: Font family ['sans-serif'] not found. Falling back to DejaVu Sans\n",
      "  (prop.get_family(), self.defaultFamily[fontext]))\n"
     ]
    },
    {
     "data": {
      "image/png": "[encoded data removed]",
      "text/plain": [
       "<matplotlib.figure.Figure at 0x7f7f6e127f60>"
      ]
     },
     "metadata": {},
     "output_type": "display_data"
    }
   ],
   "source": [
    "# Let's decompose data for visualization\n",
    "\n",
    "pca = PCA(n_components=2)\n",
    "pca_train = pca.fit_transform(np.vstack((prep_train, prep_val)))\n",
    "explained_variance = pca.explained_variance_ratio_\n",
    "explained_variance\n",
    "\n",
    "pca_kmeans = KMeans(n_clusters=3, init='k-means++', max_iter=100, n_init=10, random_state=0)\n",
    "y_pca_kmeans = pca_kmeans.fit_predict(pca_train)\n",
    "\n",
    "\n",
    "plt.scatter(pca_train[y_pca_kmeans==0,0], pca_train[y_pca_kmeans == 0, 1], s=100, c='green', label='Cluster1')\n",
    "plt.scatter(pca_train[y_pca_kmeans==1,0], pca_train[y_pca_kmeans == 1, 1], s=100, c='blue', label='Cluster2')\n",
    "plt.scatter(pca_train[y_pca_kmeans==2,0], pca_train[y_pca_kmeans == 2, 1], s=100, c='red', label='Cluster3')\n",
    "plt.scatter(pca_kmeans.cluster_centers_[:,0], pca_kmeans.cluster_centers_[:,1], s=300, c='yellow', label = 'Centroids')\n",
    "plt.title('Counties Clusters')\n",
    "plt.xlabel('PCA 1')\n",
    "plt.xlabel('PCA 2')\n",
    "plt.legend()\n",
    "plt.show()"
   ]
  },
  {
   "cell_type": "code",
   "execution_count": 13,
   "metadata": {},
   "outputs": [],
   "source": [
    "model = KMeans(n_clusters=3, init='k-means++', max_iter=100, n_init=10, random_state=0)\n",
    "clust_labels = model.fit_predict(np.vstack((prep_train, prep_val)))\n",
    "      \n",
    "data = pd.DataFrame(clust_labels)\n",
    "col_name = 'KMeans_label'\n",
    "if col_name in df.columns:\n",
    "  del df[col_name]\n",
    "df.insert(loc=df.shape[1], column=col_name, value=data)"
   ]
  },
  {
   "cell_type": "markdown",
   "metadata": {},
   "source": [
    "### Check accuracy for KMeans label"
   ]
  },
  {
   "cell_type": "code",
   "execution_count": 24,
   "metadata": {},
   "outputs": [
    {
     "name": "stdout",
     "output_type": "stream",
     "text": [
      "Non matched counties in top 20 high risk counties:  ['Tishomingo', 'Johnston', 'Berkeley', 'Cabell', 'McDowell'] \n",
      "\n",
      "Total counties:  1848\n",
      "Distinct counties labeled as high risk by Model:  893 \n",
      "\n",
      "Matched counties: 835 out of 1000 high risk counties\n",
      "Accuracy:  0.835\n"
     ]
    }
   ],
   "source": [
    "\n",
    "#Check if our clustering labels marked high risk counties correctly\n",
    "high_risk_labeled_counties = df[df['KMeans_label']==2]\n",
    "\n",
    "high_death_rate_counties_index = df.drug_overdose_mortality_rate.sort_values(ascending=False)[:len(high_risk_labeled_counties)].index\n",
    "high_death_rate_counties = list(df[['state_name','county']].iloc[high_death_rate_counties_index, :]['county'])\n",
    "\n",
    "top20_risk_counties_index = df.drug_overdose_mortality_rate.sort_values(ascending=False)[:20].index\n",
    "top20_risk_counties =  list(df[['state_name','county']].iloc[top20_risk_counties_index, :]['county'])\n",
    "non_matched_counties = []\n",
    "for county in list(top20_risk_counties):\n",
    "  if county not in list(high_risk_labeled_counties.county):\n",
    "    non_matched_counties.append(county)\n",
    "print(\"Non matched counties in top 20 high risk counties: \", non_matched_counties, \"\\n\")\n",
    "\n",
    "matched_counties = []\n",
    "for county in list(high_death_rate_counties):\n",
    "  if county in list(high_risk_labeled_counties.county):\n",
    "    matched_counties.append(county)\n",
    "    \n",
    "print(\"Total counties: \", df.county.nunique())\n",
    "print(\"Distinct counties labeled as high risk by Model: \", high_risk_labeled_counties.county.nunique(), \"\\n\")\n",
    "print(\"Matched counties: {} out of {} high risk counties\".format(len(matched_counties), 1000))\n",
    "print(\"Accuracy: \", len(matched_counties)/1000)\n"
   ]
  },
  {
   "cell_type": "markdown",
   "metadata": {},
   "source": [
    "## Regression model"
   ]
  },
  {
   "cell_type": "code",
   "execution_count": 16,
   "metadata": {},
   "outputs": [
    {
     "data": {
      "text/plain": [
       "2.229751568728799"
      ]
     },
     "execution_count": 16,
     "metadata": {},
     "output_type": "execute_result"
    }
   ],
   "source": [
    "# Build regression model to derive weights for regression models\n",
    "from sklearn.linear_model import LinearRegression\n",
    "from sklearn.metrics import mean_squared_error\n",
    "\n",
    "sk_lin_reg_model = LinearRegression().fit(prep_train, y_train)\n",
    "predict_val = sk_lin_reg_model.predict(prep_val)\n",
    "loss = 0.5 * np.sqrt(mean_squared_error(predict_val, y_val))\n",
    "#loss = mean_squared_error(predict_val, y_val)\n",
    "loss"
   ]
  },
  {
   "cell_type": "code",
   "execution_count": 17,
   "metadata": {},
   "outputs": [
    {
     "data": {
      "text/plain": [
       "('Intercept: ', array([15.50524253]))"
      ]
     },
     "execution_count": 17,
     "metadata": {},
     "output_type": "execute_result"
    },
    {
     "data": {
      "text/plain": [
       "('Coefficients/Weights: ',\n",
       " array([[ 5.31878201,  3.00168225, -4.9015997 , -1.75958047,  1.94316963,\n",
       "         -0.24863079, -0.72964125,  0.64536857,  0.7555193 ,  0.40105322,\n",
       "         -0.32502674, -1.35972713,  0.47907198,  1.54595461,  0.59505765,\n",
       "         -0.61294012, -0.83132119, -0.85998715,  0.2737373 ,  0.42533616,\n",
       "         -1.20849431]]))"
      ]
     },
     "execution_count": 17,
     "metadata": {},
     "output_type": "execute_result"
    }
   ],
   "source": [
    "\"Intercept: \", sk_lin_reg_model.intercept_\n",
    "\"Coefficients/Weights: \", sk_lin_reg_model.coef_"
   ]
  },
  {
   "cell_type": "code",
   "execution_count": 18,
   "metadata": {},
   "outputs": [
    {
     "data": {
      "text/html": [
       "<div>\n",
       "<style scoped>\n",
       "    .dataframe tbody tr th:only-of-type {\n",
       "        vertical-align: middle;\n",
       "    }\n",
       "\n",
       "    .dataframe tbody tr th {\n",
       "        vertical-align: top;\n",
       "    }\n",
       "\n",
       "    .dataframe thead th {\n",
       "        text-align: right;\n",
       "    }\n",
       "</style>\n",
       "<table border=\"1\" class=\"dataframe\">\n",
       "  <thead>\n",
       "    <tr style=\"text-align: right;\">\n",
       "      <th></th>\n",
       "      <th>age_adjusted_mortality</th>\n",
       "      <th>income_20th_percentile</th>\n",
       "      <th>injury_death_rate</th>\n",
       "      <th>length_of_life_pctile_within_state</th>\n",
       "      <th>length_of_life_quartile_within_state</th>\n",
       "      <th>median_household_income</th>\n",
       "      <th>mentally_unhealthy_days</th>\n",
       "      <th>pct_children_eligible_free_lunch</th>\n",
       "      <th>pct_children_in_poverty</th>\n",
       "      <th>pct_diabetic</th>\n",
       "      <th>...</th>\n",
       "      <th>pct_frequent_mental_distress</th>\n",
       "      <th>pct_frequent_physical_distress</th>\n",
       "      <th>pct_insufficient_sleep</th>\n",
       "      <th>pct_physically_inactive</th>\n",
       "      <th>pct_smokers</th>\n",
       "      <th>pct_some_college</th>\n",
       "      <th>pct_unemployed</th>\n",
       "      <th>physically_unhealthy_days</th>\n",
       "      <th>preventable_hospitalization_rate</th>\n",
       "      <th>intecept</th>\n",
       "    </tr>\n",
       "  </thead>\n",
       "  <tbody>\n",
       "    <tr>\n",
       "      <th>0</th>\n",
       "      <td>-0.25</td>\n",
       "      <td>0.27</td>\n",
       "      <td>1.94</td>\n",
       "      <td>1.55</td>\n",
       "      <td>-0.83</td>\n",
       "      <td>0.60</td>\n",
       "      <td>5.32</td>\n",
       "      <td>0.43</td>\n",
       "      <td>-0.86</td>\n",
       "      <td>-1.21</td>\n",
       "      <td>...</td>\n",
       "      <td>-4.90</td>\n",
       "      <td>-0.73</td>\n",
       "      <td>0.76</td>\n",
       "      <td>-0.61</td>\n",
       "      <td>0.65</td>\n",
       "      <td>-0.33</td>\n",
       "      <td>0.48</td>\n",
       "      <td>3.00</td>\n",
       "      <td>0.40</td>\n",
       "      <td>15.26</td>\n",
       "    </tr>\n",
       "  </tbody>\n",
       "</table>\n",
       "<p>1 rows × 22 columns</p>\n",
       "</div>"
      ],
      "text/plain": [
       "   age_adjusted_mortality  income_20th_percentile  injury_death_rate  \\\n",
       "0                   -0.25                    0.27               1.94   \n",
       "\n",
       "   length_of_life_pctile_within_state  length_of_life_quartile_within_state  \\\n",
       "0                                1.55                                 -0.83   \n",
       "\n",
       "   median_household_income  mentally_unhealthy_days  \\\n",
       "0                     0.60                     5.32   \n",
       "\n",
       "   pct_children_eligible_free_lunch  pct_children_in_poverty  pct_diabetic  \\\n",
       "0                              0.43                    -0.86         -1.21   \n",
       "\n",
       "     ...     pct_frequent_mental_distress  pct_frequent_physical_distress  \\\n",
       "0    ...                            -4.90                           -0.73   \n",
       "\n",
       "   pct_insufficient_sleep  pct_physically_inactive  pct_smokers  \\\n",
       "0                    0.76                    -0.61         0.65   \n",
       "\n",
       "   pct_some_college  pct_unemployed  physically_unhealthy_days  \\\n",
       "0             -0.33            0.48                       3.00   \n",
       "\n",
       "   preventable_hospitalization_rate  intecept  \n",
       "0                              0.40     15.26  \n",
       "\n",
       "[1 rows x 22 columns]"
      ]
     },
     "execution_count": 18,
     "metadata": {},
     "output_type": "execute_result"
    }
   ],
   "source": [
    "coefficient_df = pd.DataFrame(dict(zip(numerical_cols, sk_lin_reg_model.coef_.reshape(-1,1))))\n",
    "coefficient_df['intecept'] = np.array([15.26071996])\n",
    "coefficient_df.head(5)"
   ]
  },
  {
   "cell_type": "markdown",
   "metadata": {},
   "source": [
    "### Clustering model with sklearn modules"
   ]
  },
  {
   "cell_type": "code",
   "execution_count": 19,
   "metadata": {},
   "outputs": [],
   "source": [
    "# Clustering with scikit learn\n",
    "from sklearn.cluster import KMeans, AgglomerativeClustering, AffinityPropagation #For clustering\n",
    "from sklearn.mixture import GaussianMixture #For GMM clustering\n",
    "seed = 0\n",
    "models = []\n",
    "nclust=3\n",
    "models.append(('Gaussian_Mixture', GaussianMixture(n_components=nclust,init_params='kmeans', max_iter=100, random_state=seed)))\n",
    "models.append(('Affinity_Propagation', AffinityPropagation(damping = 0.5, max_iter = 100, affinity = 'euclidean')))\n",
    "models.append(('Agglomerative_Clustering', AgglomerativeClustering(n_clusters=nclust, affinity = 'euclidean', linkage = 'ward')))\n",
    "models.append(('KMeans', KMeans(n_clusters=nclust, init='k-means++', max_iter=100, n_init=10, random_state=seed)))\n",
    "  \n",
    "def sk_cluster(data, models):\n",
    "  for name, model in models:\n",
    "    if name == 'Gaussian_Mixture':\n",
    "      model.fit(data)\n",
    "      cent = 0\n",
    "      clust_labels = model.predict(data)\n",
    "\n",
    "    elif name == 'Agglomerative_Clustering':\n",
    "      clust_labels = model.fit_predict(data)\n",
    "      cent = 0\n",
    "\n",
    "    else:\n",
    "      model.fit(data)\n",
    "      clust_labels = model.predict(data)\n",
    "      cent = model.cluster_centers_\n",
    "      \n",
    "    data_df = pd.DataFrame(clust_labels)\n",
    "    col_name = str(name)+'_label'\n",
    "    if col_name in df.columns:\n",
    "      del df[col_name]\n",
    "    df.insert(loc=df.shape[1], column=col_name, value=data_df)\n",
    "  \n",
    "  return (clust_labels, cent) # It will return only KMeans centroids and cluster label for visualization in datalab\n",
    "\n",
    "clusters_df = sk_cluster(np.vstack((prep_train,prep_val)), models) # Cluster centers are available for KMeans and Affinity Prog"
   ]
  },
  {
   "cell_type": "code",
   "execution_count": 20,
   "metadata": {},
   "outputs": [
    {
     "name": "stdout",
     "output_type": "stream",
     "text": [
      "Copying file://eda_output/counties_cluster.csv [Content-Type=text/csv]...\n",
      "/ [1 files][ 89.9 KiB/ 89.9 KiB]                                                \n",
      "Operation completed over 1 objects/89.9 KiB.                                     \n"
     ]
    }
   ],
   "source": [
    "labels_df = df[['state','state_name','county','Gaussian_Mixture_label','Affinity_Propagation_label',\n",
    "                                           'Agglomerative_Clustering_label','KMeans_label']]\n",
    "\n",
    "labels_df.to_csv('eda_output/counties_cluster.csv', index = False)\n",
    "\n",
    "!gsutil cp 'eda_output/counties_cluster.csv' 'gs://opioid-care/eda_output/counties_cluster.csv'"
   ]
  },
  {
   "cell_type": "code",
   "execution_count": 21,
   "metadata": {},
   "outputs": [],
   "source": [
    "# Write data to Bigquery\n",
    "import google.datalab.bigquery as bq\n",
    "\n",
    "project = 'opioid-care'\n",
    "bq_dataset = 'hackathon_opioid'\n",
    "bq_table = 'counties_cluster'\n",
    "\n",
    "def write_to_bigquery(df, project, bq_dataset, bq_table):\n",
    "    # Define BigQuery dataset and table\n",
    "    dataset = bq.Dataset(bq_dataset)\n",
    "    table = bq.Table(bq_dataset + '.' + bq_table)\n",
    "\n",
    "    # Create BigQuery dataset\n",
    "    if not dataset.exists():\n",
    "        dataset.create()\n",
    "\n",
    "    # Create or overwrite the existing table if it exists\n",
    "    table_schema = bq.Schema.from_data(df)\n",
    "    table.create(schema = table_schema, overwrite = True)\n",
    "\n",
    "    # Write the DataFrame to a BigQuery table\n",
    "    try:\n",
    "        table.insert(df)\n",
    "        print(\"Table successfully written to BigQuery\")\n",
    "    except IOError as e:\n",
    "        print(e, \"Write operation failed\")"
   ]
  },
  {
   "cell_type": "code",
   "execution_count": 22,
   "metadata": {},
   "outputs": [
    {
     "name": "stdout",
     "output_type": "stream",
     "text": [
      "Table successfully written to BigQuery\n"
     ]
    }
   ],
   "source": [
    "# Write features to bigquery table\n",
    "write_to_bigquery(labels_df, project, bq_dataset, bq_table)"
   ]
  },
  {
   "cell_type": "code",
   "execution_count": 23,
   "metadata": {},
   "outputs": [
    {
     "name": "stdout",
     "output_type": "stream",
     "text": [
      "Table successfully written to BigQuery\n"
     ]
    }
   ],
   "source": [
    "write_to_bigquery(coefficient_df, project, bq_dataset, 'regression_coefficient')"
   ]
  },
  {
   "cell_type": "code",
   "execution_count": null,
   "metadata": {},
   "outputs": [],
   "source": []
  },
  {
   "cell_type": "code",
   "execution_count": null,
   "metadata": {},
   "outputs": [],
   "source": []
  }
 ],
 "metadata": {
  "kernelspec": {
   "display_name": "Python 3",
   "language": "python",
   "name": "python3"
  },
  "language_info": {
   "codemirror_mode": {
    "name": "ipython",
    "version": 3
   },
   "file_extension": ".py",
   "mimetype": "text/x-python",
   "name": "python",
   "nbconvert_exporter": "python",
   "pygments_lexer": "ipython3",
   "version": "3.5.6"
  }
 },
 "nbformat": 4,
 "nbformat_minor": 2
}
